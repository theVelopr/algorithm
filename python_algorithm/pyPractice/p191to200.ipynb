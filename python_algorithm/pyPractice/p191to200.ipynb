{
 "cells": [
  {
   "cell_type": "markdown",
   "id": "7110de04",
   "metadata": {},
   "source": [
    "### 191\n",
    "\n",
    "data에는 매수한 종목들의 OHLC (open/high/low/close) 가격 정보가 바인딩 되어있다.\n",
    "\n",
    "data = [\n",
    "<br>    [ 2000,  3050,  2050,  1980],\n",
    "<br>    [ 7500,  2050,  2050,  1980],\n",
    "<br>    [15450, 15050, 15550, 14900]\n",
    "<br>]\n",
    "\n",
    "수수료를 0.014 %로 가정할 때, 각 가격에 수수료를 포함한 가격을 한라인에 하나씩 출력하라."
   ]
  },
  {
   "cell_type": "code",
   "execution_count": 3,
   "id": "7c487f2b",
   "metadata": {},
   "outputs": [
    {
     "name": "stdout",
     "output_type": "stream",
     "text": [
      "2000.28\n",
      "3050.427\n",
      "2050.2870000000003\n",
      "1980.2772\n",
      "7501.05\n",
      "2050.2870000000003\n",
      "2050.2870000000003\n",
      "1980.2772\n",
      "15452.163\n",
      "15052.107\n",
      "15552.177\n",
      "14902.086000000001\n"
     ]
    }
   ],
   "source": [
    "data = [\n",
    "    [ 2000,  3050,  2050,  1980],\n",
    "    [ 7500,  2050,  2050,  1980],\n",
    "    [15450, 15050, 15550, 14900]\n",
    "]\n",
    "\n",
    "for row in data :\n",
    "    for col in row :\n",
    "        print(col * 1.00014)"
   ]
  }
 ],
 "metadata": {
  "kernelspec": {
   "display_name": "Python 3",
   "language": "python",
   "name": "python3"
  },
  "language_info": {
   "codemirror_mode": {
    "name": "ipython",
    "version": 3
   },
   "file_extension": ".py",
   "mimetype": "text/x-python",
   "name": "python",
   "nbconvert_exporter": "python",
   "pygments_lexer": "ipython3",
   "version": "3.8.8"
  }
 },
 "nbformat": 4,
 "nbformat_minor": 5
}
