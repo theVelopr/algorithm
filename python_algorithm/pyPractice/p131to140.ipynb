{
 "cells": [
  {
   "cell_type": "markdown",
   "id": "a1358218",
   "metadata": {},
   "source": [
    "131"
   ]
  },
  {
   "cell_type": "code",
   "execution_count": 1,
   "id": "97a9296a",
   "metadata": {},
   "outputs": [
    {
     "name": "stdout",
     "output_type": "stream",
     "text": [
      "사과\n",
      "귤\n",
      "수박\n"
     ]
    }
   ],
   "source": [
    "과일 = [\"사과\", \"귤\", \"수박\"]\n",
    "for 변수 in 과일:\n",
    "    print(변수)"
   ]
  },
  {
   "cell_type": "markdown",
   "id": "8da9d4dc",
   "metadata": {},
   "source": [
    "132\n"
   ]
  },
  {
   "cell_type": "code",
   "execution_count": 2,
   "id": "d22f3c07",
   "metadata": {},
   "outputs": [
    {
     "name": "stdout",
     "output_type": "stream",
     "text": [
      "#####\n",
      "#####\n",
      "#####\n"
     ]
    }
   ],
   "source": [
    "과일 = [\"사과\", \"귤\", \"수박\"]\n",
    "for 변수 in 과일:\n",
    "  print(\"#####\")"
   ]
  },
  {
   "cell_type": "markdown",
   "id": "3eb4223c",
   "metadata": {},
   "source": [
    "133 "
   ]
  },
  {
   "cell_type": "code",
   "execution_count": 3,
   "id": "5f12860c",
   "metadata": {},
   "outputs": [
    {
     "name": "stdout",
     "output_type": "stream",
     "text": [
      "A\n",
      "B\n",
      "C\n"
     ]
    }
   ],
   "source": [
    "for 변수 in [\"A\", \"B\", \"C\"]:\n",
    "  print(변수)"
   ]
  },
  {
   "cell_type": "markdown",
   "id": "2e9aeef0",
   "metadata": {},
   "source": [
    "134 "
   ]
  },
  {
   "cell_type": "code",
   "execution_count": 4,
   "id": "079f1bb9",
   "metadata": {},
   "outputs": [
    {
     "name": "stdout",
     "output_type": "stream",
     "text": [
      "출력: A\n",
      "출력: B\n",
      "출력: C\n"
     ]
    }
   ],
   "source": [
    "for 변수 in [\"A\", \"B\", \"C\"]:\n",
    "  print(\"출력:\", 변수)"
   ]
  },
  {
   "cell_type": "markdown",
   "id": "eebeb81a",
   "metadata": {},
   "source": [
    "135"
   ]
  },
  {
   "cell_type": "code",
   "execution_count": 5,
   "id": "78f0e27c",
   "metadata": {},
   "outputs": [
    {
     "name": "stdout",
     "output_type": "stream",
     "text": [
      "변환: a\n",
      "변환: b\n",
      "변환: c\n"
     ]
    }
   ],
   "source": [
    "for 변수 in [\"A\", \"B\", \"C\"]:\n",
    "  b = 변수.lower()\n",
    "  print(\"변환:\", b)"
   ]
  },
  {
   "cell_type": "markdown",
   "id": "da4325f1",
   "metadata": {},
   "source": [
    "136"
   ]
  },
  {
   "cell_type": "code",
   "execution_count": 7,
   "id": "822b730f",
   "metadata": {},
   "outputs": [
    {
     "name": "stdout",
     "output_type": "stream",
     "text": [
      "10\n",
      "20\n",
      "30\n"
     ]
    }
   ],
   "source": [
    "for 변수 in [10, 20, 30] :\n",
    "    print(변수)"
   ]
  },
  {
   "cell_type": "markdown",
   "id": "d4f44386",
   "metadata": {},
   "source": [
    "137"
   ]
  },
  {
   "cell_type": "code",
   "execution_count": 8,
   "id": "6f862766",
   "metadata": {},
   "outputs": [
    {
     "name": "stdout",
     "output_type": "stream",
     "text": [
      "10\n",
      "20\n",
      "30\n"
     ]
    }
   ],
   "source": [
    "for 변수 in [10, 20, 30] :\n",
    "    print(변수)"
   ]
  },
  {
   "cell_type": "markdown",
   "id": "86f60fcb",
   "metadata": {},
   "source": [
    "138"
   ]
  },
  {
   "cell_type": "code",
   "execution_count": 9,
   "id": "1c011b8f",
   "metadata": {},
   "outputs": [
    {
     "name": "stdout",
     "output_type": "stream",
     "text": [
      "10\n",
      "-------\n",
      "20\n",
      "-------\n",
      "30\n",
      "-------\n"
     ]
    }
   ],
   "source": [
    "for 변수 in [10, 20, 30]:\n",
    "  print(변수)\n",
    "  print(\"-------\")"
   ]
  },
  {
   "cell_type": "markdown",
   "id": "d847f312",
   "metadata": {},
   "source": [
    "139"
   ]
  },
  {
   "cell_type": "code",
   "execution_count": 11,
   "id": "81fb9634",
   "metadata": {},
   "outputs": [
    {
     "name": "stdout",
     "output_type": "stream",
     "text": [
      "++++\n",
      "10\n",
      "20\n",
      "30\n"
     ]
    }
   ],
   "source": [
    "print(\"++++\")\n",
    "for 변수 in [10, 20, 30]:\n",
    "  print(변수)"
   ]
  },
  {
   "cell_type": "markdown",
   "id": "2d4c42e1",
   "metadata": {},
   "source": [
    "140"
   ]
  },
  {
   "cell_type": "code",
   "execution_count": 12,
   "id": "326992f0",
   "metadata": {},
   "outputs": [
    {
     "name": "stdout",
     "output_type": "stream",
     "text": [
      "-------\n",
      "-------\n",
      "-------\n",
      "-------\n"
     ]
    }
   ],
   "source": [
    "for 변수 in [1, 2, 3, 4]:\n",
    "  print(\"-------\")"
   ]
  }
 ],
 "metadata": {
  "kernelspec": {
   "display_name": "Python 3",
   "language": "python",
   "name": "python3"
  },
  "language_info": {
   "codemirror_mode": {
    "name": "ipython",
    "version": 3
   },
   "file_extension": ".py",
   "mimetype": "text/x-python",
   "name": "python",
   "nbconvert_exporter": "python",
   "pygments_lexer": "ipython3",
   "version": "3.8.8"
  }
 },
 "nbformat": 4,
 "nbformat_minor": 5
}
