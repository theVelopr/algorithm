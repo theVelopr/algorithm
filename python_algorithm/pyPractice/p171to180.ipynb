{
 "cells": [
  {
   "cell_type": "markdown",
   "id": "606e8ffb",
   "metadata": {},
   "source": [
    "### 171"
   ]
  },
  {
   "cell_type": "code",
   "execution_count": 5,
   "id": "03396b8e",
   "metadata": {},
   "outputs": [
    {
     "name": "stdout",
     "output_type": "stream",
     "text": [
      "32100\n",
      "32150\n",
      "32000\n",
      "32500\n",
      "\n",
      "32100\n",
      "32150\n",
      "32000\n",
      "32500\n"
     ]
    }
   ],
   "source": [
    "price_list = [32100, 32150, 32000, 32500]\n",
    "\n",
    "for i in range(4):\n",
    "    print(price_list[i])\n",
    "\n",
    "    # or\n",
    "print(\"\")\n",
    "for i in range(len(price_list)):\n",
    "    print(price_list[i])\n"
   ]
  },
  {
   "cell_type": "markdown",
   "id": "c9e00f63",
   "metadata": {},
   "source": [
    "### 172"
   ]
  },
  {
   "cell_type": "code",
   "execution_count": 6,
   "id": "8471f787",
   "metadata": {},
   "outputs": [
    {
     "name": "stdout",
     "output_type": "stream",
     "text": [
      "0 32100\n",
      "1 32150\n",
      "2 32000\n",
      "3 32500\n",
      "\n",
      "0 32100\n",
      "1 32150\n",
      "2 32000\n",
      "3 32500\n"
     ]
    }
   ],
   "source": [
    "price_list = [32100, 32150, 32000, 32500]\n",
    "\n",
    "for i in range(4) :\n",
    "    print(i, price_list[i])\n",
    "\n",
    "print(\"\")\n",
    "\n",
    "for i, data in enumerate(price_list):\n",
    "    print(i, data)"
   ]
  },
  {
   "cell_type": "markdown",
   "id": "c75bbf1a",
   "metadata": {},
   "source": [
    "### 173"
   ]
  },
  {
   "cell_type": "code",
   "execution_count": 10,
   "id": "f0d76cbe",
   "metadata": {},
   "outputs": [
    {
     "name": "stdout",
     "output_type": "stream",
     "text": [
      "3 32100\n",
      "2 32150\n",
      "1 32000\n",
      "0 32500\n",
      "3 32100\n",
      "2 32150\n",
      "1 32000\n",
      "0 32500\n"
     ]
    }
   ],
   "source": [
    "price_list = [32100, 32150, 32000, 32500]\n",
    "\n",
    "##for i, data in enumerate(price_list):\n",
    "##    print(i[:-1], data)\n",
    "\n",
    "for i in range(len(price_list)):\n",
    "    print(3 - i, price_list[i])\n",
    "\n",
    "for i in range(len(price_list)):\n",
    "    print((len(price_list) - 1) - i, price_list[i])"
   ]
  },
  {
   "cell_type": "markdown",
   "id": "23621db4",
   "metadata": {},
   "source": [
    "### 174"
   ]
  },
  {
   "cell_type": "code",
   "execution_count": 14,
   "id": "8b37185e",
   "metadata": {},
   "outputs": [
    {
     "name": "stdout",
     "output_type": "stream",
     "text": [
      "100 32150\n",
      "110 32000\n",
      "120 32500\n"
     ]
    }
   ],
   "source": [
    "price_list = [32100, 32150, 32000, 32500]\n",
    "\n",
    "#for i in range(len(price_list)) :\n",
    "#    print((10*i + 100), price_list[i+1])\n",
    "# The result showed the same but I got index error from this coding.\n",
    "\n",
    "for i in range(1, 4) :\n",
    "    print(90 + 10* i, price_list[i])"
   ]
  },
  {
   "cell_type": "code",
   "execution_count": null,
   "id": "fe0ecb5b",
   "metadata": {},
   "outputs": [],
   "source": []
  }
 ],
 "metadata": {
  "kernelspec": {
   "display_name": "Python 3",
   "language": "python",
   "name": "python3"
  },
  "language_info": {
   "codemirror_mode": {
    "name": "ipython",
    "version": 3
   },
   "file_extension": ".py",
   "mimetype": "text/x-python",
   "name": "python",
   "nbconvert_exporter": "python",
   "pygments_lexer": "ipython3",
   "version": "3.8.8"
  }
 },
 "nbformat": 4,
 "nbformat_minor": 5
}
