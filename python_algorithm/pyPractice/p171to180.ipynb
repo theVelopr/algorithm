{
 "cells": [
  {
   "cell_type": "markdown",
   "id": "16187b51",
   "metadata": {},
   "source": [
    "### 171"
   ]
  },
  {
   "cell_type": "code",
   "execution_count": 5,
   "id": "698e7b6f",
   "metadata": {},
   "outputs": [
    {
     "name": "stdout",
     "output_type": "stream",
     "text": [
      "32100\n",
      "32150\n",
      "32000\n",
      "32500\n",
      "\n",
      "32100\n",
      "32150\n",
      "32000\n",
      "32500\n"
     ]
    }
   ],
   "source": [
    "price_list = [32100, 32150, 32000, 32500]\n",
    "\n",
    "for i in range(4):\n",
    "    print(price_list[i])\n",
    "\n",
    "    # or\n",
    "print(\"\")\n",
    "for i in range(len(price_list)):\n",
    "    print(price_list[i])\n"
   ]
  },
  {
   "cell_type": "markdown",
   "id": "9f7b72d7",
   "metadata": {},
   "source": [
    "### 172"
   ]
  },
  {
   "cell_type": "code",
   "execution_count": 6,
   "id": "92a0fed5",
   "metadata": {},
   "outputs": [
    {
     "name": "stdout",
     "output_type": "stream",
     "text": [
      "0 32100\n",
      "1 32150\n",
      "2 32000\n",
      "3 32500\n",
      "\n",
      "0 32100\n",
      "1 32150\n",
      "2 32000\n",
      "3 32500\n"
     ]
    }
   ],
   "source": [
    "price_list = [32100, 32150, 32000, 32500]\n",
    "\n",
    "for i in range(4) :\n",
    "    print(i, price_list[i])\n",
    "\n",
    "print(\"\")\n",
    "\n",
    "for i, data in enumerate(price_list):\n",
    "    print(i, data)"
   ]
  },
  {
   "cell_type": "markdown",
   "id": "db4ecced",
   "metadata": {},
   "source": [
    "### 173"
   ]
  },
  {
   "cell_type": "code",
   "execution_count": 10,
   "id": "a5db7377",
   "metadata": {},
   "outputs": [
    {
     "name": "stdout",
     "output_type": "stream",
     "text": [
      "3 32100\n",
      "2 32150\n",
      "1 32000\n",
      "0 32500\n",
      "3 32100\n",
      "2 32150\n",
      "1 32000\n",
      "0 32500\n"
     ]
    }
   ],
   "source": [
    "price_list = [32100, 32150, 32000, 32500]\n",
    "\n",
    "##for i, data in enumerate(price_list):\n",
    "##    print(i[:-1], data)\n",
    "\n",
    "for i in range(len(price_list)):\n",
    "    print(3 - i, price_list[i])\n",
    "\n",
    "for i in range(len(price_list)):\n",
    "    print((len(price_list) - 1) - i, price_list[i])"
   ]
  },
  {
   "cell_type": "markdown",
   "id": "e00870ad",
   "metadata": {},
   "source": [
    "### 174"
   ]
  },
  {
   "cell_type": "code",
   "execution_count": 14,
   "id": "f7ae7dae",
   "metadata": {},
   "outputs": [
    {
     "name": "stdout",
     "output_type": "stream",
     "text": [
      "100 32150\n",
      "110 32000\n",
      "120 32500\n"
     ]
    }
   ],
   "source": [
    "price_list = [32100, 32150, 32000, 32500]\n",
    "\n",
    "#for i in range(len(price_list)) :\n",
    "#    print((10*i + 100), price_list[i+1])\n",
    "# The result showed the same but I got index error from this coding.\n",
    "\n",
    "for i in range(1, 4) :\n",
    "    print(90 + 10* i, price_list[i])"
   ]
  },
  {
   "cell_type": "markdown",
   "id": "ac23e073",
   "metadata": {},
   "source": [
    "### 175"
   ]
  },
  {
   "cell_type": "code",
   "execution_count": 17,
   "id": "0fe595b6",
   "metadata": {},
   "outputs": [
    {
     "name": "stdout",
     "output_type": "stream",
     "text": [
      "가 나\n",
      "나 다\n",
      "다 라\n"
     ]
    }
   ],
   "source": [
    "my_list = [\"가\", \"나\", \"다\", \"라\"]\n",
    "\n",
    "for i in range(0,3) :\n",
    "    print(my_list[i], my_list[i+1])"
   ]
  },
  {
   "cell_type": "markdown",
   "id": "bb145b4a",
   "metadata": {},
   "source": [
    "### 176"
   ]
  },
  {
   "cell_type": "code",
   "execution_count": 18,
   "id": "67e17f16",
   "metadata": {},
   "outputs": [
    {
     "name": "stdout",
     "output_type": "stream",
     "text": [
      "가 나 다\n",
      "나 다 라\n",
      "다 라 마\n"
     ]
    }
   ],
   "source": [
    "my_list = [\"가\", \"나\", \"다\", \"라\", \"마\"]\n",
    "\n",
    "for i in range (0, 3) :\n",
    "    print(my_list[i], my_list[i+1], my_list[i+2])"
   ]
  },
  {
   "cell_type": "code",
   "execution_count": null,
   "id": "ec5e77ff",
   "metadata": {},
   "outputs": [],
   "source": []
  }
 ],
 "metadata": {
  "kernelspec": {
   "display_name": "Python 3",
   "language": "python",
   "name": "python3"
  },
  "language_info": {
   "codemirror_mode": {
    "name": "ipython",
    "version": 3
   },
   "file_extension": ".py",
   "mimetype": "text/x-python",
   "name": "python",
   "nbconvert_exporter": "python",
   "pygments_lexer": "ipython3",
   "version": "3.8.8"
  }
 },
 "nbformat": 4,
 "nbformat_minor": 5
}
