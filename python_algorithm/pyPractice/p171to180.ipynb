{
 "cells": [
  {
   "cell_type": "markdown",
   "id": "8bd46dda",
   "metadata": {},
   "source": [
    "### 171"
   ]
  },
  {
   "cell_type": "code",
   "execution_count": 5,
   "id": "41231794",
   "metadata": {},
   "outputs": [
    {
     "name": "stdout",
     "output_type": "stream",
     "text": [
      "32100\n",
      "32150\n",
      "32000\n",
      "32500\n",
      "\n",
      "32100\n",
      "32150\n",
      "32000\n",
      "32500\n"
     ]
    }
   ],
   "source": [
    "price_list = [32100, 32150, 32000, 32500]\n",
    "\n",
    "for i in range(4):\n",
    "    print(price_list[i])\n",
    "\n",
    "    # or\n",
    "print(\"\")\n",
    "for i in range(len(price_list)):\n",
    "    print(price_list[i])\n"
   ]
  },
  {
   "cell_type": "markdown",
   "id": "339fba7d",
   "metadata": {},
   "source": [
    "### 172"
   ]
  },
  {
   "cell_type": "code",
   "execution_count": 6,
   "id": "b6baa92f",
   "metadata": {},
   "outputs": [
    {
     "name": "stdout",
     "output_type": "stream",
     "text": [
      "0 32100\n",
      "1 32150\n",
      "2 32000\n",
      "3 32500\n",
      "\n",
      "0 32100\n",
      "1 32150\n",
      "2 32000\n",
      "3 32500\n"
     ]
    }
   ],
   "source": [
    "price_list = [32100, 32150, 32000, 32500]\n",
    "\n",
    "for i in range(4) :\n",
    "    print(i, price_list[i])\n",
    "\n",
    "print(\"\")\n",
    "\n",
    "for i, data in enumerate(price_list):\n",
    "    print(i, data)"
   ]
  },
  {
   "cell_type": "markdown",
   "id": "ab22b0d2",
   "metadata": {},
   "source": [
    "### 173"
   ]
  },
  {
   "cell_type": "code",
   "execution_count": 10,
   "id": "f9b2a644",
   "metadata": {},
   "outputs": [
    {
     "name": "stdout",
     "output_type": "stream",
     "text": [
      "3 32100\n",
      "2 32150\n",
      "1 32000\n",
      "0 32500\n",
      "3 32100\n",
      "2 32150\n",
      "1 32000\n",
      "0 32500\n"
     ]
    }
   ],
   "source": [
    "price_list = [32100, 32150, 32000, 32500]\n",
    "\n",
    "##for i, data in enumerate(price_list):\n",
    "##    print(i[:-1], data)\n",
    "\n",
    "for i in range(len(price_list)):\n",
    "    print(3 - i, price_list[i])\n",
    "\n",
    "for i in range(len(price_list)):\n",
    "    print((len(price_list) - 1) - i, price_list[i])"
   ]
  },
  {
   "cell_type": "markdown",
   "id": "785989c4",
   "metadata": {},
   "source": [
    "### 174"
   ]
  },
  {
   "cell_type": "code",
   "execution_count": 14,
   "id": "6236949f",
   "metadata": {},
   "outputs": [
    {
     "name": "stdout",
     "output_type": "stream",
     "text": [
      "100 32150\n",
      "110 32000\n",
      "120 32500\n"
     ]
    }
   ],
   "source": [
    "price_list = [32100, 32150, 32000, 32500]\n",
    "\n",
    "#for i in range(len(price_list)) :\n",
    "#    print((10*i + 100), price_list[i+1])\n",
    "# The result showed the same but I got index error from this coding.\n",
    "\n",
    "for i in range(1, 4) :\n",
    "    print(90 + 10* i, price_list[i])"
   ]
  },
  {
   "cell_type": "markdown",
   "id": "a0b4fe6e",
   "metadata": {},
   "source": [
    "### 175"
   ]
  },
  {
   "cell_type": "code",
   "execution_count": 17,
   "id": "eb46eb73",
   "metadata": {},
   "outputs": [
    {
     "name": "stdout",
     "output_type": "stream",
     "text": [
      "가 나\n",
      "나 다\n",
      "다 라\n"
     ]
    }
   ],
   "source": [
    "my_list = [\"가\", \"나\", \"다\", \"라\"]\n",
    "\n",
    "for i in range(0,3) :\n",
    "    print(my_list[i], my_list[i+1])"
   ]
  },
  {
   "cell_type": "markdown",
   "id": "c7c52a89",
   "metadata": {},
   "source": [
    "### 176"
   ]
  },
  {
   "cell_type": "code",
   "execution_count": 18,
   "id": "2b14ec9c",
   "metadata": {},
   "outputs": [
    {
     "name": "stdout",
     "output_type": "stream",
     "text": [
      "가 나 다\n",
      "나 다 라\n",
      "다 라 마\n"
     ]
    }
   ],
   "source": [
    "my_list = [\"가\", \"나\", \"다\", \"라\", \"마\"]\n",
    "\n",
    "for i in range (0, 3) :\n",
    "    print(my_list[i], my_list[i+1], my_list[i+2])"
   ]
  },
  {
   "cell_type": "markdown",
   "id": "3649ef1e",
   "metadata": {},
   "source": [
    "### 177"
   ]
  },
  {
   "cell_type": "code",
   "execution_count": 27,
   "id": "04341699",
   "metadata": {},
   "outputs": [
    {
     "name": "stdout",
     "output_type": "stream",
     "text": [
      "라 다\n",
      "다 나\n",
      "나 가\n",
      "라 다\n",
      "다 나\n",
      "나 가\n",
      "라 다\n",
      "다 나\n",
      "나 가\n"
     ]
    }
   ],
   "source": [
    "my_list = [\"가\", \"나\", \"다\", \"라\"]\n",
    "\n",
    "for i in range (0, 3) :\n",
    "    print(my_list[-1-i], my_list[-2-i])\n",
    "\n",
    "# Other Soulutions\n",
    "for i in range(len(my_list) - 1, 0, -1):\n",
    "    print(my_list[i], my_list[i-1])\n",
    "    \n",
    "for i in range(len(my_list) - 1):\n",
    "    print(my_list[len(my_list) - 1 - i], my_list[len(my_list) - 2 - i])"
   ]
  },
  {
   "cell_type": "markdown",
   "id": "47874efe",
   "metadata": {},
   "source": [
    "### 178"
   ]
  },
  {
   "cell_type": "code",
   "execution_count": 35,
   "id": "5aa2e6b5",
   "metadata": {},
   "outputs": [
    {
     "name": "stdout",
     "output_type": "stream",
     "text": [
      "100\n",
      "200\n",
      "400\n"
     ]
    }
   ],
   "source": [
    "my_list = [100, 200, 400, 800]\n",
    "\n",
    "#for i in range (len(my_list) -1) :\n",
    "#    print(my_list[len(my_list[i + 1])] - my_list[i])\n",
    "\n",
    "for i in range(len(my_list) - 1):\n",
    "    print(abs(my_list[i+1] - my_list[i])) # print 문법상 -를 그냥 쓸수없어서 abs를 쓴 것 같음."
   ]
  },
  {
   "cell_type": "markdown",
   "id": "5498f38c",
   "metadata": {},
   "source": [
    "### 179\n",
    "리스트에는 6일 간의 종가 데이터가 저장되어 있다. 종가 데이터의 3일 이동 평균을 계산하고 이를 화면에 출력하라.\n",
    "\n",
    "> my_list = [100, 200, 400, 800, 1000, 1300]\n",
    "\n",
    "첫 번째 줄에는 100, 200, 400의 평균값이 출력된다. 두 번째 줄에는 200, 400, 800의 평균값이 출력된다. 같은 방식으로 나머지 데이터의 평균을 출력한다."
   ]
  },
  {
   "cell_type": "code",
   "execution_count": 85,
   "id": "4ea2ab38",
   "metadata": {},
   "outputs": [
    {
     "name": "stdout",
     "output_type": "stream",
     "text": [
      "233.33333333333334\n",
      "466.6666666666667\n",
      "733.3333333333334\n",
      "1033.3333333333333\n",
      "\n",
      "233.33333333333334\n",
      "466.6666666666667\n",
      "733.3333333333334\n",
      "1033.3333333333333\n"
     ]
    }
   ],
   "source": [
    "my_list = [100, 200, 400, 800, 1000, 1300]\n",
    "\n",
    "average = 0\n",
    "i = 0\n",
    "for i in range(len(my_list) - 2):\n",
    "    average = sum(my_list[i:i+3])/(len(my_list) - 3)\n",
    "    print(average)\n",
    "    \n",
    "print('')\n",
    "# Other Solution\n",
    "for i in range(1, len(my_list) - 1):\n",
    "    print(abs(my_list[i-1] + my_list[i] + my_list[i+1]) / 3)"
   ]
  },
  {
   "cell_type": "markdown",
   "id": "f6407c2a",
   "metadata": {},
   "source": [
    "### 180\n",
    "리스트에 5일간의 저가, 고가 정보가 저장돼 있다. 고가와 저가의 차를 변동폭이라고 정의할 때, low, high 두 개의 리스트를 사용해서 5일간의 변동폭을 volatility 리스트에 저장하라.\n",
    "\n",
    ">low_prices  = [100, 200, 400, 800, 1000]\n",
    "\n",
    ">high_prices = [150, 300, 430, 880, 1000]"
   ]
  },
  {
   "cell_type": "code",
   "execution_count": 94,
   "id": "fc9b3983",
   "metadata": {},
   "outputs": [
    {
     "name": "stdout",
     "output_type": "stream",
     "text": [
      "[50]\n",
      "[50, 100]\n",
      "[50, 100, 30]\n",
      "[50, 100, 30, 80]\n",
      "[50, 100, 30, 80, 0]\n",
      "[50, 100, 30, 80, 0]\n"
     ]
    }
   ],
   "source": [
    "low_prices = [100, 200, 400, 800, 1000]\n",
    "high_prices = [150, 300, 430, 880, 1000]\n",
    "\n",
    "volatility = [] # Array로 초기화를 안하고 append를 못써서 못풀었음.\n",
    "for i in range(len(low_prices)) :\n",
    "    volatility.append(high_prices[i] - low_prices[i])\n",
    "    print(volatility)\n",
    "    \n",
    "print(volatility)"
   ]
  }
 ],
 "metadata": {
  "kernelspec": {
   "display_name": "Python 3",
   "language": "python",
   "name": "python3"
  },
  "language_info": {
   "codemirror_mode": {
    "name": "ipython",
    "version": 3
   },
   "file_extension": ".py",
   "mimetype": "text/x-python",
   "name": "python",
   "nbconvert_exporter": "python",
   "pygments_lexer": "ipython3",
   "version": "3.8.8"
  }
 },
 "nbformat": 4,
 "nbformat_minor": 5
}
