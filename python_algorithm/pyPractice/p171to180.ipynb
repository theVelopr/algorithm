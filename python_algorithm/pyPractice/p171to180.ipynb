{
 "cells": [
  {
   "cell_type": "markdown",
   "id": "52e03108",
   "metadata": {},
   "source": [
    "### 171"
   ]
  },
  {
   "cell_type": "code",
   "execution_count": 5,
   "id": "2c36299e",
   "metadata": {},
   "outputs": [
    {
     "name": "stdout",
     "output_type": "stream",
     "text": [
      "32100\n",
      "32150\n",
      "32000\n",
      "32500\n",
      "\n",
      "32100\n",
      "32150\n",
      "32000\n",
      "32500\n"
     ]
    }
   ],
   "source": [
    "price_list = [32100, 32150, 32000, 32500]\n",
    "\n",
    "for i in range(4):\n",
    "    print(price_list[i])\n",
    "\n",
    "    # or\n",
    "print(\"\")\n",
    "for i in range(len(price_list)):\n",
    "    print(price_list[i])\n"
   ]
  },
  {
   "cell_type": "markdown",
   "id": "16c15348",
   "metadata": {},
   "source": [
    "### 172"
   ]
  },
  {
   "cell_type": "code",
   "execution_count": 6,
   "id": "518892b7",
   "metadata": {},
   "outputs": [
    {
     "name": "stdout",
     "output_type": "stream",
     "text": [
      "0 32100\n",
      "1 32150\n",
      "2 32000\n",
      "3 32500\n",
      "\n",
      "0 32100\n",
      "1 32150\n",
      "2 32000\n",
      "3 32500\n"
     ]
    }
   ],
   "source": [
    "price_list = [32100, 32150, 32000, 32500]\n",
    "\n",
    "for i in range(4) :\n",
    "    print(i, price_list[i])\n",
    "\n",
    "print(\"\")\n",
    "\n",
    "for i, data in enumerate(price_list):\n",
    "    print(i, data)"
   ]
  },
  {
   "cell_type": "markdown",
   "id": "dd2e5543",
   "metadata": {},
   "source": [
    "### 173"
   ]
  },
  {
   "cell_type": "code",
   "execution_count": 10,
   "id": "145805ba",
   "metadata": {},
   "outputs": [
    {
     "name": "stdout",
     "output_type": "stream",
     "text": [
      "3 32100\n",
      "2 32150\n",
      "1 32000\n",
      "0 32500\n",
      "3 32100\n",
      "2 32150\n",
      "1 32000\n",
      "0 32500\n"
     ]
    }
   ],
   "source": [
    "price_list = [32100, 32150, 32000, 32500]\n",
    "\n",
    "##for i, data in enumerate(price_list):\n",
    "##    print(i[:-1], data)\n",
    "\n",
    "for i in range(len(price_list)):\n",
    "    print(3 - i, price_list[i])\n",
    "\n",
    "for i in range(len(price_list)):\n",
    "    print((len(price_list) - 1) - i, price_list[i])"
   ]
  },
  {
   "cell_type": "markdown",
   "id": "a6d447bc",
   "metadata": {},
   "source": [
    "### 174"
   ]
  },
  {
   "cell_type": "code",
   "execution_count": 14,
   "id": "eb210b32",
   "metadata": {},
   "outputs": [
    {
     "name": "stdout",
     "output_type": "stream",
     "text": [
      "100 32150\n",
      "110 32000\n",
      "120 32500\n"
     ]
    }
   ],
   "source": [
    "price_list = [32100, 32150, 32000, 32500]\n",
    "\n",
    "#for i in range(len(price_list)) :\n",
    "#    print((10*i + 100), price_list[i+1])\n",
    "# The result showed the same but I got index error from this coding.\n",
    "\n",
    "for i in range(1, 4) :\n",
    "    print(90 + 10* i, price_list[i])"
   ]
  },
  {
   "cell_type": "markdown",
   "id": "7d92864e",
   "metadata": {},
   "source": [
    "### 175"
   ]
  },
  {
   "cell_type": "code",
   "execution_count": 17,
   "id": "dd14f74d",
   "metadata": {},
   "outputs": [
    {
     "name": "stdout",
     "output_type": "stream",
     "text": [
      "가 나\n",
      "나 다\n",
      "다 라\n"
     ]
    }
   ],
   "source": [
    "my_list = [\"가\", \"나\", \"다\", \"라\"]\n",
    "\n",
    "for i in range(0,3) :\n",
    "    print(my_list[i], my_list[i+1])"
   ]
  },
  {
   "cell_type": "markdown",
   "id": "1071d534",
   "metadata": {},
   "source": [
    "### 176"
   ]
  },
  {
   "cell_type": "code",
   "execution_count": 18,
   "id": "4b012e68",
   "metadata": {},
   "outputs": [
    {
     "name": "stdout",
     "output_type": "stream",
     "text": [
      "가 나 다\n",
      "나 다 라\n",
      "다 라 마\n"
     ]
    }
   ],
   "source": [
    "my_list = [\"가\", \"나\", \"다\", \"라\", \"마\"]\n",
    "\n",
    "for i in range (0, 3) :\n",
    "    print(my_list[i], my_list[i+1], my_list[i+2])"
   ]
  },
  {
   "cell_type": "markdown",
   "id": "f74aea26",
   "metadata": {},
   "source": [
    "### 177"
   ]
  },
  {
   "cell_type": "code",
   "execution_count": 27,
   "id": "ac5e220b",
   "metadata": {},
   "outputs": [
    {
     "name": "stdout",
     "output_type": "stream",
     "text": [
      "라 다\n",
      "다 나\n",
      "나 가\n",
      "라 다\n",
      "다 나\n",
      "나 가\n",
      "라 다\n",
      "다 나\n",
      "나 가\n"
     ]
    }
   ],
   "source": [
    "my_list = [\"가\", \"나\", \"다\", \"라\"]\n",
    "\n",
    "for i in range (0, 3) :\n",
    "    print(my_list[-1-i], my_list[-2-i])\n",
    "\n",
    "# Other Soulutions\n",
    "for i in range(len(my_list) - 1, 0, -1):\n",
    "    print(my_list[i], my_list[i-1])\n",
    "    \n",
    "for i in range(len(my_list) - 1):\n",
    "    print(my_list[len(my_list) - 1 - i], my_list[len(my_list) - 2 - i])"
   ]
  },
  {
   "cell_type": "markdown",
   "id": "6aeab77b",
   "metadata": {},
   "source": [
    "### 178"
   ]
  },
  {
   "cell_type": "code",
   "execution_count": 33,
   "id": "0491ebe6",
   "metadata": {},
   "outputs": [
    {
     "ename": "TypeError",
     "evalue": "object of type 'int' has no len()",
     "output_type": "error",
     "traceback": [
      "\u001b[1;31m---------------------------------------------------------------------------\u001b[0m",
      "\u001b[1;31mTypeError\u001b[0m                                 Traceback (most recent call last)",
      "\u001b[1;32m<ipython-input-33-25845a29e407>\u001b[0m in \u001b[0;36m<module>\u001b[1;34m\u001b[0m\n\u001b[0;32m      2\u001b[0m \u001b[1;33m\u001b[0m\u001b[0m\n\u001b[0;32m      3\u001b[0m \u001b[1;32mfor\u001b[0m \u001b[0mi\u001b[0m \u001b[1;32min\u001b[0m \u001b[0mrange\u001b[0m \u001b[1;33m(\u001b[0m\u001b[0mlen\u001b[0m\u001b[1;33m(\u001b[0m\u001b[0mmy_list\u001b[0m\u001b[1;33m)\u001b[0m \u001b[1;33m-\u001b[0m\u001b[1;36m1\u001b[0m\u001b[1;33m)\u001b[0m \u001b[1;33m:\u001b[0m\u001b[1;33m\u001b[0m\u001b[1;33m\u001b[0m\u001b[0m\n\u001b[1;32m----> 4\u001b[1;33m     \u001b[0mprint\u001b[0m\u001b[1;33m(\u001b[0m\u001b[0mmy_list\u001b[0m\u001b[1;33m[\u001b[0m\u001b[0mlen\u001b[0m\u001b[1;33m(\u001b[0m\u001b[0mmy_list\u001b[0m\u001b[1;33m[\u001b[0m\u001b[0mi\u001b[0m \u001b[1;33m+\u001b[0m \u001b[1;36m1\u001b[0m\u001b[1;33m]\u001b[0m\u001b[1;33m)\u001b[0m\u001b[1;33m]\u001b[0m \u001b[1;33m-\u001b[0m \u001b[0mmy_list\u001b[0m\u001b[1;33m[\u001b[0m\u001b[0mi\u001b[0m\u001b[1;33m]\u001b[0m\u001b[1;33m)\u001b[0m\u001b[1;33m\u001b[0m\u001b[1;33m\u001b[0m\u001b[0m\n\u001b[0m\u001b[0;32m      5\u001b[0m \u001b[1;33m\u001b[0m\u001b[0m\n\u001b[0;32m      6\u001b[0m \u001b[1;32mfor\u001b[0m \u001b[0mi\u001b[0m \u001b[1;32min\u001b[0m \u001b[0mrange\u001b[0m\u001b[1;33m(\u001b[0m\u001b[0mlen\u001b[0m\u001b[1;33m(\u001b[0m\u001b[0mmy_list\u001b[0m\u001b[1;33m)\u001b[0m \u001b[1;33m-\u001b[0m \u001b[1;36m1\u001b[0m\u001b[1;33m)\u001b[0m\u001b[1;33m:\u001b[0m\u001b[1;33m\u001b[0m\u001b[1;33m\u001b[0m\u001b[0m\n",
      "\u001b[1;31mTypeError\u001b[0m: object of type 'int' has no len()"
     ]
    }
   ],
   "source": [
    "my_list = [100, 200, 400, 800]\n",
    "\n",
    "#for i in range (len(my_list) -1) :\n",
    "#    print(my_list[len(my_list[i + 1])] - my_list[i])\n",
    "\n",
    "for i in range(len(my_list) - 1):\n",
    "    print(abs(my_list[i+1] - my_list[i])) # print 문법상 -를 그냥 쓸수없어서 abs를 쓴 것 같음."
   ]
  },
  {
   "cell_type": "markdown",
   "id": "abba829c",
   "metadata": {},
   "source": [
    "### 179\n",
    "리스트에는 6일 간의 종가 데이터가 저장되어 있다. 종가 데이터의 3일 이동 평균을 계산하고 이를 화면에 출력하라.\n",
    "\n",
    "> my_list = [100, 200, 400, 800, 1000, 1300]\n",
    "\n",
    "첫 번째 줄에는 100, 200, 400의 평균값이 출력된다. 두 번째 줄에는 200, 400, 800의 평균값이 출력된다. 같은 방식으로 나머지 데이터의 평균을 출력한다."
   ]
  },
  {
   "cell_type": "code",
   "execution_count": 34,
   "id": "a06af230",
   "metadata": {},
   "outputs": [
    {
     "name": "stdout",
     "output_type": "stream",
     "text": [
      "233.33333333333334\n"
     ]
    }
   ],
   "source": [
    "my_list = [100, 200, 400, 800, 1000, 1300]\n",
    "\n",
    "for i in range"
   ]
  },
  {
   "cell_type": "markdown",
   "id": "27f027e5",
   "metadata": {},
   "source": [
    "### 180\n",
    "리스트에 5일간의 저가, 고가 정보가 저장돼 있다. 고가와 저가의 차를 변동폭이라고 정의할 때, low, high 두 개의 리스트를 사용해서 5일간의 변동폭을 volatility 리스트에 저장하라.\n",
    "\n",
    ">low_prices  = [100, 200, 400, 800, 1000]\n",
    "\n",
    ">high_prices = [150, 300, 430, 880, 1000]"
   ]
  },
  {
   "cell_type": "code",
   "execution_count": null,
   "id": "95a87f2c",
   "metadata": {},
   "outputs": [],
   "source": []
  }
 ],
 "metadata": {
  "kernelspec": {
   "display_name": "Python 3",
   "language": "python",
   "name": "python3"
  },
  "language_info": {
   "codemirror_mode": {
    "name": "ipython",
    "version": 3
   },
   "file_extension": ".py",
   "mimetype": "text/x-python",
   "name": "python",
   "nbconvert_exporter": "python",
   "pygments_lexer": "ipython3",
   "version": "3.8.8"
  }
 },
 "nbformat": 4,
 "nbformat_minor": 5
}
