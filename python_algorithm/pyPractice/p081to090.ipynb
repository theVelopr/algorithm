{
 "cells": [
  {
   "cell_type": "markdown",
   "id": "a5121f13",
   "metadata": {},
   "source": [
    "### 091 딕셔너리 생성\n",
    "아래의 표에서, 아이스크림 이름을 키값으로, (가격, 재고) 리스트를 딕셔너리의 값으로 저장하라. 딕셔너리의 이름은 inventory로 한다.\n",
    "\n",
    "이름\t가격\t재고\n",
    "<br>메로나\t300\t20\n",
    "<br>비비빅\t400\t3\n",
    "<br>죠스바\t250\t100"
   ]
  },
  {
   "cell_type": "code",
   "execution_count": 4,
   "id": "7d5e4b7a",
   "metadata": {},
   "outputs": [
    {
     "name": "stdout",
     "output_type": "stream",
     "text": [
      "<class 'dict'>\n"
     ]
    }
   ],
   "source": [
    "inventory = {'메로나' : [300, 20], '비비빅': [400, 3], '죠스바': [250, 100]}\n",
    "\n",
    "print(type(inventory))"
   ]
  },
  {
   "cell_type": "code",
   "execution_count": null,
   "id": "e5eb36af",
   "metadata": {},
   "outputs": [],
   "source": []
  }
 ],
 "metadata": {
  "kernelspec": {
   "display_name": "Python 3",
   "language": "python",
   "name": "python3"
  },
  "language_info": {
   "codemirror_mode": {
    "name": "ipython",
    "version": 3
   },
   "file_extension": ".py",
   "mimetype": "text/x-python",
   "name": "python",
   "nbconvert_exporter": "python",
   "pygments_lexer": "ipython3",
   "version": "3.8.8"
  }
 },
 "nbformat": 4,
 "nbformat_minor": 5
}
