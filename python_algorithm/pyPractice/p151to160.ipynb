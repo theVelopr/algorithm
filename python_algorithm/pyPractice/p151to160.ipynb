{
 "cells": [
  {
   "cell_type": "markdown",
   "id": "766542c7",
   "metadata": {},
   "source": [
    "### 151"
   ]
  },
  {
   "cell_type": "code",
   "execution_count": 1,
   "id": "585c51d1",
   "metadata": {},
   "outputs": [
    {
     "name": "stdout",
     "output_type": "stream",
     "text": [
      "-20\n",
      "-3\n"
     ]
    }
   ],
   "source": [
    "lists = [3, -20, -3, 44]\n",
    "\n",
    "for var in lists :\n",
    "    if var < 0 :\n",
    "        print(var)\n"
   ]
  },
  {
   "cell_type": "markdown",
   "id": "94e4709e",
   "metadata": {},
   "source": [
    "### 152"
   ]
  },
  {
   "cell_type": "code",
   "execution_count": 2,
   "id": "5bf3f8a6",
   "metadata": {},
   "outputs": [
    {
     "name": "stdout",
     "output_type": "stream",
     "text": [
      "3\n"
     ]
    }
   ],
   "source": [
    "lists = [3, 100, 23, 44]\n",
    "\n",
    "for var in lists :\n",
    "    if var % 3 == 0 :\n",
    "        print(var)"
   ]
  },
  {
   "cell_type": "markdown",
   "id": "a77f952e",
   "metadata": {},
   "source": [
    "### 153"
   ]
  },
  {
   "cell_type": "code",
   "execution_count": 3,
   "id": "65fc801b",
   "metadata": {},
   "outputs": [
    {
     "name": "stdout",
     "output_type": "stream",
     "text": [
      "12\n",
      "18\n"
     ]
    }
   ],
   "source": [
    "lists = [13, 21, 12, 14, 30, 18]\n",
    "\n",
    "for var in lists :\n",
    "    if var % 3 == 0 and var < 20 :\n",
    "        print (var)"
   ]
  },
  {
   "cell_type": "code",
   "execution_count": null,
   "id": "68d637e5",
   "metadata": {},
   "outputs": [],
   "source": []
  }
 ],
 "metadata": {
  "kernelspec": {
   "display_name": "Python 3",
   "language": "python",
   "name": "python3"
  },
  "language_info": {
   "codemirror_mode": {
    "name": "ipython",
    "version": 3
   },
   "file_extension": ".py",
   "mimetype": "text/x-python",
   "name": "python",
   "nbconvert_exporter": "python",
   "pygments_lexer": "ipython3",
   "version": "3.8.8"
  }
 },
 "nbformat": 4,
 "nbformat_minor": 5
}
