{
 "cells": [
  {
   "cell_type": "markdown",
   "id": "acf373ad",
   "metadata": {},
   "source": [
    "### 151"
   ]
  },
  {
   "cell_type": "code",
   "execution_count": 1,
   "id": "5713f597",
   "metadata": {},
   "outputs": [
    {
     "name": "stdout",
     "output_type": "stream",
     "text": [
      "-20\n",
      "-3\n"
     ]
    }
   ],
   "source": [
    "lists = [3, -20, -3, 44]\n",
    "\n",
    "for var in lists :\n",
    "    if var < 0 :\n",
    "        print(var)\n"
   ]
  },
  {
   "cell_type": "markdown",
   "id": "b8438201",
   "metadata": {},
   "source": [
    "### 152"
   ]
  },
  {
   "cell_type": "code",
   "execution_count": 2,
   "id": "b5c5b51e",
   "metadata": {},
   "outputs": [
    {
     "name": "stdout",
     "output_type": "stream",
     "text": [
      "3\n"
     ]
    }
   ],
   "source": [
    "lists = [3, 100, 23, 44]\n",
    "\n",
    "for var in lists :\n",
    "    if var % 3 == 0 :\n",
    "        print(var)"
   ]
  },
  {
   "cell_type": "markdown",
   "id": "598e09c2",
   "metadata": {},
   "source": [
    "### 153"
   ]
  },
  {
   "cell_type": "code",
   "execution_count": 3,
   "id": "345407cb",
   "metadata": {},
   "outputs": [
    {
     "name": "stdout",
     "output_type": "stream",
     "text": [
      "12\n",
      "18\n"
     ]
    }
   ],
   "source": [
    "lists = [13, 21, 12, 14, 30, 18]\n",
    "\n",
    "for var in lists :\n",
    "    if var % 3 == 0 and var < 20 :\n",
    "        print (var)"
   ]
  },
  {
   "cell_type": "markdown",
   "id": "935311d7",
   "metadata": {},
   "source": [
    "### 154"
   ]
  },
  {
   "cell_type": "code",
   "execution_count": 7,
   "id": "245178dc",
   "metadata": {},
   "outputs": [
    {
     "name": "stdout",
     "output_type": "stream",
     "text": [
      "A\n",
      "D\n"
     ]
    }
   ],
   "source": [
    "lists = [\"A\", \"b\", \"c\", \"D\"]\n",
    "\n",
    "for var in lists : \n",
    "    if var.isupper() :\n",
    "        print (var)"
   ]
  },
  {
   "cell_type": "markdown",
   "id": "2d9ccf36",
   "metadata": {},
   "source": [
    "### 155"
   ]
  },
  {
   "cell_type": "code",
   "execution_count": 9,
   "id": "39ccc71c",
   "metadata": {},
   "outputs": [
    {
     "name": "stdout",
     "output_type": "stream",
     "text": [
      "study\n",
      "python\n",
      "language\n"
     ]
    }
   ],
   "source": [
    "lists = [\"I\", \"study\", \"python\", \"language\", \"!\"]\n",
    "\n",
    "for var in lists:\n",
    "    if len(var) >= 3 :\n",
    "        print (var)"
   ]
  },
  {
   "cell_type": "markdown",
   "id": "c7d49966",
   "metadata": {},
   "source": [
    "### 156"
   ]
  },
  {
   "cell_type": "code",
   "execution_count": 11,
   "id": "34564368",
   "metadata": {},
   "outputs": [
    {
     "name": "stdout",
     "output_type": "stream",
     "text": [
      "b\n",
      "c\n"
     ]
    }
   ],
   "source": [
    "lists = [\"A\", \"b\", \"c\", \"D\"]\n",
    "\n",
    "for var in lists:\n",
    "    if var.islower() :\n",
    "        print(var)"
   ]
  },
  {
   "cell_type": "markdown",
   "id": "00adb466",
   "metadata": {},
   "source": [
    "### 157"
   ]
  },
  {
   "cell_type": "code",
   "execution_count": null,
   "id": "7cc940f5",
   "metadata": {},
   "outputs": [],
   "source": []
  }
 ],
 "metadata": {
  "kernelspec": {
   "display_name": "Python 3",
   "language": "python",
   "name": "python3"
  },
  "language_info": {
   "codemirror_mode": {
    "name": "ipython",
    "version": 3
   },
   "file_extension": ".py",
   "mimetype": "text/x-python",
   "name": "python",
   "nbconvert_exporter": "python",
   "pygments_lexer": "ipython3",
   "version": "3.8.8"
  }
 },
 "nbformat": 4,
 "nbformat_minor": 5
}
