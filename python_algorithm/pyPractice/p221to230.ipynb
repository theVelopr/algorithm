{
 "cells": [
  {
   "cell_type": "code",
   "execution_count": 2,
   "id": "3217b40f",
   "metadata": {},
   "outputs": [
    {
     "name": "stdout",
     "output_type": "stream",
     "text": [
      "tcerroc\n"
     ]
    }
   ],
   "source": [
    "# 221\n",
    "\n",
    "def print_reverse(string) :\n",
    "    print(string[::-1])\n",
    "\n",
    "print_reverse(\"correct\")"
   ]
  },
  {
   "cell_type": "code",
   "execution_count": 5,
   "id": "4674b3ce",
   "metadata": {},
   "outputs": [
    {
     "name": "stdout",
     "output_type": "stream",
     "text": [
      "2.0\n"
     ]
    }
   ],
   "source": [
    "# 222\n",
    "\n",
    "def print_score(score) :\n",
    "    print(sum(score)/len(score))\n",
    "\n",
    "print_score([1,2,3])"
   ]
  },
  {
   "cell_type": "code",
   "execution_count": 12,
   "id": "ab5b0ff8",
   "metadata": {},
   "outputs": [
    {
     "name": "stdout",
     "output_type": "stream",
     "text": [
      "2\n",
      "4\n",
      "6\n",
      "8\n",
      "10\n"
     ]
    }
   ],
   "source": [
    "# 223\n",
    "\n",
    "def print_even(num) :\n",
    "    for v in num :\n",
    "        if v % 2 == 0 :\n",
    "            print(v)\n",
    "        \n",
    "print_even([1,2,3,4,5,6,7,8,9,10])"
   ]
  },
  {
   "cell_type": "code",
   "execution_count": 15,
   "id": "ace88949",
   "metadata": {},
   "outputs": [
    {
     "name": "stdout",
     "output_type": "stream",
     "text": [
      "이름\n",
      "나이\n",
      "성별\n"
     ]
    }
   ],
   "source": [
    "# 224\n",
    "\n",
    "def print_keys (dic) :\n",
    "    for keys in dic.keys() :\n",
    "        print(keys)\n",
    "print_keys({\"이름\":\"김말똥\", \"나이\":30, \"성별\":0})"
   ]
  },
  {
   "cell_type": "code",
   "execution_count": 21,
   "id": "93debb44",
   "metadata": {},
   "outputs": [
    {
     "name": "stdout",
     "output_type": "stream",
     "text": [
      "[100, 130, 100, 100]\n"
     ]
    }
   ],
   "source": [
    "# 225\n",
    "\n",
    "my_ohlc = {\"10/26\" : [100, 130, 100, 100],\n",
    "           \"10/27\" : [10, 12, 10, 11]}\n",
    "def print_value_by_keys (my_ohlc, keys) :\n",
    "    print(my_ohlc[keys])\n",
    "\n",
    "print_value_by_keys(my_ohlc, \"10/26\")"
   ]
  }
 ],
 "metadata": {
  "kernelspec": {
   "display_name": "Python 3",
   "language": "python",
   "name": "python3"
  },
  "language_info": {
   "codemirror_mode": {
    "name": "ipython",
    "version": 3
   },
   "file_extension": ".py",
   "mimetype": "text/x-python",
   "name": "python",
   "nbconvert_exporter": "python",
   "pygments_lexer": "ipython3",
   "version": "3.8.8"
  }
 },
 "nbformat": 4,
 "nbformat_minor": 5
}
