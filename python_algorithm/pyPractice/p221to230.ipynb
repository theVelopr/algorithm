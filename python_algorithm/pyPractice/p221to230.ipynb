{
 "cells": [
  {
   "cell_type": "code",
   "execution_count": 2,
   "id": "17bf50c4",
   "metadata": {},
   "outputs": [
    {
     "name": "stdout",
     "output_type": "stream",
     "text": [
      "tcerroc\n"
     ]
    }
   ],
   "source": [
    "# 221\n",
    "\n",
    "def print_reverse(string) :\n",
    "    print(string[::-1])\n",
    "\n",
    "print_reverse(\"correct\")"
   ]
  },
  {
   "cell_type": "code",
   "execution_count": 5,
   "id": "57ac1068",
   "metadata": {},
   "outputs": [
    {
     "name": "stdout",
     "output_type": "stream",
     "text": [
      "2.0\n"
     ]
    }
   ],
   "source": [
    "# 222\n",
    "\n",
    "def print_score(score) :\n",
    "    print(sum(score)/len(score))\n",
    "\n",
    "print_score([1,2,3])"
   ]
  },
  {
   "cell_type": "code",
   "execution_count": 11,
   "id": "d611f9a7",
   "metadata": {},
   "outputs": [
    {
     "name": "stdout",
     "output_type": "stream",
     "text": [
      "2\n",
      "4\n",
      "6\n",
      "8\n",
      "10\n"
     ]
    }
   ],
   "source": [
    "# 223\n",
    "\n",
    "def print_even(num) :\n",
    "    for v in num :\n",
    "        if v % 2 == 0 :\n",
    "            print(v)\n",
    "        \n",
    "print_even([1,2,3,4,5,6,7,8,9,10])"
   ]
  }
 ],
 "metadata": {
  "kernelspec": {
   "display_name": "Python 3",
   "language": "python",
   "name": "python3"
  },
  "language_info": {
   "codemirror_mode": {
    "name": "ipython",
    "version": 3
   },
   "file_extension": ".py",
   "mimetype": "text/x-python",
   "name": "python",
   "nbconvert_exporter": "python",
   "pygments_lexer": "ipython3",
   "version": "3.8.8"
  }
 },
 "nbformat": 4,
 "nbformat_minor": 5
}
