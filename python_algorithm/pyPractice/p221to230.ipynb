{
 "cells": [
  {
   "cell_type": "code",
   "execution_count": 2,
   "id": "b9b36849",
   "metadata": {},
   "outputs": [
    {
     "name": "stdout",
     "output_type": "stream",
     "text": [
      "tcerroc\n"
     ]
    }
   ],
   "source": [
    "# 221\n",
    "\n",
    "def print_reverse(string) :\n",
    "    print(string[::-1])\n",
    "\n",
    "print_reverse(\"correct\")"
   ]
  },
  {
   "cell_type": "code",
   "execution_count": 5,
   "id": "025f46f6",
   "metadata": {},
   "outputs": [
    {
     "name": "stdout",
     "output_type": "stream",
     "text": [
      "2.0\n"
     ]
    }
   ],
   "source": [
    "# 222\n",
    "\n",
    "def print_score(score) :\n",
    "    print(sum(score)/len(score))\n",
    "\n",
    "print_score([1,2,3])"
   ]
  },
  {
   "cell_type": "code",
   "execution_count": 12,
   "id": "72cc3457",
   "metadata": {},
   "outputs": [
    {
     "name": "stdout",
     "output_type": "stream",
     "text": [
      "2\n",
      "4\n",
      "6\n",
      "8\n",
      "10\n"
     ]
    }
   ],
   "source": [
    "# 223\n",
    "\n",
    "def print_even(num) :\n",
    "    for v in num :\n",
    "        if v % 2 == 0 :\n",
    "            print(v)\n",
    "        \n",
    "print_even([1,2,3,4,5,6,7,8,9,10])"
   ]
  },
  {
   "cell_type": "code",
   "execution_count": 15,
   "id": "a3f49764",
   "metadata": {},
   "outputs": [
    {
     "name": "stdout",
     "output_type": "stream",
     "text": [
      "이름\n",
      "나이\n",
      "성별\n"
     ]
    }
   ],
   "source": [
    "# 224\n",
    "\n",
    "def print_keys (dic) :\n",
    "    for keys in dic.keys() :\n",
    "        print(keys)\n",
    "print_keys({\"이름\":\"김말똥\", \"나이\":30, \"성별\":0})"
   ]
  },
  {
   "cell_type": "code",
   "execution_count": 22,
   "id": "364d4422",
   "metadata": {},
   "outputs": [
    {
     "name": "stdout",
     "output_type": "stream",
     "text": [
      "[100, 130, 100, 100]\n"
     ]
    }
   ],
   "source": [
    "# 225\n",
    "\n",
    "my_ohlc = {\"10/26\" : [100, 130, 100, 100],\n",
    "           \"10/27\" : [10, 12, 10, 11]}\n",
    "def print_value_by_keys (my_ohlc, keys) :\n",
    "    print(my_ohlc[keys])\n",
    "\n",
    "print_value_by_keys(my_ohlc, \"10/26\")"
   ]
  },
  {
   "cell_type": "code",
   "execution_count": 29,
   "id": "2cec510f",
   "metadata": {},
   "outputs": [
    {
     "name": "stdout",
     "output_type": "stream",
     "text": [
      "abcde\n",
      "fghij\n",
      "\n"
     ]
    }
   ],
   "source": [
    "# 226\n",
    "\n",
    "def print_split(string) :\n",
    "    chopped = int(len(string) / 5)\n",
    "    for x in range (chopped + 1) :\n",
    "        print(string[x * 5 : x * 5 + 5])\n",
    "        \n",
    "print_split(\"abcdefghij\")"
   ]
  },
  {
   "cell_type": "code",
   "execution_count": 32,
   "id": "6637a45d",
   "metadata": {},
   "outputs": [
    {
     "name": "stdout",
     "output_type": "stream",
     "text": [
      "abc\n",
      "def\n",
      "ghi\n",
      "j\n"
     ]
    }
   ],
   "source": [
    "# 227\n",
    "\n",
    "def printmxn(string, num) :\n",
    "    chopped = int(len(string) / num) \n",
    "    for x in range(chopped + 1) :\n",
    "        print(string[x * num : x * num + num])\n",
    "printmxn(\"abcdefghij\", 3)"
   ]
  },
  {
   "cell_type": "code",
   "execution_count": null,
   "id": "f69e024e",
   "metadata": {},
   "outputs": [],
   "source": [
    "# 228\n",
    "\n",
    "def calc_monthly_wage(annual_salary) :\n",
    "    salary = int(annual_salary / 12)\n",
    "    return monthly_wage\n",
    "\n",
    "calc_monthly_wage()"
   ]
  }
 ],
 "metadata": {
  "kernelspec": {
   "display_name": "Python 3",
   "language": "python",
   "name": "python3"
  },
  "language_info": {
   "codemirror_mode": {
    "name": "ipython",
    "version": 3
   },
   "file_extension": ".py",
   "mimetype": "text/x-python",
   "name": "python",
   "nbconvert_exporter": "python",
   "pygments_lexer": "ipython3",
   "version": "3.8.8"
  }
 },
 "nbformat": 4,
 "nbformat_minor": 5
}
