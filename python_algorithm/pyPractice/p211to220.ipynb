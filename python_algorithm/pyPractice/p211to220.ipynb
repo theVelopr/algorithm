{
 "cells": [
  {
   "cell_type": "code",
   "execution_count": 5,
   "id": "267363a1",
   "metadata": {},
   "outputs": [
    {
     "name": "stdout",
     "output_type": "stream",
     "text": [
      "OK :D\n"
     ]
    }
   ],
   "source": [
    "# 215 - 216\n",
    "\n",
    "def print_with_smile(str) :\n",
    "    print(str + \" :D\")\n",
    "print_with_smile(\"OK\")"
   ]
  },
  {
   "cell_type": "code",
   "execution_count": 8,
   "id": "ec66ef9c",
   "metadata": {},
   "outputs": [
    {
     "name": "stdout",
     "output_type": "stream",
     "text": [
      "13.0\n"
     ]
    }
   ],
   "source": [
    "# 217\n",
    "def print_upper_price(price) :\n",
    "    print(price * 1.3)\n",
    "\n",
    "print_upper_price(10)"
   ]
  },
  {
   "cell_type": "code",
   "execution_count": 10,
   "id": "9e5f6123",
   "metadata": {},
   "outputs": [
    {
     "data": {
      "text/plain": [
       "3"
      ]
     },
     "execution_count": 10,
     "metadata": {},
     "output_type": "execute_result"
    }
   ],
   "source": [
    "# 218\n",
    "\n",
    "def print_sum(a, b) :\n",
    "    return a + b\n",
    "\n",
    "print_sum(1,2)"
   ]
  },
  {
   "cell_type": "code",
   "execution_count": 14,
   "id": "e5c19d3e",
   "metadata": {},
   "outputs": [
    {
     "name": "stdout",
     "output_type": "stream",
     "text": [
      "1  +  2  =  3\n",
      "1  -  2  =  -1\n",
      "1  x  2  =  2\n",
      "1  /  2  =  0.5\n"
     ]
    }
   ],
   "source": [
    "# 219\n",
    "\n",
    "def print_arithmetic_operation (a, b) :\n",
    "    print (a, \" + \", b, \" = \", a + b)\n",
    "    print (a, \" - \", b, \" = \", a - b)\n",
    "    print (a, \" x \", b, \" = \", a * b)\n",
    "    print (a, \" / \", b, \" = \", a / b)\n",
    "\n",
    "\n",
    "print_arithmetic_operation (1,2)"
   ]
  },
  {
   "cell_type": "code",
   "execution_count": 18,
   "id": "2be1136c",
   "metadata": {},
   "outputs": [
    {
     "name": "stdout",
     "output_type": "stream",
     "text": [
      "3\n"
     ]
    }
   ],
   "source": [
    "# 220 max num\n",
    "\n",
    "def print_max (a, b, c) :\n",
    "    max_val = 0\n",
    "    if a > max_val :\n",
    "        max_val = a\n",
    "    if b > max_val :\n",
    "        max_val = b\n",
    "    if c > max_val :\n",
    "        max_val = c\n",
    "    print(max_val)\n",
    "    \n",
    "print_max (1, 2, 3)\n"
   ]
  }
 ],
 "metadata": {
  "kernelspec": {
   "display_name": "Python 3",
   "language": "python",
   "name": "python3"
  },
  "language_info": {
   "codemirror_mode": {
    "name": "ipython",
    "version": 3
   },
   "file_extension": ".py",
   "mimetype": "text/x-python",
   "name": "python",
   "nbconvert_exporter": "python",
   "pygments_lexer": "ipython3",
   "version": "3.8.8"
  }
 },
 "nbformat": 4,
 "nbformat_minor": 5
}
