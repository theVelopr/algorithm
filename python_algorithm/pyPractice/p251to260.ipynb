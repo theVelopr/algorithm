{
 "cells": [
  {
   "cell_type": "code",
   "execution_count": 1,
   "id": "39fc0e24",
   "metadata": {},
   "outputs": [],
   "source": [
    "# 252 define class\n",
    "\n",
    "class human :\n",
    "    pass"
   ]
  },
  {
   "cell_type": "code",
   "execution_count": 2,
   "id": "8d146be8",
   "metadata": {},
   "outputs": [],
   "source": [
    "# 253 Instance\n",
    "\n",
    "class Human:\n",
    "    pass\n",
    "\n",
    "Jay = Human()"
   ]
  },
  {
   "cell_type": "code",
   "execution_count": 4,
   "id": "12d8072e",
   "metadata": {},
   "outputs": [
    {
     "name": "stdout",
     "output_type": "stream",
     "text": [
      "Waaaaaaaah!\n"
     ]
    }
   ],
   "source": [
    "# 254 class constructor - 1\n",
    "class Human :\n",
    "    def __init__(self) :\n",
    "        print(\"Waaaaaaaah!\")\n",
    "        \n",
    "baby = Human()\n",
    "        "
   ]
  },
  {
   "cell_type": "code",
   "execution_count": null,
   "id": "134badb1",
   "metadata": {},
   "outputs": [],
   "source": []
  }
 ],
 "metadata": {
  "kernelspec": {
   "display_name": "Python 3",
   "language": "python",
   "name": "python3"
  },
  "language_info": {
   "codemirror_mode": {
    "name": "ipython",
    "version": 3
   },
   "file_extension": ".py",
   "mimetype": "text/x-python",
   "name": "python",
   "nbconvert_exporter": "python",
   "pygments_lexer": "ipython3",
   "version": "3.8.8"
  }
 },
 "nbformat": 4,
 "nbformat_minor": 5
}
