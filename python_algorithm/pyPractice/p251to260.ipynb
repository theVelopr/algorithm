{
 "cells": [
  {
   "cell_type": "code",
   "execution_count": 1,
   "id": "fb0816ee",
   "metadata": {},
   "outputs": [],
   "source": [
    "# 252 define class\n",
    "\n",
    "class human :\n",
    "    pass"
   ]
  },
  {
   "cell_type": "code",
   "execution_count": 2,
   "id": "8355d119",
   "metadata": {},
   "outputs": [],
   "source": [
    "# 253 Instance\n",
    "\n",
    "class Human:\n",
    "    pass\n",
    "\n",
    "Jay = Human()"
   ]
  },
  {
   "cell_type": "code",
   "execution_count": 4,
   "id": "a3db2980",
   "metadata": {},
   "outputs": [
    {
     "name": "stdout",
     "output_type": "stream",
     "text": [
      "Waaaaaaaah!\n"
     ]
    }
   ],
   "source": [
    "# 254 class constructor - 1\n",
    "class Human :\n",
    "    def __init__(self) :\n",
    "        print(\"Waaaaaaaah!\")\n",
    "        \n",
    "baby = Human()\n",
    "        "
   ]
  },
  {
   "cell_type": "code",
   "execution_count": 11,
   "id": "64aad931",
   "metadata": {},
   "outputs": [
    {
     "name": "stdout",
     "output_type": "stream",
     "text": [
      "애기\n"
     ]
    }
   ],
   "source": [
    "# 255 - class constructor - 2\n",
    "class Human :\n",
    "    def __init__(self, name, age, sex) :\n",
    "        self.name = name\n",
    "        self.age = age\n",
    "        self.sex = sex\n",
    "        \n",
    "baby = Human(\"애기\", 4, \"여자\")\n",
    "\n",
    "print(baby.name)\n",
    "\n",
    "# __init__은 필수요소였음.."
   ]
  },
  {
   "cell_type": "code",
   "execution_count": null,
   "id": "b8aff96f",
   "metadata": {},
   "outputs": [],
   "source": []
  }
 ],
 "metadata": {
  "kernelspec": {
   "display_name": "Python 3",
   "language": "python",
   "name": "python3"
  },
  "language_info": {
   "codemirror_mode": {
    "name": "ipython",
    "version": 3
   },
   "file_extension": ".py",
   "mimetype": "text/x-python",
   "name": "python",
   "nbconvert_exporter": "python",
   "pygments_lexer": "ipython3",
   "version": "3.8.8"
  }
 },
 "nbformat": 4,
 "nbformat_minor": 5
}
