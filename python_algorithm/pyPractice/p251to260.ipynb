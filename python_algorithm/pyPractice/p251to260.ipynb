{
 "cells": [
  {
   "cell_type": "code",
   "execution_count": 1,
   "id": "6e52a341",
   "metadata": {},
   "outputs": [],
   "source": [
    "# 252 define class\n",
    "\n",
    "class human :\n",
    "    pass"
   ]
  },
  {
   "cell_type": "code",
   "execution_count": 2,
   "id": "1d39ccb5",
   "metadata": {},
   "outputs": [],
   "source": [
    "# 253 Instance\n",
    "\n",
    "class Human:\n",
    "    pass\n",
    "\n",
    "Jay = Human()"
   ]
  },
  {
   "cell_type": "code",
   "execution_count": null,
   "id": "046ef1de",
   "metadata": {},
   "outputs": [],
   "source": []
  }
 ],
 "metadata": {
  "kernelspec": {
   "display_name": "Python 3",
   "language": "python",
   "name": "python3"
  },
  "language_info": {
   "codemirror_mode": {
    "name": "ipython",
    "version": 3
   },
   "file_extension": ".py",
   "mimetype": "text/x-python",
   "name": "python",
   "nbconvert_exporter": "python",
   "pygments_lexer": "ipython3",
   "version": "3.8.8"
  }
 },
 "nbformat": 4,
 "nbformat_minor": 5
}
