{
 "cells": [
  {
   "cell_type": "markdown",
   "id": "df3d433f",
   "metadata": {},
   "source": [
    "### 041 upper 메서드\n",
    "다음과 같은 문자열이 있을 때 이를 대문자 BTC_KRW로 변경하세요."
   ]
  },
  {
   "cell_type": "code",
   "execution_count": 2,
   "id": "6dd2e755",
   "metadata": {},
   "outputs": [
    {
     "name": "stdout",
     "output_type": "stream",
     "text": [
      "BTC_KRW\n"
     ]
    }
   ],
   "source": [
    "ticker = \"btc_krw\"\n",
    "print(ticker.upper())"
   ]
  },
  {
   "cell_type": "markdown",
   "id": "65a3a9f5",
   "metadata": {},
   "source": [
    "### 042 lower 메서드\n",
    "다음과 같은 문자열이 있을 때 이를 소문자 btc_krw로 변경하세요."
   ]
  },
  {
   "cell_type": "code",
   "execution_count": 3,
   "id": "10e4ad0d",
   "metadata": {},
   "outputs": [
    {
     "name": "stdout",
     "output_type": "stream",
     "text": [
      "btc_krw\n"
     ]
    }
   ],
   "source": [
    "ticker = \"BTC_KRW\"\n",
    "ticker1 = ticker.lower()\n",
    "\n",
    "print(ticker1)"
   ]
  },
  {
   "cell_type": "code",
   "execution_count": null,
   "id": "274da441",
   "metadata": {},
   "outputs": [],
   "source": []
  }
 ],
 "metadata": {
  "kernelspec": {
   "display_name": "Python 3",
   "language": "python",
   "name": "python3"
  },
  "language_info": {
   "codemirror_mode": {
    "name": "ipython",
    "version": 3
   },
   "file_extension": ".py",
   "mimetype": "text/x-python",
   "name": "python",
   "nbconvert_exporter": "python",
   "pygments_lexer": "ipython3",
   "version": "3.8.8"
  }
 },
 "nbformat": 4,
 "nbformat_minor": 5
}
