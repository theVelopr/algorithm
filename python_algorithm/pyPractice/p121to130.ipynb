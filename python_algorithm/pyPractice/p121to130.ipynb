{
 "cells": [
  {
   "cell_type": "markdown",
   "id": "492a71c6",
   "metadata": {},
   "source": [
    "121"
   ]
  },
  {
   "cell_type": "markdown",
   "id": "919e68b6",
   "metadata": {},
   "source": [
    "내 답안 \n",
    "\n",
    "char = 'a'\n",
    "if (char.isLower()) :\n",
    "    print('a')\n",
    "else :\n",
    "    print('A')    \n",
    "    \n",
    "    "
   ]
  },
  {
   "cell_type": "code",
   "execution_count": null,
   "id": "e36f0954",
   "metadata": {},
   "outputs": [],
   "source": [
    "user = input(\"\")\n",
    "if user.islower():\n",
    "    print(user.upper())\n",
    "else:\n",
    "    print(user.lower())"
   ]
  },
  {
   "cell_type": "markdown",
   "id": "f5340bf5",
   "metadata": {},
   "source": [
    "122"
   ]
  },
  {
   "cell_type": "code",
   "execution_count": null,
   "id": "58d3a929",
   "metadata": {},
   "outputs": [],
   "source": [
    "score = input(\"\")\n",
    "score = int(score)\n",
    "if 81 <= score <= 100 :\n",
    "    print(\"A\")\n",
    "elif 61 <= score <=80 :\n",
    "    print('B')\n",
    "elif 41 <= score <=60 :\n",
    "    print('C')\n",
    "elif 21 <= score <= 40 :\n",
    "    print('D')\n",
    "elif 0<= score <=20 :\n",
    "    print('E')\n",
    "else : \n",
    "    print('range out of bound')\n",
    "    "
   ]
  },
  {
   "cell_type": "markdown",
   "id": "c9a860d4",
   "metadata": {},
   "source": [
    "123"
   ]
  },
  {
   "cell_type": "code",
   "execution_count": null,
   "id": "aadf9fd3",
   "metadata": {},
   "outputs": [],
   "source": [
    "환율 = {\"달러\": 1167, \n",
    "        \"엔\": 1.096, \n",
    "        \"유로\": 1268, \n",
    "        \"위안\": 171}\n",
    "user = input(\"입력: \")\n",
    "num, currency = user.split()\n",
    "print(float(num) * 환율[currency], \"원\")"
   ]
  },
  {
   "cell_type": "code",
   "execution_count": null,
   "id": "cc514fb0",
   "metadata": {},
   "outputs": [],
   "source": [
    "number = input(\"휴대전화 번호 입력: \")\n",
    "num = number.split(\"-\")[0]\n",
    "if num == \"011\":\n",
    "    com = \"SKT\"\n",
    "elif num == \"016\":\n",
    "    com = \"KT\"\n",
    "elif num == \"019\":\n",
    "    com = \"LGU\"\n",
    "else:\n",
    "    com = \"알수없음\"\n",
    "print(\"당신은 {com} 사용자입니다.\")"
   ]
  },
  {
   "cell_type": "code",
   "execution_count": null,
   "id": "5668b74f",
   "metadata": {},
   "outputs": [],
   "source": []
  }
 ],
 "metadata": {
  "kernelspec": {
   "display_name": "Python 3",
   "language": "python",
   "name": "python3"
  },
  "language_info": {
   "codemirror_mode": {
    "name": "ipython",
    "version": 3
   },
   "file_extension": ".py",
   "mimetype": "text/x-python",
   "name": "python",
   "nbconvert_exporter": "python",
   "pygments_lexer": "ipython3",
   "version": "3.8.8"
  }
 },
 "nbformat": 4,
 "nbformat_minor": 5
}
