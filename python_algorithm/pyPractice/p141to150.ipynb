{
 "cells": [
  {
   "cell_type": "markdown",
   "id": "709757fb",
   "metadata": {},
   "source": [
    "141"
   ]
  },
  {
   "cell_type": "code",
   "execution_count": 2,
   "id": "5d1b8b92",
   "metadata": {},
   "outputs": [
    {
     "name": "stdout",
     "output_type": "stream",
     "text": [
      "110\n",
      "210\n",
      "310\n"
     ]
    }
   ],
   "source": [
    "리스트 = [100, 200, 300]\n",
    "for 변수 in 리스트 :\n",
    "    print(변수 + 10)"
   ]
  },
  {
   "cell_type": "markdown",
   "id": "a66e54b0",
   "metadata": {},
   "source": [
    "142"
   ]
  },
  {
   "cell_type": "code",
   "execution_count": 4,
   "id": "950ab5cc",
   "metadata": {},
   "outputs": [
    {
     "name": "stdout",
     "output_type": "stream",
     "text": [
      "오늘의 메뉴: 김밥\n",
      "오늘의 메뉴: 라면\n",
      "오늘의 메뉴: 튀김\n"
     ]
    }
   ],
   "source": [
    "리스트 = [\"김밥\", \"라면\", \"튀김\"]\n",
    "for 변수 in 리스트 :\n",
    "    print(\"오늘의 메뉴: \" + 변수)"
   ]
  },
  {
   "cell_type": "markdown",
   "id": "962a8c37",
   "metadata": {},
   "source": [
    "143"
   ]
  },
  {
   "cell_type": "code",
   "execution_count": 9,
   "id": "e5e1b54b",
   "metadata": {},
   "outputs": [
    {
     "name": "stdout",
     "output_type": "stream",
     "text": [
      "6\n",
      "4\n",
      "4\n"
     ]
    }
   ],
   "source": [
    "리스트 = [\"SK하이닉스\", \"삼성전자\", \"LG전자\"]\n",
    "\n",
    "for 길이 in 리스트 :\n",
    "    print (len(길이))"
   ]
  },
  {
   "cell_type": "markdown",
   "id": "24eb0394",
   "metadata": {},
   "source": [
    "144"
   ]
  },
  {
   "cell_type": "code",
   "execution_count": 14,
   "id": "a7448174",
   "metadata": {},
   "outputs": [
    {
     "name": "stdout",
     "output_type": "stream",
     "text": [
      "dog 3\n",
      "cat 3\n",
      "parrot 6\n"
     ]
    }
   ],
   "source": [
    "리스트 = ['dog', 'cat', 'parrot']\n",
    "for 길이 in 리스트 :\n",
    "    print (길이, len(길이))"
   ]
  },
  {
   "cell_type": "markdown",
   "id": "94037984",
   "metadata": {},
   "source": [
    "145"
   ]
  },
  {
   "cell_type": "code",
   "execution_count": 16,
   "id": "f7ac61e9",
   "metadata": {},
   "outputs": [
    {
     "name": "stdout",
     "output_type": "stream",
     "text": [
      "d\n",
      "c\n",
      "p\n"
     ]
    }
   ],
   "source": [
    "리스트 = ['dog', 'cat', 'parrot']\n",
    "for 인덱스 in 리스트 :\n",
    "    print (인덱스[0])"
   ]
  },
  {
   "cell_type": "markdown",
   "id": "39d77ee7",
   "metadata": {},
   "source": [
    "147"
   ]
  },
  {
   "cell_type": "code",
   "execution_count": 21,
   "id": "082a6ea8",
   "metadata": {},
   "outputs": [
    {
     "name": "stdout",
     "output_type": "stream",
     "text": [
      "3 x  1  =  3\n",
      "3 x  2  =  6\n",
      "3 x  3  =  9\n"
     ]
    }
   ],
   "source": [
    "리스트 = [1, 2, 3]\n",
    "\n",
    "for 곱셈 in 리스트 :\n",
    "    print('3 x ', 곱셈, \" = \", 3 * 곱셈)"
   ]
  },
  {
   "cell_type": "markdown",
   "id": "5b94580e",
   "metadata": {},
   "source": []
  },
  {
   "cell_type": "code",
   "execution_count": 26,
   "id": "39bf500e",
   "metadata": {},
   "outputs": [
    {
     "ename": "TypeError",
     "evalue": "can't multiply sequence by non-int of type 'str'",
     "output_type": "error",
     "traceback": [
      "\u001b[1;31m---------------------------------------------------------------------------\u001b[0m",
      "\u001b[1;31mTypeError\u001b[0m                                 Traceback (most recent call last)",
      "\u001b[1;32m<ipython-input-26-7eecbc1ba820>\u001b[0m in \u001b[0;36m<module>\u001b[1;34m\u001b[0m\n\u001b[0;32m      3\u001b[0m \u001b[1;33m\u001b[0m\u001b[0m\n\u001b[0;32m      4\u001b[0m \u001b[1;32mfor\u001b[0m \u001b[0ma\u001b[0m \u001b[1;32min\u001b[0m \u001b[0mstr\u001b[0m \u001b[1;33m:\u001b[0m\u001b[1;33m\u001b[0m\u001b[1;33m\u001b[0m\u001b[0m\n\u001b[1;32m----> 5\u001b[1;33m     \u001b[0ma\u001b[0m \u001b[1;33m*=\u001b[0m \u001b[0mstr\u001b[0m\u001b[1;33m\u001b[0m\u001b[1;33m\u001b[0m\u001b[0m\n\u001b[0m\u001b[0;32m      6\u001b[0m     \u001b[1;32mif\u001b[0m \u001b[1;36m0\u001b[0m \u001b[1;33m<\u001b[0m \u001b[0ma\u001b[0m \u001b[1;33m<=\u001b[0m\u001b[1;36m5\u001b[0m \u001b[1;33m:\u001b[0m\u001b[1;33m\u001b[0m\u001b[1;33m\u001b[0m\u001b[0m\n\u001b[0;32m      7\u001b[0m         \u001b[0mprint\u001b[0m\u001b[1;33m(\u001b[0m\u001b[0ma\u001b[0m\u001b[1;33m)\u001b[0m\u001b[1;33m\u001b[0m\u001b[1;33m\u001b[0m\u001b[0m\n",
      "\u001b[1;31mTypeError\u001b[0m: can't multiply sequence by non-int of type 'str'"
     ]
    }
   ],
   "source": []
  }
 ],
 "metadata": {
  "kernelspec": {
   "display_name": "Python 3",
   "language": "python",
   "name": "python3"
  },
  "language_info": {
   "codemirror_mode": {
    "name": "ipython",
    "version": 3
   },
   "file_extension": ".py",
   "mimetype": "text/x-python",
   "name": "python",
   "nbconvert_exporter": "python",
   "pygments_lexer": "ipython3",
   "version": "3.8.8"
  }
 },
 "nbformat": 4,
 "nbformat_minor": 5
}
