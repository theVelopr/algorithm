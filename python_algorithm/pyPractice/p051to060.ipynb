{
 "cells": [
  {
   "cell_type": "markdown",
   "id": "2719cff9",
   "metadata": {},
   "source": [
    "### 051 리스트 생성\n",
    "2016년 11월 영화 예매 순위 기준 top3는 다음과 같습니다. 영화 제목을 movie_rank 이름의 리스트에 저장해보세요. (순위 정보는 저장하지 않습니다.)\n",
    "<br>\n",
    "<br>순위\t영화\n",
    "<br>  1   닥터 스트레인지\n",
    "<br>  2\t  스플릿\n",
    "<br>  3\t  럭키"
   ]
  },
  {
   "cell_type": "code",
   "execution_count": 1,
   "id": "0141c47b",
   "metadata": {},
   "outputs": [
    {
     "name": "stdout",
     "output_type": "stream",
     "text": [
      "['닥터 스트레인지', '스플릿', '럭키']\n"
     ]
    }
   ],
   "source": [
    "movie = ['닥터 스트레인지', '스플릿', '럭키']\n",
    "\n",
    "print (movie)"
   ]
  },
  {
   "cell_type": "markdown",
   "id": "16a8735d",
   "metadata": {},
   "source": [
    "### 052 리스트에 원소 추가\n",
    "051의 movie_rank 리스트에 \"배트맨\"을 추가하라."
   ]
  },
  {
   "cell_type": "code",
   "execution_count": 2,
   "id": "c796370d",
   "metadata": {},
   "outputs": [
    {
     "name": "stdout",
     "output_type": "stream",
     "text": [
      "['닥터 스트레인지', '스플릿', '럭키', '베트맨']\n"
     ]
    }
   ],
   "source": [
    "movie = ['닥터 스트레인지', '스플릿', '럭키']\n",
    "movie.append('베트맨')\n",
    "\n",
    "print (movie)"
   ]
  },
  {
   "cell_type": "markdown",
   "id": "e319cd6d",
   "metadata": {},
   "source": [
    "### 053 중간에 추가\n",
    "movie_rank 리스트에는 아래와 같이 네 개의 영화 제목이 바인딩되어 있다. \"슈퍼맨\"을 \"닥터 스트레인지\"와 \"스플릿\" 사이에 추가하라.\n",
    "\n",
    "movie_rank = ['닥터 스트레인지', '스플릿', '럭키', '배트맨']"
   ]
  },
  {
   "cell_type": "code",
   "execution_count": 6,
   "id": "b5d027a2",
   "metadata": {},
   "outputs": [
    {
     "name": "stdout",
     "output_type": "stream",
     "text": [
      "['닥터 스트레인지', '수퍼맨', '스플릿', '럭키', '배트맨']\n"
     ]
    }
   ],
   "source": [
    "movie = ['닥터 스트레인지', '스플릿', '럭키', '배트맨']\n",
    "movie.insert(1, '수퍼맨')\n",
    "print (movie)"
   ]
  },
  {
   "cell_type": "code",
   "execution_count": null,
   "id": "f61bd4fc",
   "metadata": {},
   "outputs": [],
   "source": []
  }
 ],
 "metadata": {
  "kernelspec": {
   "display_name": "Python 3",
   "language": "python",
   "name": "python3"
  },
  "language_info": {
   "codemirror_mode": {
    "name": "ipython",
    "version": 3
   },
   "file_extension": ".py",
   "mimetype": "text/x-python",
   "name": "python",
   "nbconvert_exporter": "python",
   "pygments_lexer": "ipython3",
   "version": "3.8.8"
  }
 },
 "nbformat": 4,
 "nbformat_minor": 5
}
