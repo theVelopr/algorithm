{
 "cells": [
  {
   "cell_type": "markdown",
   "id": "5da560b0",
   "metadata": {},
   "source": [
    "### 051 리스트 생성\n",
    "2016년 11월 영화 예매 순위 기준 top3는 다음과 같습니다. 영화 제목을 movie_rank 이름의 리스트에 저장해보세요. (순위 정보는 저장하지 않습니다.)\n",
    "<br>\n",
    "<br>순위\t영화\n",
    "<br>  1   닥터 스트레인지\n",
    "<br>  2\t  스플릿\n",
    "<br>  3\t  럭키"
   ]
  },
  {
   "cell_type": "code",
   "execution_count": 1,
   "id": "1493255a",
   "metadata": {},
   "outputs": [
    {
     "name": "stdout",
     "output_type": "stream",
     "text": [
      "['닥터 스트레인지', '스플릿', '럭키']\n"
     ]
    }
   ],
   "source": [
    "movie = ['닥터 스트레인지', '스플릿', '럭키']\n",
    "\n",
    "print (movie)"
   ]
  },
  {
   "cell_type": "markdown",
   "id": "cca98137",
   "metadata": {},
   "source": [
    "### 052 리스트에 원소 추가\n",
    "051의 movie_rank 리스트에 \"배트맨\"을 추가하라."
   ]
  },
  {
   "cell_type": "code",
   "execution_count": 2,
   "id": "537c777d",
   "metadata": {},
   "outputs": [
    {
     "name": "stdout",
     "output_type": "stream",
     "text": [
      "['닥터 스트레인지', '스플릿', '럭키', '베트맨']\n"
     ]
    }
   ],
   "source": [
    "movie = ['닥터 스트레인지', '스플릿', '럭키']\n",
    "movie.append('베트맨')\n",
    "\n",
    "print (movie)"
   ]
  },
  {
   "cell_type": "markdown",
   "id": "88c27fac",
   "metadata": {},
   "source": [
    "### 053 리스트 중간에 추가\n",
    "movie_rank 리스트에는 아래와 같이 네 개의 영화 제목이 바인딩되어 있다. \"슈퍼맨\"을 \"닥터 스트레인지\"와 \"스플릿\" 사이에 추가하라.\n",
    "\n",
    "movie_rank = ['닥터 스트레인지', '스플릿', '럭키', '배트맨']"
   ]
  },
  {
   "cell_type": "code",
   "execution_count": 6,
   "id": "afb30e8e",
   "metadata": {},
   "outputs": [
    {
     "name": "stdout",
     "output_type": "stream",
     "text": [
      "['닥터 스트레인지', '수퍼맨', '스플릿', '럭키', '배트맨']\n"
     ]
    }
   ],
   "source": [
    "movie = ['닥터 스트레인지', '스플릿', '럭키', '배트맨']\n",
    "movie.insert(1, '수퍼맨')\n",
    "print (movie)"
   ]
  },
  {
   "cell_type": "markdown",
   "id": "5c3dc687",
   "metadata": {},
   "source": [
    "### 054 리스트에서 삭제\n",
    "movie 리스트에서 '럭키'를 삭제하라.\n",
    "\n",
    "movie = ['닥터 스트레인지', '수퍼맨', '스플릿', '럭키', '배트맨']"
   ]
  },
  {
   "cell_type": "code",
   "execution_count": 10,
   "id": "0d9dec6e",
   "metadata": {},
   "outputs": [
    {
     "name": "stdout",
     "output_type": "stream",
     "text": [
      "['닥터 스트레인지', '수퍼맨', '스플릿', '배트맨']\n"
     ]
    }
   ],
   "source": [
    "movie = ['닥터 스트레인지', '수퍼맨', '스플릿', '럭키', '배트맨']\n",
    "movie.remove('럭키')\n",
    "print(movie)"
   ]
  },
  {
   "cell_type": "code",
   "execution_count": 12,
   "id": "491ebaf6",
   "metadata": {},
   "outputs": [
    {
     "name": "stdout",
     "output_type": "stream",
     "text": [
      "['닥터 스트레인지', '수퍼맨', '스플릿', '배트맨']\n"
     ]
    }
   ],
   "source": [
    "movie = ['닥터 스트레인지', '수퍼맨', '스플릿', '럭키', '배트맨']\n",
    "del movie[3]\n",
    "print(movie)"
   ]
  },
  {
   "cell_type": "markdown",
   "id": "75c7a1b4",
   "metadata": {},
   "source": [
    "### 056 리스트 통합하기\n",
    "lang1과 lang2 리스트가 있을 때 lang1과 lang2의 원소를 모두 갖고 있는 langs 리스트를 만들어라.\n",
    "\n",
    "lang1 = [\"C\", \"C++\", \"JAVA\"]\n",
    "\n",
    "lang2 = [\"Python\", \"Go\", \"C#\"]"
   ]
  },
  {
   "cell_type": "code",
   "execution_count": 13,
   "id": "266d7d25",
   "metadata": {},
   "outputs": [
    {
     "name": "stdout",
     "output_type": "stream",
     "text": [
      "['C', 'C++', 'JAVA', 'Python', 'Go', 'C#']\n"
     ]
    }
   ],
   "source": [
    "lang1 = [\"C\", \"C++\", \"JAVA\"]\n",
    "lang2 = [\"Python\", \"Go\", \"C#\"]\n",
    "langs = lang1 + lang2\n",
    "\n",
    "print (langs)"
   ]
  },
  {
   "cell_type": "code",
   "execution_count": null,
   "id": "cfc8e678",
   "metadata": {},
   "outputs": [],
   "source": []
  }
 ],
 "metadata": {
  "kernelspec": {
   "display_name": "Python 3",
   "language": "python",
   "name": "python3"
  },
  "language_info": {
   "codemirror_mode": {
    "name": "ipython",
    "version": 3
   },
   "file_extension": ".py",
   "mimetype": "text/x-python",
   "name": "python",
   "nbconvert_exporter": "python",
   "pygments_lexer": "ipython3",
   "version": "3.8.8"
  }
 },
 "nbformat": 4,
 "nbformat_minor": 5
}
