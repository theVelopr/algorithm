{
 "cells": [
  {
   "cell_type": "code",
   "execution_count": 1,
   "id": "c101b067",
   "metadata": {},
   "outputs": [],
   "source": [
    "# 252 define class\n",
    "\n",
    "class human :\n",
    "    pass"
   ]
  },
  {
   "cell_type": "code",
   "execution_count": 2,
   "id": "dfbd0106",
   "metadata": {},
   "outputs": [],
   "source": [
    "# 253 Instance\n",
    "\n",
    "class Human:\n",
    "    pass\n",
    "\n",
    "Jay = Human()"
   ]
  },
  {
   "cell_type": "code",
   "execution_count": 4,
   "id": "667a8b67",
   "metadata": {},
   "outputs": [
    {
     "name": "stdout",
     "output_type": "stream",
     "text": [
      "Waaaaaaaah!\n"
     ]
    }
   ],
   "source": [
    "# 254 class constructor - 1\n",
    "class Human :\n",
    "    def __init__(self) :\n",
    "        print(\"Waaaaaaaah!\")\n",
    "        \n",
    "baby = Human()\n",
    "        "
   ]
  },
  {
   "cell_type": "code",
   "execution_count": 11,
   "id": "56014274",
   "metadata": {},
   "outputs": [
    {
     "name": "stdout",
     "output_type": "stream",
     "text": [
      "애기\n"
     ]
    }
   ],
   "source": [
    "# 255 - class constructor - 2\n",
    "class Human :\n",
    "    def __init__(self, name, age, sex) :\n",
    "        self.name = name\n",
    "        self.age = age\n",
    "        self.sex = sex\n",
    "        \n",
    "baby = Human(\"애기\", 4, \"여자\")\n",
    "\n",
    "print(baby.name)\n",
    "\n",
    "# __init__은 필수요소였음.."
   ]
  },
  {
   "cell_type": "code",
   "execution_count": 1,
   "id": "4f0dd393",
   "metadata": {},
   "outputs": [
    {
     "name": "stdout",
     "output_type": "stream",
     "text": [
      "25\n"
     ]
    }
   ],
   "source": [
    "# 256 - Instance attributes\n",
    "class Human :\n",
    "    def __init__(self, name, age, sex) :\n",
    "        self.name = name\n",
    "        self.age = age\n",
    "        self.sex = sex\n",
    "        \n",
    "areum = Human(\"아름\", 25, \"여자\")\n",
    "print(areum.age)"
   ]
  },
  {
   "cell_type": "code",
   "execution_count": 2,
   "id": "244d6e45",
   "metadata": {},
   "outputs": [
    {
     "name": "stdout",
     "output_type": "stream",
     "text": [
      "아름: 아름 나이: 25 성별: 여자\n"
     ]
    }
   ],
   "source": [
    "# 257 - class method - 1\n",
    "class Human : \n",
    "    def __init__(self, name, age, sex) :\n",
    "        self.name = name\n",
    "        self.age = age\n",
    "        self.sex = sex\n",
    "\n",
    "    def who(self) :\n",
    "        print(\"아름: {} 나이: {} 성별: {}\".format(self.name, self.age, self.sex))\n",
    "\n",
    "areum = Human(\"아름\", 25, \"여자\")\n",
    "areum.who()"
   ]
  },
  {
   "cell_type": "code",
   "execution_count": 3,
   "id": "4859e3d7",
   "metadata": {},
   "outputs": [
    {
     "name": "stdout",
     "output_type": "stream",
     "text": [
      "이름: 불명 나이: 미상 성별: 모름\n",
      "이름: 아름 나이: 25 성별: 여자\n"
     ]
    }
   ],
   "source": [
    "# 258 - class method -2\n",
    "class Human :\n",
    "    def __init__(self, name, age, sex) :\n",
    "        self.name = name\n",
    "        self.age = age\n",
    "        self.sex = sex\n",
    "    \n",
    "    def who(self) :\n",
    "        print(\"이름: {} 나이: {} 성별: {}\".format(self.name, self.age, self.sex))\n",
    "        \n",
    "areum = Human(\"불명\", \"미상\", \"모름\")\n",
    "areum.who()\n",
    "\n",
    "areum = Human(\"아름\", 25, \"여자\")\n",
    "areum.who()"
   ]
  },
  {
   "cell_type": "code",
   "execution_count": 4,
   "id": "91b27d42",
   "metadata": {},
   "outputs": [
    {
     "name": "stdout",
     "output_type": "stream",
     "text": [
      "나의 죽음을 알리지마라.\n"
     ]
    }
   ],
   "source": [
    "# 259 - class deletion \n",
    "class Human : \n",
    "    def __init__(self, name, age, sex) :\n",
    "        self.name = name\n",
    "        self.age = age\n",
    "        self.sex = sex\n",
    "        \n",
    "    def __del__(self) :\n",
    "        print(\"나의 죽음을 알리지마라.\")\n",
    "    \n",
    "    def who() :\n",
    "        print(\"이름 : {} 나이 : {} 성별 : {}\".format(self.name, self.age, self.sex))\n",
    "    \n",
    "    def setInfo(self, name, age, sex) :\n",
    "        self.name = name\n",
    "        self.age = age\n",
    "        self.sex = sex\n",
    "        \n",
    "areum = Human(\"아름\", 25, \"여자\")\n",
    "del(areum)"
   ]
  },
  {
   "cell_type": "code",
   "execution_count": null,
   "id": "fbb11b90",
   "metadata": {},
   "outputs": [],
   "source": []
  }
 ],
 "metadata": {
  "kernelspec": {
   "display_name": "Python 3",
   "language": "python",
   "name": "python3"
  },
  "language_info": {
   "codemirror_mode": {
    "name": "ipython",
    "version": 3
   },
   "file_extension": ".py",
   "mimetype": "text/x-python",
   "name": "python",
   "nbconvert_exporter": "python",
   "pygments_lexer": "ipython3",
   "version": "3.8.8"
  }
 },
 "nbformat": 4,
 "nbformat_minor": 5
}
