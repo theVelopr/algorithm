{
 "cells": [
  {
   "cell_type": "markdown",
   "id": "492a71c6",
   "metadata": {},
   "source": [
    "121"
   ]
  },
  {
   "cell_type": "markdown",
   "id": "919e68b6",
   "metadata": {},
   "source": [
    "내 답안 \n",
    "\n",
    "char = 'a'\n",
    "if (char.isLower()) :\n",
    "    print('a')\n",
    "else :\n",
    "    print('A')    \n",
    "    \n",
    "    "
   ]
  },
  {
   "cell_type": "code",
   "execution_count": 1,
   "id": "e36f0954",
   "metadata": {},
   "outputs": [
    {
     "name": "stdout",
     "output_type": "stream",
     "text": [
      "123\n",
      "123\n"
     ]
    }
   ],
   "source": [
    "user = input(\"\")\n",
    "if user.islower():\n",
    "    print(user.upper())\n",
    "else:\n",
    "    print(user.lower())"
   ]
  },
  {
   "cell_type": "markdown",
   "id": "f5340bf5",
   "metadata": {},
   "source": [
    "122"
   ]
  },
  {
   "cell_type": "code",
   "execution_count": 5,
   "id": "58d3a929",
   "metadata": {},
   "outputs": [
    {
     "name": "stdout",
     "output_type": "stream",
     "text": [
      "100\n",
      "A\n"
     ]
    }
   ],
   "source": [
    "score = input(\"\")\n",
    "score = int(score)\n",
    "if 81 <= score <= 100 :\n",
    "    print(\"A\")\n",
    "elif 61 <= score <=80 :\n",
    "    print('B')\n",
    "elif 41 <= score <=60 :\n",
    "    print('C')\n",
    "elif 21 <= score <= 40 :\n",
    "    print('D')\n",
    "elif 0<= score <=20 :\n",
    "    print('E')\n",
    "else : \n",
    "    print('range out of bound')\n",
    "    "
   ]
  },
  {
   "cell_type": "markdown",
   "id": "c9a860d4",
   "metadata": {},
   "source": [
    "123"
   ]
  },
  {
   "cell_type": "code",
   "execution_count": 1,
   "id": "aadf9fd3",
   "metadata": {},
   "outputs": [
    {
     "name": "stdout",
     "output_type": "stream",
     "text": [
      "입력 : 10 달러\n",
      "11670.0 원\n"
     ]
    }
   ],
   "source": [
    "환율 = {\"달러\": 1167, \n",
    "        \"엔\": 1.096, \n",
    "        \"유로\": 1268, \n",
    "        \"위안\": 171}\n",
    "user = input(\"입력 : \")\n",
    "num, currency = user.split()\n",
    "print(float(num) * 환율[currency], \"원\")"
   ]
  },
  {
   "cell_type": "markdown",
   "id": "f3ab1bd2",
   "metadata": {},
   "source": [
    "124"
   ]
  },
  {
   "cell_type": "code",
   "execution_count": 11,
   "id": "5668b74f",
   "metadata": {},
   "outputs": [
    {
     "name": "stdout",
     "output_type": "stream",
     "text": [
      "number 1 : 1024\n",
      "number 2 : 39\n",
      "number 3 : 3852359835\n",
      "3852359835\n"
     ]
    }
   ],
   "source": [
    "num1 = input(\"number 1 : \")\n",
    "num2 = input(\"number 2 : \")\n",
    "num3 = input(\"number 3 : \")\n",
    "num1 = int(num1)\n",
    "num2 = int(num2)\n",
    "num3 = int(num3)\n",
    "\n",
    "if num1 > num2 and num1 > num3 :\n",
    "    print(num1)\n",
    "elif num2 > num1 and num2 > num3 :\n",
    "    print(num2)\n",
    "else : \n",
    "    print(num3)"
   ]
  },
  {
   "cell_type": "markdown",
   "id": "d97acb0e",
   "metadata": {},
   "source": [
    "125"
   ]
  },
  {
   "cell_type": "code",
   "execution_count": 18,
   "id": "1fa4d926",
   "metadata": {},
   "outputs": [
    {
     "name": "stdout",
     "output_type": "stream",
     "text": [
      "Contact No. : 012-1231-123123\n",
      "You are not registered User.\n"
     ]
    }
   ],
   "source": [
    "cp = input(\"Contact No. : \")\n",
    "num = cp.split(\"-\")[0]\n",
    "if num == \"011\" :\n",
    "    com = \"SKT\"\n",
    "elif num == \"016\" :\n",
    "    com = \"KT\"\n",
    "elif num == \"019\" :\n",
    "    com = \"LGU\"\n",
    "else : \n",
    "    com = \"not registered\"\n",
    "print(f\"You are {com} User.\")\n",
    "\n"
   ]
  },
  {
   "cell_type": "markdown",
   "id": "19825d90",
   "metadata": {},
   "source": [
    "126"
   ]
  },
  {
   "cell_type": "code",
   "execution_count": 1,
   "id": "cb05a4f5",
   "metadata": {},
   "outputs": [
    {
     "name": "stdout",
     "output_type": "stream",
     "text": [
      "우편번호 : 014323\n",
      "도봉구\n"
     ]
    }
   ],
   "source": [
    "zipCode = input('우편번호 : ')\n",
    "zipCode = zipCode[:3]\n",
    "if zipCode in [\"010\", '011', '012'] :\n",
    "    print(\"강동구\")\n",
    "elif zipCode in [\"013\", \"014\", \"015\"] :\n",
    "    print(\"도봉구\")\n",
    "else :\n",
    "    print(\"노원구\")"
   ]
  },
  {
   "cell_type": "markdown",
   "id": "94977fad",
   "metadata": {},
   "source": [
    "127"
   ]
  },
  {
   "cell_type": "code",
   "execution_count": 2,
   "id": "012ac64f",
   "metadata": {},
   "outputs": [
    {
     "name": "stdout",
     "output_type": "stream",
     "text": [
      "주민번호 : 123123-1231231\n",
      "Male\n"
     ]
    }
   ],
   "source": [
    "id = input('주민번호 : ')\n",
    "id = id.split(\"-\")[1]\n",
    "if id[0] == '1' or id[0] == '3' :\n",
    "    print(\"Male\")\n",
    "else :\n",
    "    print(\"Female\")\n"
   ]
  },
  {
   "cell_type": "markdown",
   "id": "21d38cd0",
   "metadata": {},
   "source": [
    "128"
   ]
  },
  {
   "cell_type": "code",
   "execution_count": null,
   "id": "6b347bf2",
   "metadata": {},
   "outputs": [],
   "source": [
    "id = input(\"주민번호 : \")\n",
    "id = id.split(\"-\")[1]\n",
    "if (id[0] == '1' or id[0] == '3') and (0 <= int(뒷자리[1:3] <= 8)) :\n",
    "    print(\"Male\")"
   ]
  },
  {
   "cell_type": "code",
   "execution_count": null,
   "id": "28410745",
   "metadata": {},
   "outputs": [],
   "source": []
  },
  {
   "cell_type": "code",
   "execution_count": null,
   "id": "64f694d8",
   "metadata": {},
   "outputs": [],
   "source": []
  }
 ],
 "metadata": {
  "kernelspec": {
   "display_name": "Python 3",
   "language": "python",
   "name": "python3"
  },
  "language_info": {
   "codemirror_mode": {
    "name": "ipython",
    "version": 3
   },
   "file_extension": ".py",
   "mimetype": "text/x-python",
   "name": "python",
   "nbconvert_exporter": "python",
   "pygments_lexer": "ipython3",
   "version": "3.8.8"
  }
 },
 "nbformat": 4,
 "nbformat_minor": 5
}
