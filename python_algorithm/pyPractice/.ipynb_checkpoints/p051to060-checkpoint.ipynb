{
 "cells": [
  {
   "cell_type": "markdown",
   "id": "4e59ac3b",
   "metadata": {},
   "source": [
    "### 051 리스트 생성\n",
    "2016년 11월 영화 예매 순위 기준 top3는 다음과 같습니다. 영화 제목을 movie_rank 이름의 리스트에 저장해보세요. (순위 정보는 저장하지 않습니다.)\n",
    "<br>\n",
    "<br>순위\t영화\n",
    "<br>  1   닥터 스트레인지\n",
    "<br>  2\t  스플릿\n",
    "<br>  3\t  럭키"
   ]
  },
  {
   "cell_type": "code",
   "execution_count": 1,
   "id": "e0cef744",
   "metadata": {},
   "outputs": [
    {
     "name": "stdout",
     "output_type": "stream",
     "text": [
      "['닥터 스트레인지', '스플릿', '럭키']\n"
     ]
    }
   ],
   "source": [
    "movie = ['닥터 스트레인지', '스플릿', '럭키']\n",
    "\n",
    "print (movie)"
   ]
  },
  {
   "cell_type": "markdown",
   "id": "5377d85a",
   "metadata": {},
   "source": [
    "### 052 리스트에 원소 추가\n",
    "051의 movie_rank 리스트에 \"배트맨\"을 추가하라."
   ]
  },
  {
   "cell_type": "code",
   "execution_count": 2,
   "id": "01b591e2",
   "metadata": {},
   "outputs": [
    {
     "name": "stdout",
     "output_type": "stream",
     "text": [
      "['닥터 스트레인지', '스플릿', '럭키', '베트맨']\n"
     ]
    }
   ],
   "source": [
    "movie = ['닥터 스트레인지', '스플릿', '럭키']\n",
    "movie.append('베트맨')\n",
    "\n",
    "print (movie)"
   ]
  },
  {
   "cell_type": "markdown",
   "id": "0d6d3dc7",
   "metadata": {},
   "source": [
    "### 053 리스트 중간에 추가\n",
    "movie_rank 리스트에는 아래와 같이 네 개의 영화 제목이 바인딩되어 있다. \"슈퍼맨\"을 \"닥터 스트레인지\"와 \"스플릿\" 사이에 추가하라.\n",
    "\n",
    "movie_rank = ['닥터 스트레인지', '스플릿', '럭키', '배트맨']"
   ]
  },
  {
   "cell_type": "code",
   "execution_count": 6,
   "id": "c56fe9e5",
   "metadata": {},
   "outputs": [
    {
     "name": "stdout",
     "output_type": "stream",
     "text": [
      "['닥터 스트레인지', '수퍼맨', '스플릿', '럭키', '배트맨']\n"
     ]
    }
   ],
   "source": [
    "movie = ['닥터 스트레인지', '스플릿', '럭키', '배트맨']\n",
    "movie.insert(1, '수퍼맨')\n",
    "print (movie)"
   ]
  },
  {
   "cell_type": "markdown",
   "id": "4ba0c77e",
   "metadata": {},
   "source": [
    "### 054 리스트에서 삭제\n",
    "movie 리스트에서 '럭키'를 삭제하라.\n",
    "\n",
    "movie = ['닥터 스트레인지', '수퍼맨', '스플릿', '럭키', '배트맨']"
   ]
  },
  {
   "cell_type": "code",
   "execution_count": 10,
   "id": "f6fbd62e",
   "metadata": {},
   "outputs": [
    {
     "name": "stdout",
     "output_type": "stream",
     "text": [
      "['닥터 스트레인지', '수퍼맨', '스플릿', '배트맨']\n"
     ]
    }
   ],
   "source": [
    "movie = ['닥터 스트레인지', '수퍼맨', '스플릿', '럭키', '배트맨']\n",
    "movie.remove('럭키')\n",
    "print(movie)"
   ]
  },
  {
   "cell_type": "code",
   "execution_count": 12,
   "id": "2b665f9d",
   "metadata": {},
   "outputs": [
    {
     "name": "stdout",
     "output_type": "stream",
     "text": [
      "['닥터 스트레인지', '수퍼맨', '스플릿', '배트맨']\n"
     ]
    }
   ],
   "source": [
    "movie = ['닥터 스트레인지', '수퍼맨', '스플릿', '럭키', '배트맨']\n",
    "del movie[3]\n",
    "print(movie)"
   ]
  },
  {
   "cell_type": "markdown",
   "id": "37dcd0c3",
   "metadata": {},
   "source": [
    "### 056 리스트 통합하기\n",
    "lang1과 lang2 리스트가 있을 때 lang1과 lang2의 원소를 모두 갖고 있는 langs 리스트를 만들어라.\n",
    "\n",
    "lang1 = [\"C\", \"C++\", \"JAVA\"]\n",
    "\n",
    "lang2 = [\"Python\", \"Go\", \"C#\"]"
   ]
  },
  {
   "cell_type": "code",
   "execution_count": 13,
   "id": "6a9d3fba",
   "metadata": {},
   "outputs": [
    {
     "name": "stdout",
     "output_type": "stream",
     "text": [
      "['C', 'C++', 'JAVA', 'Python', 'Go', 'C#']\n"
     ]
    }
   ],
   "source": [
    "lang1 = [\"C\", \"C++\", \"JAVA\"]\n",
    "lang2 = [\"Python\", \"Go\", \"C#\"]\n",
    "langs = lang1 + lang2\n",
    "\n",
    "print (langs)"
   ]
  },
  {
   "cell_type": "markdown",
   "id": "3b1ce779",
   "metadata": {},
   "source": [
    "### 057 리스트에서 최대값 최소값 구하기 \n",
    "다음 리스트에서 최댓값과 최솟값을 출력하라. (힌트: min(), max() 함수 사용)\n",
    "\n",
    "nums = [1, 2, 3, 4, 5, 6, 7]"
   ]
  },
  {
   "cell_type": "code",
   "execution_count": 16,
   "id": "61371196",
   "metadata": {},
   "outputs": [
    {
     "name": "stdout",
     "output_type": "stream",
     "text": [
      "max:  7\n",
      "min:  1\n"
     ]
    }
   ],
   "source": [
    "nums = [1, 2, 3, 4, 5, 6, 7]\n",
    "\n",
    "print(\"max: \", max(nums))\n",
    "print(\"min: \", min(nums))"
   ]
  },
  {
   "cell_type": "markdown",
   "id": "fe47d646",
   "metadata": {},
   "source": [
    "### 058 리스트의 합\n",
    "다음 리스트의 합을 출력하라.\n",
    "\n",
    "nums = [1, 2, 3, 4, 5]"
   ]
  },
  {
   "cell_type": "code",
   "execution_count": 17,
   "id": "8ce28571",
   "metadata": {},
   "outputs": [
    {
     "name": "stdout",
     "output_type": "stream",
     "text": [
      "15\n"
     ]
    }
   ],
   "source": [
    "nums = [1, 2, 3, 4, 5]\n",
    "\n",
    "print(sum(nums))"
   ]
  },
  {
   "cell_type": "markdown",
   "id": "277acf69",
   "metadata": {},
   "source": [
    "### 059 리스트 원소 개수 출력하기\n",
    "다음 리스트에 저장된 데이터의 개수를 화면에 구하하라.\n",
    "\n",
    "food = [\"피자\", \"김밥\", \"만두\", \"양념치킨\", \"족발\", \"피자\", \"김치만두\", \"쫄면\", \"쏘세지\", \"라면\", \"팥빙수\", \"김치전\"]"
   ]
  },
  {
   "cell_type": "code",
   "execution_count": 19,
   "id": "28f4cb7f",
   "metadata": {},
   "outputs": [
    {
     "name": "stdout",
     "output_type": "stream",
     "text": [
      "12\n"
     ]
    }
   ],
   "source": [
    "food = [\"피자\", \"김밥\", \"만두\", \"양념치킨\", \"족발\", \"피자\", \"김치만두\", \"쫄면\", \"쏘세지\", \"라면\", \"팥빙수\", \"김치전\"]\n",
    "\n",
    "print(len(food))"
   ]
  },
  {
   "cell_type": "markdown",
   "id": "04a75fa3",
   "metadata": {},
   "source": [
    "### 060 리스트 원소 평균값 출력하기\n",
    "다음 리스트의 평균을 출력하라.\n",
    "\n",
    "nums = [1, 2, 3, 4, 5]"
   ]
  },
  {
   "cell_type": "code",
   "execution_count": 22,
   "id": "03c00c3d",
   "metadata": {},
   "outputs": [
    {
     "name": "stdout",
     "output_type": "stream",
     "text": [
      "3.0\n"
     ]
    }
   ],
   "source": [
    "nums = [1, 2, 3, 4, 5]\n",
    "\n",
    "average = sum(nums) / len(nums)\n",
    "\n",
    "print (average)"
   ]
  },
  {
   "cell_type": "code",
   "execution_count": null,
   "id": "1ab88133",
   "metadata": {},
   "outputs": [],
   "source": []
  }
 ],
 "metadata": {
  "kernelspec": {
   "display_name": "Python 3",
   "language": "python",
   "name": "python3"
  },
  "language_info": {
   "codemirror_mode": {
    "name": "ipython",
    "version": 3
   },
   "file_extension": ".py",
   "mimetype": "text/x-python",
   "name": "python",
   "nbconvert_exporter": "python",
   "pygments_lexer": "ipython3",
   "version": "3.8.8"
  }
 },
 "nbformat": 4,
 "nbformat_minor": 5
}
