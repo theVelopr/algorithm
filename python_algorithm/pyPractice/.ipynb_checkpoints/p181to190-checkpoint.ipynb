{
 "cells": [
  {
   "cell_type": "markdown",
   "id": "d93cd95e",
   "metadata": {},
   "source": [
    "### 181"
   ]
  },
  {
   "cell_type": "code",
   "execution_count": 3,
   "id": "88aa41aa",
   "metadata": {},
   "outputs": [
    {
     "name": "stdout",
     "output_type": "stream",
     "text": [
      "[['101호', '102호'], ['201호', '202호'], ['301호', '302호']]\n"
     ]
    }
   ],
   "source": [
    "home = [[\"101호\", \"102호\"], [\"201호\", \"202호\"], [\"301호\", \"302호\"]]\n",
    "print(home)"
   ]
  },
  {
   "cell_type": "markdown",
   "id": "f4019e7e",
   "metadata": {},
   "source": [
    "### 182"
   ]
  },
  {
   "cell_type": "code",
   "execution_count": 4,
   "id": "170028ff",
   "metadata": {},
   "outputs": [
    {
     "name": "stdout",
     "output_type": "stream",
     "text": [
      "[['시가', 100, 200, 300], ['종가', 80, 210, 330]]\n"
     ]
    }
   ],
   "source": [
    "stock = [[\"시가\", 100, 200, 300], [\"종가\", 80, 210, 330]]\n",
    "print(stock)"
   ]
  },
  {
   "cell_type": "markdown",
   "id": "ee1920b3",
   "metadata": {},
   "source": [
    "### 183"
   ]
  },
  {
   "cell_type": "code",
   "execution_count": 5,
   "id": "e99d87e2",
   "metadata": {},
   "outputs": [
    {
     "name": "stdout",
     "output_type": "stream",
     "text": [
      "{'시가': [100, 200, 300], '종가': [80, 210, 330]}\n"
     ]
    }
   ],
   "source": [
    "stock = {\"시가\": [100, 200, 300], \"종가\":[80, 210, 330]}\n",
    "print(stock)"
   ]
  },
  {
   "cell_type": "markdown",
   "id": "242d38d5",
   "metadata": {},
   "source": [
    "### 184"
   ]
  },
  {
   "cell_type": "code",
   "execution_count": 7,
   "id": "747d4572",
   "metadata": {},
   "outputs": [
    {
     "name": "stdout",
     "output_type": "stream",
     "text": [
      "{'10/10': [80, 110, 70, 90], '10/11': [210, 230, 190, 200]}\n"
     ]
    }
   ],
   "source": [
    "stock = {\"10/10\": [80, 110, 70, 90], \"10/11\": [210, 230, 190, 200]}\n",
    "print(stock)"
   ]
  },
  {
   "cell_type": "markdown",
   "id": "2dfa4974",
   "metadata": {},
   "source": [
    "### 185"
   ]
  },
  {
   "cell_type": "code",
   "execution_count": 11,
   "id": "c51a4ea5",
   "metadata": {},
   "outputs": [
    {
     "name": "stdout",
     "output_type": "stream",
     "text": [
      "[101, 102] 호\n",
      "[201, 202] 호\n",
      "[301, 302] 호\n",
      "\n",
      "101 호\n",
      "102 호\n",
      "201 호\n",
      "202 호\n",
      "301 호\n",
      "302 호\n"
     ]
    }
   ],
   "source": [
    "home = [ [101, 102], [201, 202], [301, 302] ]\n",
    "\n",
    "for row in home :\n",
    "    print (row, \"호\")\n",
    "\n",
    "print(\"\")\n",
    "\n",
    "for row in home :\n",
    "    for col in row :\n",
    "        print (col, \"호\")"
   ]
  },
  {
   "cell_type": "markdown",
   "id": "9f3730e4",
   "metadata": {},
   "source": [
    "### 186"
   ]
  },
  {
   "cell_type": "code",
   "execution_count": 22,
   "id": "b5fdf458",
   "metadata": {},
   "outputs": [
    {
     "name": "stdout",
     "output_type": "stream",
     "text": [
      "[301, 302]\n",
      "[201, 202]\n",
      "[101, 102]\n",
      "\n",
      "301 호\n",
      "302 호\n",
      "201 호\n",
      "202 호\n",
      "101 호\n",
      "102 호\n"
     ]
    }
   ],
   "source": [
    "home = [ [101, 102], [201, 202], [301, 302] ]\n",
    "\n",
    "for row in home[::-1]:\n",
    "    print(row)\n",
    "    \n",
    "print(\"\")\n",
    "\n",
    "for row in home[::-1]:\n",
    "    for col in row:\n",
    "        print(col, \"호\")"
   ]
  },
  {
   "cell_type": "markdown",
   "id": "e9bb3dbb",
   "metadata": {},
   "source": [
    "### 187"
   ]
  },
  {
   "cell_type": "code",
   "execution_count": 25,
   "id": "4f4ace56",
   "metadata": {},
   "outputs": [
    {
     "name": "stdout",
     "output_type": "stream",
     "text": [
      "[302, 301]\n",
      "[202, 201]\n",
      "[102, 101]\n",
      "\n",
      "302 호\n",
      "301 호\n",
      "202 호\n",
      "201 호\n",
      "102 호\n",
      "101 호\n"
     ]
    }
   ],
   "source": [
    "home = [ [101, 102], [201, 202], [301, 302] ]\n",
    "\n",
    "for row in home[::-1]:\n",
    "    print(row[::-1])\n",
    "    \n",
    "print(\"\")\n",
    "\n",
    "for row in home[::-1]:\n",
    "    for col in row[::-1]:\n",
    "        print(col, \"호\")"
   ]
  },
  {
   "cell_type": "markdown",
   "id": "c48d41d7",
   "metadata": {},
   "source": [
    "### 188"
   ]
  },
  {
   "cell_type": "code",
   "execution_count": 28,
   "id": "27371252",
   "metadata": {},
   "outputs": [
    {
     "name": "stdout",
     "output_type": "stream",
     "text": [
      "101 호\n",
      "-----\n",
      "102 호\n",
      "-----\n",
      "201 호\n",
      "-----\n",
      "202 호\n",
      "-----\n",
      "301 호\n",
      "-----\n",
      "302 호\n",
      "-----\n"
     ]
    }
   ],
   "source": [
    "home = [ [101, 102], [201, 202], [301, 302] ]\n",
    "\n",
    "for row in home :\n",
    "    for col in row :\n",
    "        print(col, \"호\")\n",
    "        print(\"-----\")"
   ]
  },
  {
   "cell_type": "markdown",
   "id": "a577e183",
   "metadata": {},
   "source": [
    "### 189"
   ]
  },
  {
   "cell_type": "code",
   "execution_count": 30,
   "id": "7e786e12",
   "metadata": {},
   "outputs": [
    {
     "name": "stdout",
     "output_type": "stream",
     "text": [
      "101 호\n",
      "102 호\n",
      "-----\n",
      "201 호\n",
      "202 호\n",
      "-----\n",
      "301 호\n",
      "302 호\n",
      "-----\n"
     ]
    }
   ],
   "source": [
    "home = [ [101, 102], [201, 202], [301, 302] ]\n",
    "\n",
    "for row in home :\n",
    "    for col in row :\n",
    "        print(col, \"호\")\n",
    "    print(\"-----\")"
   ]
  },
  {
   "cell_type": "markdown",
   "id": "e0d964e0",
   "metadata": {},
   "source": [
    "### 190"
   ]
  },
  {
   "cell_type": "code",
   "execution_count": 31,
   "id": "628b5f85",
   "metadata": {},
   "outputs": [
    {
     "name": "stdout",
     "output_type": "stream",
     "text": [
      "101 호\n",
      "102 호\n",
      "201 호\n",
      "202 호\n",
      "301 호\n",
      "302 호\n",
      "-----\n"
     ]
    }
   ],
   "source": [
    "home = [ [101, 102], [201, 202], [301, 302] ]\n",
    "\n",
    "for row in home :\n",
    "    for col in row :\n",
    "        print(col, \"호\")\n",
    "print(\"-----\")"
   ]
  }
 ],
 "metadata": {
  "kernelspec": {
   "display_name": "Python 3",
   "language": "python",
   "name": "python3"
  },
  "language_info": {
   "codemirror_mode": {
    "name": "ipython",
    "version": 3
   },
   "file_extension": ".py",
   "mimetype": "text/x-python",
   "name": "python",
   "nbconvert_exporter": "python",
   "pygments_lexer": "ipython3",
   "version": "3.8.8"
  }
 },
 "nbformat": 4,
 "nbformat_minor": 5
}
