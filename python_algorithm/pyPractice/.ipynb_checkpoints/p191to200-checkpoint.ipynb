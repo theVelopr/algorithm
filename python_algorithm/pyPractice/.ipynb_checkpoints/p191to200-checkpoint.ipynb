{
 "cells": [
  {
   "cell_type": "markdown",
   "id": "166a9493",
   "metadata": {},
   "source": [
    "### 191\n",
    "\n",
    "data에는 매수한 종목들의 OHLC (open/high/low/close) 가격 정보가 바인딩 되어있다.\n",
    "\n",
    "data = [\n",
    "<br>    [ 2000,  3050,  2050,  1980],\n",
    "<br>    [ 7500,  2050,  2050,  1980],\n",
    "<br>    [15450, 15050, 15550, 14900]\n",
    "<br>]\n",
    "\n",
    "수수료를 0.014 %로 가정할 때, 각 가격에 수수료를 포함한 가격을 한라인에 하나씩 출력하라."
   ]
  },
  {
   "cell_type": "code",
   "execution_count": 1,
   "id": "c1cecb38",
   "metadata": {},
   "outputs": [
    {
     "name": "stdout",
     "output_type": "stream",
     "text": [
      "2000.28\n",
      "3050.427\n",
      "2050.2870000000003\n",
      "1980.2772\n",
      "7501.05\n",
      "2050.2870000000003\n",
      "2050.2870000000003\n",
      "1980.2772\n",
      "15452.163\n",
      "15052.107\n",
      "15552.177\n",
      "14902.086000000001\n"
     ]
    }
   ],
   "source": [
    "data = [\n",
    "    [ 2000,  3050,  2050,  1980],\n",
    "    [ 7500,  2050,  2050,  1980],\n",
    "    [15450, 15050, 15550, 14900]\n",
    "]\n",
    "\n",
    "for row in data :\n",
    "    for col in row :\n",
    "        print(col * 1.00014)"
   ]
  },
  {
   "cell_type": "markdown",
   "id": "d9f1fc96",
   "metadata": {},
   "source": [
    "### 192"
   ]
  },
  {
   "cell_type": "code",
   "execution_count": 6,
   "id": "d3af9a25",
   "metadata": {},
   "outputs": [
    {
     "name": "stdout",
     "output_type": "stream",
     "text": [
      "2000.28\n",
      "3050.427\n",
      "2050.2870000000003\n",
      "1980.2772\n",
      "---\n",
      "7501.05\n",
      "2050.2870000000003\n",
      "2050.2870000000003\n",
      "1980.2772\n",
      "---\n",
      "15452.163\n",
      "15052.107\n",
      "15552.177\n",
      "14902.086000000001\n",
      "---\n"
     ]
    }
   ],
   "source": [
    "data = [\n",
    "    [ 2000,  3050,  2050,  1980],\n",
    "    [ 7500,  2050,  2050,  1980],\n",
    "    [15450, 15050, 15550, 14900]\n",
    "]\n",
    "\n",
    "for row in data :\n",
    "    for col in row :\n",
    "        print(col*1.00014)\n",
    "    print(\"---\")"
   ]
  },
  {
   "cell_type": "markdown",
   "id": "8b53ab39",
   "metadata": {},
   "source": [
    "### 193"
   ]
  },
  {
   "cell_type": "code",
   "execution_count": 2,
   "id": "b9333cc4",
   "metadata": {},
   "outputs": [
    {
     "name": "stdout",
     "output_type": "stream",
     "text": [
      "[2000.28, 3050.427, 2050.2870000000003, 1980.2772, 7501.05, 2050.2870000000003, 2050.2870000000003, 1980.2772, 15452.163, 15052.107, 15552.177, 14902.086000000001]\n"
     ]
    }
   ],
   "source": [
    "data = [\n",
    "    [ 2000,  3050,  2050,  1980],\n",
    "    [ 7500,  2050,  2050,  1980],\n",
    "    [15450, 15050, 15550, 14900]\n",
    "]\n",
    "\n",
    "result = []\n",
    "for row in data :\n",
    "    for col in row :\n",
    "        result.append(col * 1.00014)\n",
    "print(result)"
   ]
  },
  {
   "cell_type": "markdown",
   "id": "241462aa",
   "metadata": {},
   "source": [
    "### 194"
   ]
  },
  {
   "cell_type": "code",
   "execution_count": 9,
   "id": "2b470864",
   "metadata": {},
   "outputs": [
    {
     "name": "stdout",
     "output_type": "stream",
     "text": [
      "[[2000.28, 3050.427, 2050.2870000000003, 1980.2772], [7501.05, 2050.2870000000003, 2050.2870000000003, 1980.2772], [15452.163, 15052.107, 15552.177, 14902.086000000001]]\n"
     ]
    }
   ],
   "source": [
    "data = [\n",
    "    [ 2000,  3050,  2050,  1980],\n",
    "    [ 7500,  2050,  2050,  1980],\n",
    "    [15450, 15050, 15550, 14900]\n",
    "]\n",
    "\n",
    "result = []\n",
    "for row in data :\n",
    "    sub = []\n",
    "    for col in row :\n",
    "        sub.append(col * 1.00014)\n",
    "    result.append(sub)\n",
    "print (result)"
   ]
  },
  {
   "cell_type": "markdown",
   "id": "5cc034ab",
   "metadata": {},
   "source": [
    "### 195"
   ]
  },
  {
   "cell_type": "code",
   "execution_count": 12,
   "id": "70a88bd5",
   "metadata": {},
   "outputs": [
    {
     "name": "stdout",
     "output_type": "stream",
     "text": [
      "100\n",
      "[100, 110, 70, 100]\n",
      "190\n",
      "[200, 210, 180, 190]\n",
      "310\n",
      "[300, 310, 300, 310]\n"
     ]
    }
   ],
   "source": [
    "ohlc = [[\"open\", \"high\", \"low\", \"close\"],\n",
    "        [100, 110, 70, 100],\n",
    "        [200, 210, 180, 190],\n",
    "        [300, 310, 300, 310]]\n",
    "\n",
    "for row in ohlc[1:] :\n",
    "    print(row[3])\n",
    "    print(row)"
   ]
  },
  {
   "cell_type": "markdown",
   "id": "be0da5fa",
   "metadata": {},
   "source": [
    "### 196\n",
    "\n",
    "ohlc 리스트에는 시가(open), 고가 (high), 저가 (low) , 종가(close)가 날짜별로 저장돼 있다. 종가가 150원보다 큰경우에만 종가를 출력하라."
   ]
  },
  {
   "cell_type": "code",
   "execution_count": 14,
   "id": "f0e647ca",
   "metadata": {},
   "outputs": [
    {
     "name": "stdout",
     "output_type": "stream",
     "text": [
      "190\n",
      "310\n"
     ]
    }
   ],
   "source": [
    "ohlc = [[\"open\", \"high\", \"low\", \"close\"],\n",
    "        [100, 110, 70, 100],\n",
    "        [200, 210, 180, 190],\n",
    "        [300, 310, 300, 310]]\n",
    "\n",
    "for row in ohlc[1:] :\n",
    "    if row[3] > 150 :\n",
    "        print(row[3])"
   ]
  },
  {
   "cell_type": "markdown",
   "id": "d580e28f",
   "metadata": {},
   "source": [
    "### 197\n",
    "\n",
    "ohlc 리스트에는 시가(open), 고가 (high), 저가 (low) , 종가(close)가 날짜별로 저장돼 있다. 종가가 시가 보다 크거나 같은 경우에만 종가를 출력하라."
   ]
  },
  {
   "cell_type": "code",
   "execution_count": 16,
   "id": "1cadbeda",
   "metadata": {},
   "outputs": [
    {
     "name": "stdout",
     "output_type": "stream",
     "text": [
      "100\n",
      "310\n"
     ]
    }
   ],
   "source": [
    "ohlc = [[\"open\", \"high\", \"low\", \"close\"],\n",
    "        [100, 110, 70, 100],\n",
    "        [200, 210, 180, 190],\n",
    "        [300, 310, 300, 310]]\n",
    "\n",
    "for row in ohlc[1:] :\n",
    "    if row[3] >= row[0] :\n",
    "        print(row[3])"
   ]
  },
  {
   "cell_type": "markdown",
   "id": "4212c981",
   "metadata": {},
   "source": [
    "### 198\n",
    "\n",
    "ohlc 리스트에는 시가(open), 고가 (high), 저가 (low) , 종가(close)가 날짜별로 저장돼 있다. 고가와 저가의 차이를 변동폭으로 정의할 때 변동폭을 volatility 이름의 리스트에 저장하라."
   ]
  },
  {
   "cell_type": "code",
   "execution_count": 18,
   "id": "f1f344e7",
   "metadata": {},
   "outputs": [
    {
     "name": "stdout",
     "output_type": "stream",
     "text": [
      "[40, 30, 10]\n"
     ]
    }
   ],
   "source": [
    "ohlc = [[\"open\", \"high\", \"low\", \"close\"],\n",
    "        [100, 110, 70, 100],\n",
    "        [200, 210, 180, 190],\n",
    "        [300, 310, 300, 310]]\n",
    "\n",
    "volatility = []\n",
    "for row in ohlc[1:] :\n",
    "    volatility.append(row[1]-row[2])\n",
    "print(volatility)"
   ]
  },
  {
   "cell_type": "markdown",
   "id": "89d7c531",
   "metadata": {},
   "source": [
    "### 199\n",
    "리스트에는 3일 간의 ohlc 데이터가 저장돼 있다. 종가가 시가보다 높은 날의 변동성 (고가 - 저가)을 화면에 출력하라."
   ]
  },
  {
   "cell_type": "code",
   "execution_count": 20,
   "id": "7a13b3ae",
   "metadata": {},
   "outputs": [
    {
     "name": "stdout",
     "output_type": "stream",
     "text": [
      "10\n"
     ]
    }
   ],
   "source": [
    "ohlc = [[\"open\", \"high\", \"low\", \"close\"],\n",
    "        [100, 110, 70, 100],\n",
    "        [200, 210, 180, 190],\n",
    "        [300, 310, 300, 310]]\n",
    "\n",
    "for row in ohlc[1:]:\n",
    "    if row[3] > row[0] :\n",
    "        print(row[1]-row[2])"
   ]
  },
  {
   "cell_type": "markdown",
   "id": "30bcf178",
   "metadata": {},
   "source": [
    "### 200\n",
    "리스트에는 3일 간의 ohlc 데이터가 저장돼 있다. 시가에 매수해서 종가에 매도 했을 경우 총 수익금을 계산하라."
   ]
  },
  {
   "cell_type": "code",
   "execution_count": 21,
   "id": "2cdf65a6",
   "metadata": {},
   "outputs": [
    {
     "name": "stdout",
     "output_type": "stream",
     "text": [
      "0\n"
     ]
    }
   ],
   "source": [
    "ohlc = [[\"open\", \"high\", \"low\", \"close\"],\n",
    "        [100, 110, 70, 100],\n",
    "        [200, 210, 180, 190],\n",
    "        [300, 310, 300, 310]]\n",
    "\n",
    "profit = 0\n",
    "for row in ohlc[1:] :\n",
    "    profit += (row[3] - row[0])\n",
    "print(profit)"
   ]
  }
 ],
 "metadata": {
  "kernelspec": {
   "display_name": "Python 3",
   "language": "python",
   "name": "python3"
  },
  "language_info": {
   "codemirror_mode": {
    "name": "ipython",
    "version": 3
   },
   "file_extension": ".py",
   "mimetype": "text/x-python",
   "name": "python",
   "nbconvert_exporter": "python",
   "pygments_lexer": "ipython3",
   "version": "3.8.8"
  }
 },
 "nbformat": 4,
 "nbformat_minor": 5
}
