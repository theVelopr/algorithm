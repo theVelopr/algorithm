{
 "cells": [
  {
   "cell_type": "code",
   "execution_count": 2,
   "id": "a0214c0f",
   "metadata": {},
   "outputs": [
    {
     "name": "stdout",
     "output_type": "stream",
     "text": [
      "2021-06-28 09:26:45.112088\n"
     ]
    }
   ],
   "source": [
    "# 241\n",
    "import datetime\n",
    "\n",
    "now = datetime.datetime.now()\n",
    "\n",
    "print(now)"
   ]
  },
  {
   "cell_type": "code",
   "execution_count": 3,
   "id": "9e8611ff",
   "metadata": {},
   "outputs": [
    {
     "name": "stdout",
     "output_type": "stream",
     "text": [
      "2021-06-28 09:27:43.679780 <class 'datetime.datetime'>\n"
     ]
    }
   ],
   "source": [
    "# 242\n",
    "import datetime\n",
    "\n",
    "now = datetime.datetime.now()\n",
    "\n",
    "print(now, type(now))"
   ]
  },
  {
   "cell_type": "code",
   "execution_count": 5,
   "id": "e4180f50",
   "metadata": {},
   "outputs": [
    {
     "name": "stdout",
     "output_type": "stream",
     "text": [
      "2021-06-23 09:29:39.256076\n",
      "2021-06-24 09:29:39.256076\n",
      "2021-06-25 09:29:39.256076\n",
      "2021-06-26 09:29:39.256076\n",
      "2021-06-27 09:29:39.256076\n"
     ]
    }
   ],
   "source": [
    "# 243\n",
    "import datetime\n",
    "\n",
    "now = datetime.datetime.now()\n",
    "\n",
    "for day in range (5, 0, -1) :\n",
    "    delta = datetime.timedelta(days=day)\n",
    "    date = now - delta\n",
    "    print(date)\n",
    "    \n",
    "# Didn't get it that much. days...? why??"
   ]
  },
  {
   "cell_type": "code",
   "execution_count": 7,
   "id": "76392af4",
   "metadata": {},
   "outputs": [
    {
     "name": "stdout",
     "output_type": "stream",
     "text": [
      "09:31:00\n"
     ]
    }
   ],
   "source": [
    "# 244 shifttime Method\n",
    "\n",
    "import datetime\n",
    "\n",
    "now = datetime.datetime.now()\n",
    "\n",
    "print(now.strftime(\"%H:%M:%S\"))"
   ]
  },
  {
   "cell_type": "code",
   "execution_count": 9,
   "id": "e6b192f2",
   "metadata": {},
   "outputs": [
    {
     "name": "stdout",
     "output_type": "stream",
     "text": [
      "2021-06-28 00:00:00 <class 'datetime.datetime'>\n"
     ]
    }
   ],
   "source": [
    "# 245 Strptime\n",
    "\n",
    "import datetime\n",
    "\n",
    "day = \"2021-06-28\"\n",
    "ret = datetime.datetime.strptime(day, \"%Y-%m-%d\")\n",
    "print(ret, type(ret))"
   ]
  },
  {
   "cell_type": "code",
   "execution_count": 10,
   "id": "b3caccc8",
   "metadata": {},
   "outputs": [
    {
     "name": "stdout",
     "output_type": "stream",
     "text": [
      "2021-06-28 09:35:42.296233\n",
      "2021-06-28 09:35:43.302884\n",
      "2021-06-28 09:35:44.312274\n",
      "2021-06-28 09:35:45.321165\n",
      "2021-06-28 09:35:46.329485\n",
      "2021-06-28 09:35:47.334784\n",
      "2021-06-28 09:35:48.341422\n",
      "2021-06-28 09:35:49.348833\n",
      "2021-06-28 09:35:50.355805\n",
      "2021-06-28 09:35:51.367262\n",
      "2021-06-28 09:35:52.377369\n",
      "2021-06-28 09:35:53.384236\n",
      "2021-06-28 09:35:54.388005\n",
      "2021-06-28 09:35:55.395291\n",
      "2021-06-28 09:35:56.403014\n",
      "2021-06-28 09:35:57.414235\n",
      "2021-06-28 09:35:58.425410\n",
      "2021-06-28 09:35:59.434365\n",
      "2021-06-28 09:36:00.438796\n",
      "2021-06-28 09:36:01.445595\n",
      "2021-06-28 09:36:02.459965\n"
     ]
    },
    {
     "ename": "KeyboardInterrupt",
     "evalue": "",
     "output_type": "error",
     "traceback": [
      "\u001b[1;31m---------------------------------------------------------------------------\u001b[0m",
      "\u001b[1;31mKeyboardInterrupt\u001b[0m                         Traceback (most recent call last)",
      "\u001b[1;32m<ipython-input-10-d195e70cb284>\u001b[0m in \u001b[0;36m<module>\u001b[1;34m\u001b[0m\n\u001b[0;32m      7\u001b[0m     \u001b[0mnow\u001b[0m \u001b[1;33m=\u001b[0m \u001b[0mdatetime\u001b[0m\u001b[1;33m.\u001b[0m\u001b[0mdatetime\u001b[0m\u001b[1;33m.\u001b[0m\u001b[0mnow\u001b[0m\u001b[1;33m(\u001b[0m\u001b[1;33m)\u001b[0m\u001b[1;33m\u001b[0m\u001b[1;33m\u001b[0m\u001b[0m\n\u001b[0;32m      8\u001b[0m     \u001b[0mprint\u001b[0m\u001b[1;33m(\u001b[0m\u001b[0mnow\u001b[0m\u001b[1;33m)\u001b[0m\u001b[1;33m\u001b[0m\u001b[1;33m\u001b[0m\u001b[0m\n\u001b[1;32m----> 9\u001b[1;33m     \u001b[0mtime\u001b[0m\u001b[1;33m.\u001b[0m\u001b[0msleep\u001b[0m\u001b[1;33m(\u001b[0m\u001b[1;36m1\u001b[0m\u001b[1;33m)\u001b[0m\u001b[1;33m\u001b[0m\u001b[1;33m\u001b[0m\u001b[0m\n\u001b[0m",
      "\u001b[1;31mKeyboardInterrupt\u001b[0m: "
     ]
    }
   ],
   "source": [
    "# 246 sleep\n",
    "\n",
    "import time\n",
    "import datetime\n",
    "\n",
    "while True :\n",
    "    now = datetime.datetime.now()\n",
    "    print(now)\n",
    "    time.sleep(1)"
   ]
  },
  {
   "cell_type": "code",
   "execution_count": 11,
   "id": "674118ca",
   "metadata": {},
   "outputs": [
    {
     "name": "stdout",
     "output_type": "stream",
     "text": [
      "C:\\Users\\deHong\\Documents\\workspace\\newground\\algorithm\\python_algorithm\\pyPractice <class 'str'>\n"
     ]
    }
   ],
   "source": [
    "# 248 OS module\n",
    "\n",
    "import os\n",
    "\n",
    "ret = os.getcwd() # 디렉토리 경로 출력하는 함수\n",
    "print(ret, type(ret))"
   ]
  },
  {
   "cell_type": "code",
   "execution_count": 12,
   "id": "61d5f73e",
   "metadata": {},
   "outputs": [
    {
     "ename": "FileNotFoundError",
     "evalue": "[WinError 3] 지정된 경로를 찾을 수 없습니다: 'C:/Users/hyunh/Desktop/before.txt' -> 'C:/Users/hyunh/Desktop/after.txt'",
     "output_type": "error",
     "traceback": [
      "\u001b[1;31m---------------------------------------------------------------------------\u001b[0m",
      "\u001b[1;31mFileNotFoundError\u001b[0m                         Traceback (most recent call last)",
      "\u001b[1;32m<ipython-input-12-bf7cae4fad02>\u001b[0m in \u001b[0;36m<module>\u001b[1;34m\u001b[0m\n\u001b[0;32m      1\u001b[0m \u001b[1;32mimport\u001b[0m \u001b[0mos\u001b[0m\u001b[1;33m\u001b[0m\u001b[1;33m\u001b[0m\u001b[0m\n\u001b[0;32m      2\u001b[0m \u001b[1;33m\u001b[0m\u001b[0m\n\u001b[1;32m----> 3\u001b[1;33m \u001b[0mos\u001b[0m\u001b[1;33m.\u001b[0m\u001b[0mrename\u001b[0m\u001b[1;33m(\u001b[0m\u001b[1;34m\"C:/Users/hyunh/Desktop/before.txt\"\u001b[0m\u001b[1;33m,\u001b[0m \u001b[1;34m\"C:/Users/hyunh/Desktop/after.txt\"\u001b[0m\u001b[1;33m)\u001b[0m\u001b[1;33m\u001b[0m\u001b[1;33m\u001b[0m\u001b[0m\n\u001b[0m",
      "\u001b[1;31mFileNotFoundError\u001b[0m: [WinError 3] 지정된 경로를 찾을 수 없습니다: 'C:/Users/hyunh/Desktop/before.txt' -> 'C:/Users/hyunh/Desktop/after.txt'"
     ]
    }
   ],
   "source": [
    "# 249 rename\n",
    "\n",
    "import os\n",
    "\n",
    "os.rename(\"C:/Users/hyunh/Desktop/before.txt\", \"C:/Users/hyunh/Desktop/after.txt\")"
   ]
  },
  {
   "cell_type": "code",
   "execution_count": 15,
   "id": "ad282d0f",
   "metadata": {},
   "outputs": [
    {
     "name": "stdout",
     "output_type": "stream",
     "text": [
      "0.0\n",
      "0.1\n",
      "0.2\n",
      "0.30000000000000004\n",
      "0.4\n",
      "0.5\n",
      "0.6000000000000001\n",
      "0.7000000000000001\n",
      "0.8\n",
      "0.9\n",
      "1.0\n",
      "1.1\n",
      "1.2000000000000002\n",
      "1.3\n",
      "1.4000000000000001\n",
      "1.5\n",
      "1.6\n",
      "1.7000000000000002\n",
      "1.8\n",
      "1.9000000000000001\n",
      "2.0\n",
      "2.1\n",
      "2.2\n",
      "2.3000000000000003\n",
      "2.4000000000000004\n",
      "2.5\n",
      "2.6\n",
      "2.7\n",
      "2.8000000000000003\n",
      "2.9000000000000004\n",
      "3.0\n",
      "3.1\n",
      "3.2\n",
      "3.3000000000000003\n",
      "3.4000000000000004\n",
      "3.5\n",
      "3.6\n",
      "3.7\n",
      "3.8000000000000003\n",
      "3.9000000000000004\n",
      "4.0\n",
      "4.1000000000000005\n",
      "4.2\n",
      "4.3\n",
      "4.4\n",
      "4.5\n",
      "4.6000000000000005\n",
      "4.7\n",
      "4.800000000000001\n",
      "4.9\n"
     ]
    }
   ],
   "source": [
    "# 250 numpy\n",
    "# https://laboputer.github.io/machine-learning/2020/04/25/numpy-quickstart/\n",
    "# 더 많은 예제는 위의 링크로...\n",
    "\n",
    "import numpy # 선형대수 라이브러리. Scipy 는 공학용으로 사용 가능\n",
    "\n",
    "\n",
    "for i in numpy.arange(0, 5, 0.1) :\n",
    "    print(i)"
   ]
  },
  {
   "cell_type": "code",
   "execution_count": null,
   "id": "6f670246",
   "metadata": {},
   "outputs": [],
   "source": []
  }
 ],
 "metadata": {
  "kernelspec": {
   "display_name": "Python 3",
   "language": "python",
   "name": "python3"
  },
  "language_info": {
   "codemirror_mode": {
    "name": "ipython",
    "version": 3
   },
   "file_extension": ".py",
   "mimetype": "text/x-python",
   "name": "python",
   "nbconvert_exporter": "python",
   "pygments_lexer": "ipython3",
   "version": "3.8.8"
  }
 },
 "nbformat": 4,
 "nbformat_minor": 5
}
