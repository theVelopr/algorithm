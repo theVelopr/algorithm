{
 "cells": [
  {
   "cell_type": "markdown",
   "id": "0af68322",
   "metadata": {},
   "source": [
    "### 151"
   ]
  },
  {
   "cell_type": "code",
   "execution_count": 1,
   "id": "2287c3a3",
   "metadata": {},
   "outputs": [
    {
     "name": "stdout",
     "output_type": "stream",
     "text": [
      "-20\n",
      "-3\n"
     ]
    }
   ],
   "source": [
    "lists = [3, -20, -3, 44]\n",
    "\n",
    "for var in lists :\n",
    "    if var < 0 :\n",
    "        print(var)\n"
   ]
  },
  {
   "cell_type": "markdown",
   "id": "42d5655e",
   "metadata": {},
   "source": [
    "### 152"
   ]
  },
  {
   "cell_type": "code",
   "execution_count": 2,
   "id": "b230fd9d",
   "metadata": {},
   "outputs": [
    {
     "name": "stdout",
     "output_type": "stream",
     "text": [
      "3\n"
     ]
    }
   ],
   "source": [
    "lists = [3, 100, 23, 44]\n",
    "\n",
    "for var in lists :\n",
    "    if var % 3 == 0 :\n",
    "        print(var)"
   ]
  },
  {
   "cell_type": "markdown",
   "id": "76b3487c",
   "metadata": {},
   "source": [
    "### 153"
   ]
  },
  {
   "cell_type": "code",
   "execution_count": 3,
   "id": "2d9545bd",
   "metadata": {},
   "outputs": [
    {
     "name": "stdout",
     "output_type": "stream",
     "text": [
      "12\n",
      "18\n"
     ]
    }
   ],
   "source": [
    "lists = [13, 21, 12, 14, 30, 18]\n",
    "\n",
    "for var in lists :\n",
    "    if var % 3 == 0 and var < 20 :\n",
    "        print (var)"
   ]
  },
  {
   "cell_type": "markdown",
   "id": "4f73981a",
   "metadata": {},
   "source": [
    "### 154"
   ]
  },
  {
   "cell_type": "code",
   "execution_count": 7,
   "id": "d2767e1b",
   "metadata": {},
   "outputs": [
    {
     "name": "stdout",
     "output_type": "stream",
     "text": [
      "A\n",
      "D\n"
     ]
    }
   ],
   "source": [
    "lists = [\"A\", \"b\", \"c\", \"D\"]\n",
    "\n",
    "for var in lists : \n",
    "    if var.isupper() :\n",
    "        print (var)"
   ]
  },
  {
   "cell_type": "markdown",
   "id": "65eecfa4",
   "metadata": {},
   "source": [
    "### 155"
   ]
  },
  {
   "cell_type": "code",
   "execution_count": 9,
   "id": "6f017790",
   "metadata": {},
   "outputs": [
    {
     "name": "stdout",
     "output_type": "stream",
     "text": [
      "study\n",
      "python\n",
      "language\n"
     ]
    }
   ],
   "source": [
    "lists = [\"I\", \"study\", \"python\", \"language\", \"!\"]\n",
    "\n",
    "for var in lists:\n",
    "    if len(var) >= 3 :\n",
    "        print (var)"
   ]
  },
  {
   "cell_type": "markdown",
   "id": "19373f09",
   "metadata": {},
   "source": [
    "### 156"
   ]
  },
  {
   "cell_type": "code",
   "execution_count": 11,
   "id": "32b7c9f2",
   "metadata": {},
   "outputs": [
    {
     "name": "stdout",
     "output_type": "stream",
     "text": [
      "b\n",
      "c\n"
     ]
    }
   ],
   "source": [
    "lists = [\"A\", \"b\", \"c\", \"D\"]\n",
    "\n",
    "for var in lists:\n",
    "    if var.islower() :\n",
    "        print(var)"
   ]
  },
  {
   "cell_type": "markdown",
   "id": "3a0608f5",
   "metadata": {},
   "source": [
    "### 157"
   ]
  },
  {
   "cell_type": "code",
   "execution_count": 13,
   "id": "9240d645",
   "metadata": {},
   "outputs": [
    {
     "name": "stdout",
     "output_type": "stream",
     "text": [
      "Dog\n",
      "Cat\n",
      "Parrot\n"
     ]
    }
   ],
   "source": [
    "lists = ['dog', 'cat', 'parrot']\n",
    "\n",
    "for var in lists:\n",
    "    print(var[0].upper() + var[1:])"
   ]
  },
  {
   "cell_type": "markdown",
   "id": "2282f3cf",
   "metadata": {},
   "source": [
    "1) 인덱싱으로 첫번째 문자를 가져온다.\n",
    "<br>2) upper() 함수로 대문자로 변경한다.\n",
    "<br>3) 변경한 대문자와 나머지 문자를 이어붙인다.\n"
   ]
  },
  {
   "cell_type": "markdown",
   "id": "e89f7cbe",
   "metadata": {},
   "source": [
    "### 158"
   ]
  },
  {
   "cell_type": "code",
   "execution_count": 15,
   "id": "79ab5274",
   "metadata": {},
   "outputs": [
    {
     "name": "stdout",
     "output_type": "stream",
     "text": [
      "hello\n",
      "ex01\n",
      "intro\n"
     ]
    }
   ],
   "source": [
    "lists = ['hello.py', 'ex01.py', 'intro.hwp']\n",
    "for var in lists :\n",
    "    split = var.split(\".\")\n",
    "    print(split[0])"
   ]
  },
  {
   "cell_type": "markdown",
   "id": "0dbed916",
   "metadata": {},
   "source": [
    "split() 메서드를 사용해서 마침표를 구분자 (\".\")로 문자열을 분할합니다. 그리고 0번 인덱스에 들어있는 파일 이름만 화면에 출력합니다."
   ]
  },
  {
   "cell_type": "markdown",
   "id": "4b20719c",
   "metadata": {},
   "source": [
    "### 159"
   ]
  },
  {
   "cell_type": "code",
   "execution_count": 16,
   "id": "3c5aa2fb",
   "metadata": {},
   "outputs": [
    {
     "name": "stdout",
     "output_type": "stream",
     "text": [
      "intra.h\n",
      "define.h\n"
     ]
    }
   ],
   "source": [
    "lists = ['intra.h', 'intra.c', 'define.h', 'run.py']\n",
    "\n",
    "for var in lists:\n",
    "    split = var.split(\".\")\n",
    "    if split[1] == 'h' :\n",
    "        print(var)"
   ]
  },
  {
   "cell_type": "markdown",
   "id": "cc9a122a",
   "metadata": {},
   "source": [
    "split() 메서드로 문자열을 분할하고 확장자가 \"h\"인지 분기문으로 비교합니다. 확장자가 \"h\"라면 파일 이름을 출력합니다."
   ]
  },
  {
   "cell_type": "markdown",
   "id": "812871bb",
   "metadata": {},
   "source": [
    "### 160"
   ]
  },
  {
   "cell_type": "code",
   "execution_count": 17,
   "id": "eb601382",
   "metadata": {},
   "outputs": [
    {
     "name": "stdout",
     "output_type": "stream",
     "text": [
      "intra.h\n",
      "intra.c\n",
      "define.h\n"
     ]
    }
   ],
   "source": [
    "lists = ['intra.h', 'intra.c', 'define.h', 'run.py']\n",
    "\n",
    "for var in lists:\n",
    "    split = var.split(\".\")\n",
    "    if split[1] == 'h' or split[1] == 'c' :\n",
    "        print(var)"
   ]
  },
  {
   "cell_type": "code",
   "execution_count": null,
   "id": "a3741f2d",
   "metadata": {},
   "outputs": [],
   "source": []
  }
 ],
 "metadata": {
  "kernelspec": {
   "display_name": "Python 3",
   "language": "python",
   "name": "python3"
  },
  "language_info": {
   "codemirror_mode": {
    "name": "ipython",
    "version": 3
   },
   "file_extension": ".py",
   "mimetype": "text/x-python",
   "name": "python",
   "nbconvert_exporter": "python",
   "pygments_lexer": "ipython3",
   "version": "3.8.8"
  }
 },
 "nbformat": 4,
 "nbformat_minor": 5
}
