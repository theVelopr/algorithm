{
 "cells": [
  {
   "cell_type": "code",
   "execution_count": 5,
   "id": "5e6362c4",
   "metadata": {},
   "outputs": [
    {
     "name": "stdout",
     "output_type": "stream",
     "text": [
      "1000\n",
      "2\n"
     ]
    }
   ],
   "source": [
    "# 281 define the classes\n",
    "\n",
    "class car:\n",
    "    def __init__(self, price, wheel):\n",
    "        self.price = price\n",
    "        self.wheel = wheel\n",
    "    \n",
    "cars = car(1000, 2)\n",
    "print(cars.wheel)\n",
    "print(cars.price)"
   ]
  },
  {
   "cell_type": "code",
   "execution_count": 7,
   "id": "1b778eb6",
   "metadata": {},
   "outputs": [
    {
     "ename": "SyntaxError",
     "evalue": "cannot assign to operator (<ipython-input-7-37f0c6ffaaa7>, line 13)",
     "output_type": "error",
     "traceback": [
      "\u001b[1;36m  File \u001b[1;32m\"<ipython-input-7-37f0c6ffaaa7>\"\u001b[1;36m, line \u001b[1;32m13\u001b[0m\n\u001b[1;33m    electro-bicycle = motorcycle(2, 1000)\u001b[0m\n\u001b[1;37m    ^\u001b[0m\n\u001b[1;31mSyntaxError\u001b[0m\u001b[1;31m:\u001b[0m cannot assign to operator\n"
     ]
    }
   ],
   "source": [
    "# 282 class inheritance \n",
    "\n",
    "class car:\n",
    "    def __init__(self, price, wheel):\n",
    "        self.prince = price\n",
    "        self.wheel = wheel\n",
    "    \n",
    "class motorcycle:\n",
    "    def __init__(self, price, wheel):\n",
    "        self.price = price\n",
    "        self.wheel = wheel\n",
    "        \n",
    "electro_bicycle = motorcycle(2, 1000)\n",
    "print(electro-bicycle.price)"
   ]
  },
  {
   "cell_type": "code",
   "execution_count": null,
   "id": "bc62b584",
   "metadata": {},
   "outputs": [],
   "source": []
  }
 ],
 "metadata": {
  "kernelspec": {
   "display_name": "Python 3",
   "language": "python",
   "name": "python3"
  },
  "language_info": {
   "codemirror_mode": {
    "name": "ipython",
    "version": 3
   },
   "file_extension": ".py",
   "mimetype": "text/x-python",
   "name": "python",
   "nbconvert_exporter": "python",
   "pygments_lexer": "ipython3",
   "version": "3.8.8"
  }
 },
 "nbformat": 4,
 "nbformat_minor": 5
}
