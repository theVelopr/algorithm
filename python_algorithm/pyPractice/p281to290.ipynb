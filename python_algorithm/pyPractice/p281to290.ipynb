{
 "cells": [
  {
   "cell_type": "code",
   "execution_count": 5,
   "id": "06861f05",
   "metadata": {},
   "outputs": [
    {
     "name": "stdout",
     "output_type": "stream",
     "text": [
      "1000\n",
      "2\n"
     ]
    }
   ],
   "source": [
    "# 281 define the classes\n",
    "\n",
    "class car:\n",
    "    def __init__(self, price, wheel):\n",
    "        self.price = price\n",
    "        self.wheel = wheel\n",
    "    \n",
    "cars = car(1000, 2)\n",
    "print(cars.wheel)\n",
    "print(cars.price)"
   ]
  },
  {
   "cell_type": "code",
   "execution_count": 9,
   "id": "94c12bb2",
   "metadata": {},
   "outputs": [
    {
     "name": "stdout",
     "output_type": "stream",
     "text": [
      "1000\n"
     ]
    }
   ],
   "source": [
    "# 282 class inheritance \n",
    "\n",
    "class car:\n",
    "    def __init__(self, price, wheel):\n",
    "        self.prince = price\n",
    "        self.wheel = wheel\n",
    "    \n",
    "class motorcycle:\n",
    "    def __init__(self, price, wheel):\n",
    "        self.price = price\n",
    "        self.wheel = wheel\n",
    "        \n",
    "electro_bicycle = motorcycle(1000, 2)\n",
    "print(electro_bicycle.price)"
   ]
  },
  {
   "cell_type": "code",
   "execution_count": 10,
   "id": "5511a711",
   "metadata": {},
   "outputs": [],
   "source": [
    "# 283 \n",
    "class 차:\n",
    "    def __init__(self, 바퀴, 가격):\n",
    "        self.바퀴 = 바퀴\n",
    "        self.가격 = 가격\n",
    "\n",
    "\n",
    "class 자전차(차):\n",
    "    def __init__(self, 바퀴, 가격, 구동계):\n",
    "        super().__init__(바퀴, 가격)\n",
    "        #차.__init__(self, 바퀴, 가격)\n",
    "        self.구동계 = 구동계\n",
    "\n",
    "\n",
    "bicycle = 자전차(2, 100, \"시마노\")\n",
    "print(bicycle.구동계)\n",
    "print(bicycle.바퀴)"
   ]
  },
  {
   "cell_type": "code",
   "execution_count": null,
   "id": "8c1f3ca2",
   "metadata": {},
   "outputs": [],
   "source": []
  }
 ],
 "metadata": {
  "kernelspec": {
   "display_name": "Python 3",
   "language": "python",
   "name": "python3"
  },
  "language_info": {
   "codemirror_mode": {
    "name": "ipython",
    "version": 3
   },
   "file_extension": ".py",
   "mimetype": "text/x-python",
   "name": "python",
   "nbconvert_exporter": "python",
   "pygments_lexer": "ipython3",
   "version": "3.8.8"
  }
 },
 "nbformat": 4,
 "nbformat_minor": 5
}
