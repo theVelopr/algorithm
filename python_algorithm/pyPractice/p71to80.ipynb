{
 "cells": [
  {
   "cell_type": "markdown",
   "id": "850e02e6",
   "metadata": {},
   "source": [
    "### 071\n",
    "my_variable 이름의 비어있는 튜플을 만들라."
   ]
  },
  {
   "cell_type": "code",
   "execution_count": 2,
   "id": "2da7caf4",
   "metadata": {},
   "outputs": [
    {
     "name": "stdout",
     "output_type": "stream",
     "text": [
      "<class 'tuple'>\n"
     ]
    }
   ],
   "source": [
    "my_variable = ()\n",
    "print(type(my_variable))"
   ]
  },
  {
   "cell_type": "markdown",
   "id": "ac71fad7",
   "metadata": {},
   "source": [
    "### 072\n",
    "2016년 11월 영화 예매 순위 기준 top3는 다음과 같다. 영화 제목을 movie_rank 이름의 튜플에 저장하라. (순위 정보는 저장하지 않는다.)\n",
    "\n",
    "순위\t영화\n",
    "<br>1\t닥터 스트레인지\n",
    "<br>2\t스플릿\n",
    "<br>3\t럭키"
   ]
  },
  {
   "cell_type": "code",
   "execution_count": 3,
   "id": "20fa8c11",
   "metadata": {},
   "outputs": [
    {
     "name": "stdout",
     "output_type": "stream",
     "text": [
      "('닥터 스트레인지', '스플릿', '럭키')\n"
     ]
    }
   ],
   "source": [
    "movie_rank = ('닥터 스트레인지', '스플릿', '럭키')\n",
    "\n",
    "print(movie_rank)"
   ]
  },
  {
   "cell_type": "markdown",
   "id": "e7986855",
   "metadata": {},
   "source": [
    "### 073\n",
    "숫자 1 이 저장된 튜플을 생성하라."
   ]
  },
  {
   "cell_type": "code",
   "execution_count": 7,
   "id": "f248f476",
   "metadata": {},
   "outputs": [
    {
     "name": "stdout",
     "output_type": "stream",
     "text": [
      "<class 'tuple'>\n"
     ]
    }
   ],
   "source": [
    "var = (1,)\n",
    "\n",
    "print(type(var))"
   ]
  },
  {
   "cell_type": "markdown",
   "id": "2ef5d534",
   "metadata": {},
   "source": [
    "하나의 데이터가 튜플에 저장되는 경우 ,를 넣어줘야 됨."
   ]
  },
  {
   "cell_type": "markdown",
   "id": "c50254ed",
   "metadata": {},
   "source": [
    "### 075\n",
    "아래와 같이 t에는 1, 2, 3, 4 데이터가 바인딩되어 있다. t가 바인딩하는 데이터 타입은 무엇인가?\n",
    "\n",
    "t = 1, 2, 3, 4"
   ]
  },
  {
   "cell_type": "code",
   "execution_count": 8,
   "id": "3e2c7522",
   "metadata": {},
   "outputs": [
    {
     "name": "stdout",
     "output_type": "stream",
     "text": [
      "<class 'tuple'>\n"
     ]
    }
   ],
   "source": [
    "t = 1, 2, 3, 4\n",
    "\n",
    "print(type(t))"
   ]
  },
  {
   "cell_type": "markdown",
   "id": "53c6dee1",
   "metadata": {},
   "source": [
    "원칙적으로 튜플은 괄호와 함께 데이터를 정의해야 하지만, 사용자 편의를 위해 괄호 없이도 동작합니다. "
   ]
  },
  {
   "cell_type": "code",
   "execution_count": null,
   "id": "bb910b78",
   "metadata": {},
   "outputs": [],
   "source": []
  }
 ],
 "metadata": {
  "kernelspec": {
   "display_name": "Python 3",
   "language": "python",
   "name": "python3"
  },
  "language_info": {
   "codemirror_mode": {
    "name": "ipython",
    "version": 3
   },
   "file_extension": ".py",
   "mimetype": "text/x-python",
   "name": "python",
   "nbconvert_exporter": "python",
   "pygments_lexer": "ipython3",
   "version": "3.8.8"
  }
 },
 "nbformat": 4,
 "nbformat_minor": 5
}
