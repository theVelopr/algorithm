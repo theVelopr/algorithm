{
 "cells": [
  {
   "cell_type": "markdown",
   "id": "b9bf6dce",
   "metadata": {},
   "source": [
    "### 181"
   ]
  },
  {
   "cell_type": "code",
   "execution_count": 3,
   "id": "c0413ea0",
   "metadata": {},
   "outputs": [
    {
     "name": "stdout",
     "output_type": "stream",
     "text": [
      "[['101호', '102호'], ['201호', '202호'], ['301호', '302호']]\n"
     ]
    }
   ],
   "source": [
    "home = [[\"101호\", \"102호\"], [\"201호\", \"202호\"], [\"301호\", \"302호\"]]\n",
    "print(home)"
   ]
  },
  {
   "cell_type": "markdown",
   "id": "51b3dd33",
   "metadata": {},
   "source": [
    "### 182"
   ]
  },
  {
   "cell_type": "code",
   "execution_count": 4,
   "id": "bd59776e",
   "metadata": {},
   "outputs": [
    {
     "name": "stdout",
     "output_type": "stream",
     "text": [
      "[['시가', 100, 200, 300], ['종가', 80, 210, 330]]\n"
     ]
    }
   ],
   "source": [
    "stock = [[\"시가\", 100, 200, 300], [\"종가\", 80, 210, 330]]\n",
    "print(stock)"
   ]
  },
  {
   "cell_type": "markdown",
   "id": "d570acc8",
   "metadata": {},
   "source": [
    "### 183"
   ]
  },
  {
   "cell_type": "code",
   "execution_count": 5,
   "id": "cc08e48d",
   "metadata": {},
   "outputs": [
    {
     "name": "stdout",
     "output_type": "stream",
     "text": [
      "{'시가': [100, 200, 300], '종가': [80, 210, 330]}\n"
     ]
    }
   ],
   "source": [
    "stock = {\"시가\": [100, 200, 300], \"종가\":[80, 210, 330]}\n",
    "print(stock)"
   ]
  },
  {
   "cell_type": "markdown",
   "id": "6cc6af50",
   "metadata": {},
   "source": [
    "### 184"
   ]
  },
  {
   "cell_type": "code",
   "execution_count": 7,
   "id": "71e0aa05",
   "metadata": {},
   "outputs": [
    {
     "name": "stdout",
     "output_type": "stream",
     "text": [
      "{'10/10': [80, 110, 70, 90], '10/11': [210, 230, 190, 200]}\n"
     ]
    }
   ],
   "source": [
    "stock = {\"10/10\": [80, 110, 70, 90], \"10/11\": [210, 230, 190, 200]}\n",
    "print(stock)"
   ]
  },
  {
   "cell_type": "markdown",
   "id": "5d8228c1",
   "metadata": {},
   "source": [
    "### 185"
   ]
  },
  {
   "cell_type": "code",
   "execution_count": 10,
   "id": "450d2e6a",
   "metadata": {},
   "outputs": [
    {
     "name": "stdout",
     "output_type": "stream",
     "text": [
      "[101, 102] 호\n",
      "[201, 202] 호\n",
      "[301, 302] 호\n",
      "\n",
      "101 호\n",
      "102 호\n",
      "201 호\n",
      "202 호\n",
      "301 호\n",
      "302 호\n"
     ]
    }
   ],
   "source": [
    "home = [ [101, 102], [201, 202], [301, 302] ]\n",
    "\n",
    "for row in home :\n",
    "    print (row, \"호\")\n",
    "\n",
    "print(\"\")\n",
    "\n",
    "for row in home :\n",
    "    for col in row :\n",
    "        print (col, \"호\")"
   ]
  }
 ],
 "metadata": {
  "kernelspec": {
   "display_name": "Python 3",
   "language": "python",
   "name": "python3"
  },
  "language_info": {
   "codemirror_mode": {
    "name": "ipython",
    "version": 3
   },
   "file_extension": ".py",
   "mimetype": "text/x-python",
   "name": "python",
   "nbconvert_exporter": "python",
   "pygments_lexer": "ipython3",
   "version": "3.8.8"
  }
 },
 "nbformat": 4,
 "nbformat_minor": 5
}
