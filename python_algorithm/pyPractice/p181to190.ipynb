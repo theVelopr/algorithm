{
 "cells": [
  {
   "cell_type": "markdown",
   "id": "b4600ccb",
   "metadata": {},
   "source": [
    "### 181"
   ]
  },
  {
   "cell_type": "code",
   "execution_count": 3,
   "id": "4ebdeb60",
   "metadata": {},
   "outputs": [
    {
     "name": "stdout",
     "output_type": "stream",
     "text": [
      "[['101호', '102호'], ['201호', '202호'], ['301호', '302호']]\n"
     ]
    }
   ],
   "source": [
    "home = [[\"101호\", \"102호\"], [\"201호\", \"202호\"], [\"301호\", \"302호\"]]\n",
    "print(home)"
   ]
  },
  {
   "cell_type": "markdown",
   "id": "5cbb985e",
   "metadata": {},
   "source": [
    "### 182"
   ]
  },
  {
   "cell_type": "code",
   "execution_count": 4,
   "id": "b59dd0cb",
   "metadata": {},
   "outputs": [
    {
     "name": "stdout",
     "output_type": "stream",
     "text": [
      "[['시가', 100, 200, 300], ['종가', 80, 210, 330]]\n"
     ]
    }
   ],
   "source": [
    "stock = [[\"시가\", 100, 200, 300], [\"종가\", 80, 210, 330]]\n",
    "print(stock)"
   ]
  },
  {
   "cell_type": "markdown",
   "id": "53cfbbc1",
   "metadata": {},
   "source": [
    "### 183"
   ]
  },
  {
   "cell_type": "code",
   "execution_count": 5,
   "id": "601201a2",
   "metadata": {},
   "outputs": [
    {
     "name": "stdout",
     "output_type": "stream",
     "text": [
      "{'시가': [100, 200, 300], '종가': [80, 210, 330]}\n"
     ]
    }
   ],
   "source": [
    "stock = {\"시가\": [100, 200, 300], \"종가\":[80, 210, 330]}\n",
    "print(stock)"
   ]
  },
  {
   "cell_type": "markdown",
   "id": "f057d0a8",
   "metadata": {},
   "source": [
    "### 184"
   ]
  },
  {
   "cell_type": "code",
   "execution_count": 7,
   "id": "ced04405",
   "metadata": {},
   "outputs": [
    {
     "name": "stdout",
     "output_type": "stream",
     "text": [
      "{'10/10': [80, 110, 70, 90], '10/11': [210, 230, 190, 200]}\n"
     ]
    }
   ],
   "source": [
    "stock = {\"10/10\": [80, 110, 70, 90], \"10/11\": [210, 230, 190, 200]}\n",
    "print(stock)"
   ]
  },
  {
   "cell_type": "markdown",
   "id": "d2265990",
   "metadata": {},
   "source": [
    "### 185"
   ]
  },
  {
   "cell_type": "code",
   "execution_count": 11,
   "id": "0d1af6e1",
   "metadata": {},
   "outputs": [
    {
     "name": "stdout",
     "output_type": "stream",
     "text": [
      "[101, 102] 호\n",
      "[201, 202] 호\n",
      "[301, 302] 호\n",
      "\n",
      "101 호\n",
      "102 호\n",
      "201 호\n",
      "202 호\n",
      "301 호\n",
      "302 호\n"
     ]
    }
   ],
   "source": [
    "home = [ [101, 102], [201, 202], [301, 302] ]\n",
    "\n",
    "for row in home :\n",
    "    print (row, \"호\")\n",
    "\n",
    "print(\"\")\n",
    "\n",
    "for row in home :\n",
    "    for col in row :\n",
    "        print (col, \"호\")"
   ]
  },
  {
   "cell_type": "markdown",
   "id": "6e6ed995",
   "metadata": {},
   "source": [
    "### 186"
   ]
  },
  {
   "cell_type": "code",
   "execution_count": 22,
   "id": "5db20635",
   "metadata": {},
   "outputs": [
    {
     "name": "stdout",
     "output_type": "stream",
     "text": [
      "[301, 302]\n",
      "[201, 202]\n",
      "[101, 102]\n",
      "\n",
      "301 호\n",
      "302 호\n",
      "201 호\n",
      "202 호\n",
      "101 호\n",
      "102 호\n"
     ]
    }
   ],
   "source": [
    "home = [ [101, 102], [201, 202], [301, 302] ]\n",
    "\n",
    "for row in home[::-1]:\n",
    "    print(row)\n",
    "    \n",
    "print(\"\")\n",
    "\n",
    "for row in home[::-1]:\n",
    "    for col in row:\n",
    "        print(col, \"호\")"
   ]
  },
  {
   "cell_type": "markdown",
   "id": "1201ca90",
   "metadata": {},
   "source": [
    "### 187"
   ]
  },
  {
   "cell_type": "code",
   "execution_count": 25,
   "id": "46b7bfff",
   "metadata": {},
   "outputs": [
    {
     "name": "stdout",
     "output_type": "stream",
     "text": [
      "[302, 301]\n",
      "[202, 201]\n",
      "[102, 101]\n",
      "\n",
      "302 호\n",
      "301 호\n",
      "202 호\n",
      "201 호\n",
      "102 호\n",
      "101 호\n"
     ]
    }
   ],
   "source": [
    "home = [ [101, 102], [201, 202], [301, 302] ]\n",
    "\n",
    "for row in home[::-1]:\n",
    "    print(row[::-1])\n",
    "    \n",
    "print(\"\")\n",
    "\n",
    "for row in home[::-1]:\n",
    "    for col in row[::-1]:\n",
    "        print(col, \"호\")"
   ]
  },
  {
   "cell_type": "code",
   "execution_count": null,
   "id": "8c8e603a",
   "metadata": {},
   "outputs": [],
   "source": []
  }
 ],
 "metadata": {
  "kernelspec": {
   "display_name": "Python 3",
   "language": "python",
   "name": "python3"
  },
  "language_info": {
   "codemirror_mode": {
    "name": "ipython",
    "version": 3
   },
   "file_extension": ".py",
   "mimetype": "text/x-python",
   "name": "python",
   "nbconvert_exporter": "python",
   "pygments_lexer": "ipython3",
   "version": "3.8.8"
  }
 },
 "nbformat": 4,
 "nbformat_minor": 5
}
