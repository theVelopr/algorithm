{
 "cells": [
  {
   "cell_type": "markdown",
   "id": "8c928f69",
   "metadata": {},
   "source": [
    "### 201 - 203"
   ]
  },
  {
   "cell_type": "code",
   "execution_count": 4,
   "id": "0942536c",
   "metadata": {},
   "outputs": [
    {
     "name": "stdout",
     "output_type": "stream",
     "text": [
      "Bitcoin\n",
      "Bitcoin\n",
      "Bitcoin\n",
      "Bitcoin\n",
      "Bitcoin\n",
      "Bitcoin\n",
      "Bitcoin\n",
      "Bitcoin\n",
      "Bitcoin\n",
      "Bitcoin\n",
      "Bitcoin\n",
      "Bitcoin\n",
      "Bitcoin\n",
      "Bitcoin\n",
      "Bitcoin\n",
      "Bitcoin\n",
      "Bitcoin\n",
      "Bitcoin\n",
      "Bitcoin\n",
      "Bitcoin\n",
      "Bitcoin\n",
      "Bitcoin\n",
      "Bitcoin\n",
      "Bitcoin\n",
      "Bitcoin\n",
      "Bitcoin\n",
      "Bitcoin\n",
      "Bitcoin\n",
      "Bitcoin\n",
      "Bitcoin\n",
      "Bitcoin\n",
      "Bitcoin\n",
      "Bitcoin\n",
      "Bitcoin\n",
      "Bitcoin\n",
      "Bitcoin\n",
      "Bitcoin\n",
      "Bitcoin\n",
      "Bitcoin\n",
      "Bitcoin\n",
      "Bitcoin\n",
      "Bitcoin\n",
      "Bitcoin\n",
      "Bitcoin\n",
      "Bitcoin\n",
      "Bitcoin\n",
      "Bitcoin\n",
      "Bitcoin\n",
      "Bitcoin\n",
      "Bitcoin\n",
      "Bitcoin\n",
      "Bitcoin\n",
      "Bitcoin\n",
      "Bitcoin\n",
      "Bitcoin\n",
      "Bitcoin\n",
      "Bitcoin\n",
      "Bitcoin\n",
      "Bitcoin\n",
      "Bitcoin\n",
      "Bitcoin\n",
      "Bitcoin\n",
      "Bitcoin\n",
      "Bitcoin\n",
      "Bitcoin\n",
      "Bitcoin\n",
      "Bitcoin\n",
      "Bitcoin\n",
      "Bitcoin\n",
      "Bitcoin\n",
      "Bitcoin\n",
      "Bitcoin\n",
      "Bitcoin\n",
      "Bitcoin\n",
      "Bitcoin\n",
      "Bitcoin\n",
      "Bitcoin\n",
      "Bitcoin\n",
      "Bitcoin\n",
      "Bitcoin\n",
      "Bitcoin\n",
      "Bitcoin\n",
      "Bitcoin\n",
      "Bitcoin\n",
      "Bitcoin\n",
      "Bitcoin\n",
      "Bitcoin\n",
      "Bitcoin\n",
      "Bitcoin\n",
      "Bitcoin\n",
      "Bitcoin\n",
      "Bitcoin\n",
      "Bitcoin\n",
      "Bitcoin\n",
      "Bitcoin\n",
      "Bitcoin\n",
      "Bitcoin\n",
      "Bitcoin\n",
      "Bitcoin\n",
      "Bitcoin\n",
      "Bitcoin\n"
     ]
    }
   ],
   "source": [
    "#201\n",
    "def print_coin():\n",
    "    print(\"Bitcoin\")\n",
    "\n",
    "#202\n",
    "print_coin()\n",
    "\n",
    "#203\n",
    "for i in range(100) :\n",
    "    print_coin()"
   ]
  },
  {
   "cell_type": "markdown",
   "id": "b8378ec8",
   "metadata": {},
   "source": [
    "### 204"
   ]
  },
  {
   "cell_type": "code",
   "execution_count": 5,
   "id": "22dcabf0",
   "metadata": {},
   "outputs": [],
   "source": [
    "def print_coins() :\n",
    "    for i in range(100):\n",
    "        print(\"Bitcoin\")"
   ]
  },
  {
   "cell_type": "code",
   "execution_count": null,
   "id": "fdfd0d8d",
   "metadata": {},
   "outputs": [],
   "source": []
  }
 ],
 "metadata": {
  "kernelspec": {
   "display_name": "Python 3",
   "language": "python",
   "name": "python3"
  },
  "language_info": {
   "codemirror_mode": {
    "name": "ipython",
    "version": 3
   },
   "file_extension": ".py",
   "mimetype": "text/x-python",
   "name": "python",
   "nbconvert_exporter": "python",
   "pygments_lexer": "ipython3",
   "version": "3.8.8"
  }
 },
 "nbformat": 4,
 "nbformat_minor": 5
}
