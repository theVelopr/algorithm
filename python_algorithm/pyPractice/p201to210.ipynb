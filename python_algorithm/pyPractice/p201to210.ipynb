{
 "cells": [
  {
   "cell_type": "markdown",
   "id": "c2a7d031",
   "metadata": {},
   "source": [
    "### 201 - 203"
   ]
  },
  {
   "cell_type": "code",
   "execution_count": 4,
   "id": "ef4da2a9",
   "metadata": {},
   "outputs": [
    {
     "name": "stdout",
     "output_type": "stream",
     "text": [
      "Bitcoin\n",
      "Bitcoin\n",
      "Bitcoin\n",
      "Bitcoin\n",
      "Bitcoin\n",
      "Bitcoin\n",
      "Bitcoin\n",
      "Bitcoin\n",
      "Bitcoin\n",
      "Bitcoin\n",
      "Bitcoin\n",
      "Bitcoin\n",
      "Bitcoin\n",
      "Bitcoin\n",
      "Bitcoin\n",
      "Bitcoin\n",
      "Bitcoin\n",
      "Bitcoin\n",
      "Bitcoin\n",
      "Bitcoin\n",
      "Bitcoin\n",
      "Bitcoin\n",
      "Bitcoin\n",
      "Bitcoin\n",
      "Bitcoin\n",
      "Bitcoin\n",
      "Bitcoin\n",
      "Bitcoin\n",
      "Bitcoin\n",
      "Bitcoin\n",
      "Bitcoin\n",
      "Bitcoin\n",
      "Bitcoin\n",
      "Bitcoin\n",
      "Bitcoin\n",
      "Bitcoin\n",
      "Bitcoin\n",
      "Bitcoin\n",
      "Bitcoin\n",
      "Bitcoin\n",
      "Bitcoin\n",
      "Bitcoin\n",
      "Bitcoin\n",
      "Bitcoin\n",
      "Bitcoin\n",
      "Bitcoin\n",
      "Bitcoin\n",
      "Bitcoin\n",
      "Bitcoin\n",
      "Bitcoin\n",
      "Bitcoin\n",
      "Bitcoin\n",
      "Bitcoin\n",
      "Bitcoin\n",
      "Bitcoin\n",
      "Bitcoin\n",
      "Bitcoin\n",
      "Bitcoin\n",
      "Bitcoin\n",
      "Bitcoin\n",
      "Bitcoin\n",
      "Bitcoin\n",
      "Bitcoin\n",
      "Bitcoin\n",
      "Bitcoin\n",
      "Bitcoin\n",
      "Bitcoin\n",
      "Bitcoin\n",
      "Bitcoin\n",
      "Bitcoin\n",
      "Bitcoin\n",
      "Bitcoin\n",
      "Bitcoin\n",
      "Bitcoin\n",
      "Bitcoin\n",
      "Bitcoin\n",
      "Bitcoin\n",
      "Bitcoin\n",
      "Bitcoin\n",
      "Bitcoin\n",
      "Bitcoin\n",
      "Bitcoin\n",
      "Bitcoin\n",
      "Bitcoin\n",
      "Bitcoin\n",
      "Bitcoin\n",
      "Bitcoin\n",
      "Bitcoin\n",
      "Bitcoin\n",
      "Bitcoin\n",
      "Bitcoin\n",
      "Bitcoin\n",
      "Bitcoin\n",
      "Bitcoin\n",
      "Bitcoin\n",
      "Bitcoin\n",
      "Bitcoin\n",
      "Bitcoin\n",
      "Bitcoin\n",
      "Bitcoin\n",
      "Bitcoin\n"
     ]
    }
   ],
   "source": [
    "#201\n",
    "def print_coin():\n",
    "    print(\"Bitcoin\")\n",
    "\n",
    "#202\n",
    "print_coin()\n",
    "\n",
    "#203\n",
    "for i in range(100) :\n",
    "    print_coin()"
   ]
  },
  {
   "cell_type": "markdown",
   "id": "8a9e89e3",
   "metadata": {},
   "source": [
    "### 204"
   ]
  },
  {
   "cell_type": "code",
   "execution_count": 5,
   "id": "4cf7ea68",
   "metadata": {},
   "outputs": [],
   "source": [
    "def print_coins() :\n",
    "    for i in range(100):\n",
    "        print(\"Bitcoin\")"
   ]
  },
  {
   "cell_type": "markdown",
   "id": "1fe6ef50",
   "metadata": {},
   "source": [
    "### 205 - 210 \n",
    "\n",
    "Predicting the result based on the written code. Nothing to solve."
   ]
  },
  {
   "cell_type": "code",
   "execution_count": null,
   "id": "b002822d",
   "metadata": {},
   "outputs": [],
   "source": []
  }
 ],
 "metadata": {
  "kernelspec": {
   "display_name": "Python 3",
   "language": "python",
   "name": "python3"
  },
  "language_info": {
   "codemirror_mode": {
    "name": "ipython",
    "version": 3
   },
   "file_extension": ".py",
   "mimetype": "text/x-python",
   "name": "python",
   "nbconvert_exporter": "python",
   "pygments_lexer": "ipython3",
   "version": "3.8.8"
  }
 },
 "nbformat": 4,
 "nbformat_minor": 5
}
