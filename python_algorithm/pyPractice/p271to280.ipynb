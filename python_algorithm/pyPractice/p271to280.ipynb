{
 "cells": [
  {
   "cell_type": "code",
   "execution_count": 4,
   "id": "ff5c5e0c",
   "metadata": {},
   "outputs": [
    {
     "name": "stdout",
     "output_type": "stream",
     "text": [
      "김민수\n",
      "100\n",
      "SC은행\n",
      "717-18-000018\n"
     ]
    }
   ],
   "source": [
    "# 271\n",
    "import random\n",
    "\n",
    "class Account:\n",
    "    def __init__(self, name, balance):\n",
    "        self.name = name\n",
    "        self.balance = balance\n",
    "        self.bank = \"SC은행\"\n",
    "        num1 = random.randint(0,999)\n",
    "        num2 = random.randint(0, 99)\n",
    "        num3 = random.randint(0, 999999)\n",
    "        \n",
    "        num1 = str(num1).zfill(3)\n",
    "        num2 = str(num2).zfill(2)\n",
    "        num3 = str(num2).zfill(6)\n",
    "        self.account_number = num1 + '-' + num2 + '-' + num3\n",
    "    \n",
    "kim = Account(\"김민수\", 100)\n",
    "print(kim.name)\n",
    "print(kim.balance)\n",
    "print(kim.bank)\n",
    "print(kim.account_number)"
   ]
  },
  {
   "cell_type": "code",
   "execution_count": null,
   "id": "b9b1b492",
   "metadata": {},
   "outputs": [],
   "source": []
  }
 ],
 "metadata": {
  "kernelspec": {
   "display_name": "Python 3",
   "language": "python",
   "name": "python3"
  },
  "language_info": {
   "codemirror_mode": {
    "name": "ipython",
    "version": 3
   },
   "file_extension": ".py",
   "mimetype": "text/x-python",
   "name": "python",
   "nbconvert_exporter": "python",
   "pygments_lexer": "ipython3",
   "version": "3.8.8"
  }
 },
 "nbformat": 4,
 "nbformat_minor": 5
}
