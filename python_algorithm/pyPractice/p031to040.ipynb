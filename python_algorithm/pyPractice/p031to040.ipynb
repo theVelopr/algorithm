{
 "cells": [
  {
   "cell_type": "markdown",
   "id": "6d4fe996",
   "metadata": {},
   "source": [
    "### 031 문자열 합치기\n",
    "아래 코드의 실행 결과를 예상해보세요."
   ]
  },
  {
   "cell_type": "code",
   "execution_count": 1,
   "id": "8fa03970",
   "metadata": {},
   "outputs": [
    {
     "name": "stdout",
     "output_type": "stream",
     "text": [
      "34\n"
     ]
    }
   ],
   "source": [
    "a = \"3\"\n",
    "b = \"4\"\n",
    "print (a + b)"
   ]
  },
  {
   "cell_type": "markdown",
   "id": "8ca4ffff",
   "metadata": {},
   "source": [
    "### 032 문자열 곱하기\n",
    "아래 코드의 실행 결과를 예상해보세요."
   ]
  },
  {
   "cell_type": "code",
   "execution_count": 2,
   "id": "a85422db",
   "metadata": {},
   "outputs": [
    {
     "name": "stdout",
     "output_type": "stream",
     "text": [
      "HiHiHi\n"
     ]
    }
   ],
   "source": [
    "print(\"Hi\" * 3)"
   ]
  },
  {
   "cell_type": "markdown",
   "id": "432e8211",
   "metadata": {},
   "source": [
    "### 033 문자열 곱하기\n",
    "화면에 '-'를 80개 출력하세요."
   ]
  },
  {
   "cell_type": "code",
   "execution_count": 3,
   "id": "929a6f7a",
   "metadata": {},
   "outputs": [
    {
     "name": "stdout",
     "output_type": "stream",
     "text": [
      "--------------------------------------------------------------------------------\n"
     ]
    }
   ],
   "source": [
    "print ('-' * 80)"
   ]
  },
  {
   "cell_type": "markdown",
   "id": "b4087f62",
   "metadata": {},
   "source": [
    "### 034 문자열 곱하기\n",
    "변수에 다음과 같은 문자열이 바인딩되어 있습니다.\n",
    "<br> t1 = 'python'\n",
    "<br> t2 = 'java'\n",
    "<br> 변수에 문자열 더하기와 문자열 곱하기를 사용해서 아래와 같이 출력해보세요."
   ]
  },
  {
   "cell_type": "code",
   "execution_count": 8,
   "id": "a4fbdebd",
   "metadata": {},
   "outputs": [
    {
     "name": "stdout",
     "output_type": "stream",
     "text": [
      "pythonjavapythonjavapythonjavapythonjavapythonjava\n",
      "python java python java python java python java python java \n"
     ]
    }
   ],
   "source": [
    "t1 = 'python'\n",
    "t2 = 'java'\n",
    "\n",
    "print ((t1 + t2) * 5)\n",
    "\n",
    "t3 = t1 + ' ' + t2 + ' '\n",
    "print (t3 * 5)"
   ]
  },
  {
   "cell_type": "code",
   "execution_count": null,
   "id": "36520da1",
   "metadata": {},
   "outputs": [],
   "source": []
  }
 ],
 "metadata": {
  "kernelspec": {
   "display_name": "Python 3",
   "language": "python",
   "name": "python3"
  },
  "language_info": {
   "codemirror_mode": {
    "name": "ipython",
    "version": 3
   },
   "file_extension": ".py",
   "mimetype": "text/x-python",
   "name": "python",
   "nbconvert_exporter": "python",
   "pygments_lexer": "ipython3",
   "version": "3.8.8"
  }
 },
 "nbformat": 4,
 "nbformat_minor": 5
}
