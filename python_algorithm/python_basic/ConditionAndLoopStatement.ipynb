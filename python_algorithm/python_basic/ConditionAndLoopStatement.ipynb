{
 "cells": [
  {
   "cell_type": "markdown",
   "id": "055a278d",
   "metadata": {},
   "source": [
    "# Condition & Loop "
   ]
  },
  {
   "cell_type": "markdown",
   "id": "47f6a21e",
   "metadata": {},
   "source": [
    "### Exercise 12. Primitive Type\n",
    "theVelpr"
   ]
  },
  {
   "cell_type": "code",
   "execution_count": 1,
   "id": "9dc7e6f8",
   "metadata": {},
   "outputs": [
    {
     "name": "stdout",
     "output_type": "stream",
     "text": [
      "<class 'int'>\n",
      "<class 'float'>\n",
      "<class 'str'>\n"
     ]
    }
   ],
   "source": [
    "num1 = 1\n",
    "num2 = 1.1\n",
    "String = \"theVelpr\"\n",
    "\n",
    "print (type(num1))\n",
    "print (type(num2))\n",
    "print (type(String))"
   ]
  },
  {
   "cell_type": "markdown",
   "id": "938155e0",
   "metadata": {},
   "source": [
    "### Exercise 13. \\t & \\n"
   ]
  },
  {
   "cell_type": "code",
   "execution_count": 2,
   "id": "37059e7b",
   "metadata": {},
   "outputs": [
    {
     "name": "stdout",
     "output_type": "stream",
     "text": [
      "11111\t2222222222222\n",
      "33333333\n"
     ]
    }
   ],
   "source": [
    "string = '11111\\t2222222222222\\n33333333'\n",
    "print (string)"
   ]
  },
  {
   "cell_type": "code",
   "execution_count": null,
   "id": "a98ddc1d",
   "metadata": {},
   "outputs": [],
   "source": []
  }
 ],
 "metadata": {
  "kernelspec": {
   "display_name": "Python 3",
   "language": "python",
   "name": "python3"
  },
  "language_info": {
   "codemirror_mode": {
    "name": "ipython",
    "version": 3
   },
   "file_extension": ".py",
   "mimetype": "text/x-python",
   "name": "python",
   "nbconvert_exporter": "python",
   "pygments_lexer": "ipython3",
   "version": "3.8.8"
  }
 },
 "nbformat": 4,
 "nbformat_minor": 5
}
