{
 "cells": [
  {
   "cell_type": "markdown",
   "id": "71f2d8fa",
   "metadata": {},
   "source": [
    "# Condition & Loop "
   ]
  },
  {
   "cell_type": "markdown",
   "id": "03753823",
   "metadata": {},
   "source": [
    "### Exercise 12. Primitive Type\n",
    "theVelpr"
   ]
  },
  {
   "cell_type": "code",
   "execution_count": 1,
   "id": "8611ec0b",
   "metadata": {},
   "outputs": [
    {
     "name": "stdout",
     "output_type": "stream",
     "text": [
      "<class 'int'>\n",
      "<class 'float'>\n",
      "<class 'str'>\n"
     ]
    }
   ],
   "source": [
    "num1 = 1\n",
    "num2 = 1.1\n",
    "String = \"theVelpr\"\n",
    "\n",
    "print (type(num1))\n",
    "print (type(num2))\n",
    "print (type(String))"
   ]
  },
  {
   "cell_type": "markdown",
   "id": "c59eb724",
   "metadata": {},
   "source": [
    "### Exercise 13. \\t & \\n"
   ]
  },
  {
   "cell_type": "code",
   "execution_count": 2,
   "id": "2d1bd0c6",
   "metadata": {},
   "outputs": [
    {
     "name": "stdout",
     "output_type": "stream",
     "text": [
      "11111\t2222222222222\n",
      "33333333\n"
     ]
    }
   ],
   "source": [
    "string = '11111\\t2222222222222\\n33333333'\n",
    "print (string)"
   ]
  },
  {
   "cell_type": "markdown",
   "id": "6b389e43",
   "metadata": {},
   "source": [
    "### Exercise 14. Conditional statement\n",
    "Which number is greater? "
   ]
  },
  {
   "cell_type": "code",
   "execution_count": 3,
   "id": "161bfda8",
   "metadata": {},
   "outputs": [
    {
     "name": "stdout",
     "output_type": "stream",
     "text": [
      "1\n",
      "2\n",
      "2\n"
     ]
    }
   ],
   "source": [
    "a = input()\n",
    "b = input()\n",
    "\n",
    "if a > b : \n",
    "    print (a)\n",
    "else : \n",
    "    print (b)"
   ]
  },
  {
   "cell_type": "markdown",
   "id": "4109e25f",
   "metadata": {},
   "source": [
    "### Exercise 15. Conditional Statement\n",
    "Is it odd number or even number?"
   ]
  },
  {
   "cell_type": "code",
   "execution_count": 8,
   "id": "521096cc",
   "metadata": {},
   "outputs": [
    {
     "name": "stdout",
     "output_type": "stream",
     "text": [
      "1\n",
      "Odd number\n"
     ]
    }
   ],
   "source": [
    "a = input()\n",
    "a = int(a)\n",
    "\n",
    "if a % 2 == 0 :\n",
    "    print (\"Even number.\")\n",
    "else :\n",
    "    print (\"Odd number\")"
   ]
  },
  {
   "cell_type": "markdown",
   "id": "1d2834c8",
   "metadata": {},
   "source": [
    " ### Exercise 16. Conditional Statement\n",
    " Find a lowest number."
   ]
  },
  {
   "cell_type": "code",
   "execution_count": 11,
   "id": "a294e145",
   "metadata": {},
   "outputs": [
    {
     "name": "stdout",
     "output_type": "stream",
     "text": [
      "3\n",
      "2\n",
      "1\n",
      "1\n"
     ]
    }
   ],
   "source": [
    "a = int(input())\n",
    "b = int(input())\n",
    "c = int(input())\n",
    "\n",
    "if a > b :\n",
    "    min = b\n",
    "else :\n",
    "    min = a\n",
    "\n",
    "if min < c :\n",
    "    print (min)\n",
    "else :\n",
    "    print (c)\n"
   ]
  },
  {
   "cell_type": "markdown",
   "id": "297b476e",
   "metadata": {},
   "source": [
    "### Exercise 17. Conditional Statement\n",
    "What is your grade?"
   ]
  },
  {
   "cell_type": "code",
   "execution_count": 13,
   "id": "b438257a",
   "metadata": {},
   "outputs": [
    {
     "name": "stdout",
     "output_type": "stream",
     "text": [
      "60\n",
      "F\n"
     ]
    }
   ],
   "source": [
    "score = int(input())\n",
    "\n",
    "if score <= 100 & score >= 81 :\n",
    "    print('A')\n",
    "elif score <= 80 & score > 61 :\n",
    "    print('C')\n",
    "elif score <= 60 & score >= 0 :\n",
    "    print('F')"
   ]
  },
  {
   "cell_type": "markdown",
   "id": "0cf72c66",
   "metadata": {},
   "source": [
    "### Exercise 18. Data Structure (List)\n",
    "Extract the year of birth from Identification number."
   ]
  },
  {
   "cell_type": "code",
   "execution_count": 16,
   "id": "fd4ee30e",
   "metadata": {},
   "outputs": [
    {
     "name": "stdout",
     "output_type": "stream",
     "text": [
      "79\n"
     ]
    }
   ],
   "source": [
    "pid = \"790101-1234567\"\n",
    "\n",
    "print (pid[0:2])"
   ]
  },
  {
   "cell_type": "markdown",
   "id": "e42a4832",
   "metadata": {},
   "source": [
    "### Exercise 19. Data Structure (List)\n",
    "Extract the gender identification from identificagtgion number.\n",
    "Male : 1, 3 \n",
    "Female : 2, 4"
   ]
  },
  {
   "cell_type": "code",
   "execution_count": 22,
   "id": "47b605ce",
   "metadata": {},
   "outputs": [
    {
     "name": "stdout",
     "output_type": "stream",
     "text": [
      "Male\n"
     ]
    }
   ],
   "source": [
    "pid = \"790101-1234567\"\n",
    "\n",
    "if pid[7] == '1' or pid[7] == '3' :\n",
    "    print (\"Male\")\n",
    "elif pd[7] == '2' or pid[7] == '4' :\n",
    "    print (\"Female\")"
   ]
  },
  {
   "cell_type": "markdown",
   "id": "3fbc0fb0",
   "metadata": {},
   "source": [
    "### Exercise 20. String (strip)\n",
    "Remove '...' from the given sentence."
   ]
  },
  {
   "cell_type": "code",
   "execution_count": 25,
   "id": "e71a05b4",
   "metadata": {},
   "outputs": [
    {
     "name": "stdout",
     "output_type": "stream",
     "text": [
      "His palms are sweaty, knees weak\n"
     ]
    }
   ],
   "source": [
    "sen = \"His palms are sweaty, knees weak...\"\n",
    "\n",
    "print (sen.strip(\".\"))"
   ]
  },
  {
   "cell_type": "markdown",
   "id": "95baf06f",
   "metadata": {},
   "source": [
    "### Exercise 21. String (strip)\n",
    "Remove the empty space from the trade code."
   ]
  },
  {
   "cell_type": "code",
   "execution_count": 28,
   "id": "7a3cf2e7",
   "metadata": {},
   "outputs": [
    {
     "name": "stdout",
     "output_type": "stream",
     "text": [
      "                000920\n",
      "            \n"
     ]
    }
   ],
   "source": [
    "code = '                000920\\n            '\n",
    "print (code)"
   ]
  },
  {
   "cell_type": "code",
   "execution_count": 30,
   "id": "92e3f865",
   "metadata": {},
   "outputs": [
    {
     "name": "stdout",
     "output_type": "stream",
     "text": [
      "000920\n"
     ]
    }
   ],
   "source": [
    "code = '                000920\\n            '\n",
    "\n",
    "print(code.strip(\" \\n\"))"
   ]
  },
  {
   "cell_type": "markdown",
   "id": "6804e5de",
   "metadata": {},
   "source": [
    "### Exercise 22. String (count)\n",
    "Count how many 'Python' is written on the given paragraph?"
   ]
  },
  {
   "cell_type": "code",
   "execution_count": 31,
   "id": "1b3ef698",
   "metadata": {},
   "outputs": [
    {
     "name": "stdout",
     "output_type": "stream",
     "text": [
      "2\n"
     ]
    }
   ],
   "source": [
    "description = \"Python is an interpreted high-level general-purpose programming language. Python's design philosophy emphasizes code readability with its notable use of significant indentation. Its language constructs as well as its object-oriented approach aim to help programmers write clear, logical code for small and large-scale projects.\"\n",
    "\n",
    "print(description.count(\"Python\"))"
   ]
  },
  {
   "cell_type": "markdown",
   "id": "631633cc",
   "metadata": {},
   "source": [
    "### Exercise 23. String (count)\n",
    "Count how many 'p' in the paragraph?"
   ]
  },
  {
   "cell_type": "code",
   "execution_count": 33,
   "id": "162a556f",
   "metadata": {},
   "outputs": [
    {
     "name": "stdout",
     "output_type": "stream",
     "text": [
      "12\n"
     ]
    }
   ],
   "source": [
    "description = \"Python is an interpreted high-level general-purpose programming language. Python's design philosophy emphasizes code readability with its notable use of significant indentation. Its language constructs as well as its object-oriented approach aim to help programmers write clear, logical code for small and large-scale projects.\"\n",
    "\n",
    "print(description.count(\"p\"))"
   ]
  },
  {
   "cell_type": "markdown",
   "id": "1ea81917",
   "metadata": {},
   "source": [
    "### Exercise 24. String (string indexing)\n",
    "Print 2nd and 4th character from the string."
   ]
  },
  {
   "cell_type": "code",
   "execution_count": 35,
   "id": "93b64ccf",
   "metadata": {},
   "outputs": [
    {
     "name": "stdout",
     "output_type": "stream",
     "text": [
      "o\n",
      "a\n"
     ]
    }
   ],
   "source": [
    "string = \"cocacola\"\n",
    "\n",
    "print(string[1])\n",
    "print(string[3])"
   ]
  },
  {
   "cell_type": "markdown",
   "id": "032cb062",
   "metadata": {},
   "source": [
    "### Exercise 25. String (String indexing)\n",
    "Create a program that finds the letter in the string."
   ]
  },
  {
   "cell_type": "code",
   "execution_count": 36,
   "id": "850d6173",
   "metadata": {},
   "outputs": [
    {
     "name": "stdout",
     "output_type": "stream",
     "text": [
      "194uoasf;lkajp9\n",
      "0\n"
     ]
    }
   ],
   "source": [
    "string = input()\n",
    "\n",
    "if string.find(\"a\") >=0 :\n",
    "    print (\"0\")\n",
    "else :\n",
    "    print (\"-1\")"
   ]
  },
  {
   "cell_type": "markdown",
   "id": "06839d22",
   "metadata": {},
   "source": [
    "### Exercise 26. String (String indexing)\n",
    "Expand the program works better then exercise 25."
   ]
  },
  {
   "cell_type": "code",
   "execution_count": 38,
   "id": "b316f196",
   "metadata": {},
   "outputs": [
    {
     "name": "stdout",
     "output_type": "stream",
     "text": [
      "asdlfkj91ioncv\n",
      "n does exist in the string\n"
     ]
    }
   ],
   "source": [
    "string = input()\n",
    "\n",
    "if string.find(\"n\") >= 0 :\n",
    "    print (\"n does exist in the string\")\n",
    "else : \n",
    "    print (\"n deos not exist in the string\")"
   ]
  },
  {
   "cell_type": "markdown",
   "id": "f89d94ca",
   "metadata": {},
   "source": [
    "### Exercise 27. String (String indexing & Conditional Statement)\n",
    "Expanding the program from Exercise 26."
   ]
  },
  {
   "cell_type": "code",
   "execution_count": 41,
   "id": "fb3fddf3",
   "metadata": {},
   "outputs": [
    {
     "name": "stdout",
     "output_type": "stream",
     "text": [
      "12312321\n"
     ]
    },
    {
     "ename": "ValueError",
     "evalue": "invalid literal for int() with base 10: ''",
     "output_type": "error",
     "traceback": [
      "\u001b[1;31m---------------------------------------------------------------------------\u001b[0m",
      "\u001b[1;31mValueError\u001b[0m                                Traceback (most recent call last)",
      "\u001b[1;32m<ipython-input-41-57fb8239782f>\u001b[0m in \u001b[0;36m<module>\u001b[1;34m\u001b[0m\n\u001b[0;32m      1\u001b[0m \u001b[0midNum\u001b[0m \u001b[1;33m=\u001b[0m \u001b[0minput\u001b[0m\u001b[1;33m(\u001b[0m\u001b[1;33m)\u001b[0m\u001b[1;33m\u001b[0m\u001b[1;33m\u001b[0m\u001b[0m\n\u001b[1;32m----> 2\u001b[1;33m \u001b[0midNum\u001b[0m \u001b[1;33m=\u001b[0m \u001b[0mint\u001b[0m\u001b[1;33m(\u001b[0m\u001b[0midNum\u001b[0m\u001b[1;33m[\u001b[0m\u001b[1;36m8\u001b[0m\u001b[1;33m:\u001b[0m\u001b[1;36m10\u001b[0m\u001b[1;33m]\u001b[0m\u001b[1;33m)\u001b[0m\u001b[1;33m\u001b[0m\u001b[1;33m\u001b[0m\u001b[0m\n\u001b[0m\u001b[0;32m      3\u001b[0m \u001b[1;33m\u001b[0m\u001b[0m\n\u001b[0;32m      4\u001b[0m \u001b[1;32mif\u001b[0m \u001b[0midNum\u001b[0m \u001b[1;33m>=\u001b[0m \u001b[1;36m0\u001b[0m \u001b[1;32mand\u001b[0m \u001b[0midNum\u001b[0m \u001b[1;33m<=\u001b[0m \u001b[1;36m8\u001b[0m \u001b[1;33m:\u001b[0m\u001b[1;33m\u001b[0m\u001b[1;33m\u001b[0m\u001b[0m\n\u001b[0;32m      5\u001b[0m     \u001b[0mprint\u001b[0m \u001b[1;33m(\u001b[0m\u001b[1;34m\"Seoul\"\u001b[0m\u001b[1;33m)\u001b[0m\u001b[1;33m\u001b[0m\u001b[1;33m\u001b[0m\u001b[0m\n",
      "\u001b[1;31mValueError\u001b[0m: invalid literal for int() with base 10: ''"
     ]
    }
   ],
   "source": [
    "idNum = input()\n",
    "idNum = int(idNum[8:10])\n",
    "\n",
    "if idNum >= 0 and idNum <= 8 :\n",
    "    print (\"Seoul\")\n",
    "elif idNum >= 9 and idNum <=12 :\n",
    "    print (\"Busan\")\n"
   ]
  },
  {
   "cell_type": "markdown",
   "id": "60ad7bfa",
   "metadata": {},
   "source": [
    "### Exercise 28. String (Split)"
   ]
  },
  {
   "cell_type": "code",
   "execution_count": 43,
   "id": "29a6b293",
   "metadata": {},
   "outputs": [
    {
     "name": "stdout",
     "output_type": "stream",
     "text": [
      "['Chris', 'Dre', 'SnoopDog', 'Beyonce', '131313', '22222']\n",
      "Chris\n",
      "Dre\n",
      "SnoopDog\n",
      "Beyonce\n",
      "131313\n",
      "22222\n"
     ]
    }
   ],
   "source": [
    "arrays = \"Chris,Dre,SnoopDog,Beyonce,131313,22222\"\n",
    "arrayList = arrays.split(\",\")\n",
    "\n",
    "print (arrayList)\n",
    "for arrays in arrayList :\n",
    "    print (arrays)\n"
   ]
  },
  {
   "cell_type": "code",
   "execution_count": null,
   "id": "4a7e90e5",
   "metadata": {},
   "outputs": [],
   "source": []
  }
 ],
 "metadata": {
  "kernelspec": {
   "display_name": "Python 3",
   "language": "python",
   "name": "python3"
  },
  "language_info": {
   "codemirror_mode": {
    "name": "ipython",
    "version": 3
   },
   "file_extension": ".py",
   "mimetype": "text/x-python",
   "name": "python",
   "nbconvert_exporter": "python",
   "pygments_lexer": "ipython3",
   "version": "3.8.8"
  }
 },
 "nbformat": 4,
 "nbformat_minor": 5
}
