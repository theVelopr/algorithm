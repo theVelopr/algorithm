{
 "cells": [
  {
   "cell_type": "markdown",
   "id": "71f2d8fa",
   "metadata": {},
   "source": [
    "# Condition & Loop "
   ]
  },
  {
   "cell_type": "markdown",
   "id": "03753823",
   "metadata": {},
   "source": [
    "### Exercise 12. Primitive Type\n",
    "theVelpr"
   ]
  },
  {
   "cell_type": "code",
   "execution_count": 1,
   "id": "8611ec0b",
   "metadata": {},
   "outputs": [
    {
     "name": "stdout",
     "output_type": "stream",
     "text": [
      "<class 'int'>\n",
      "<class 'float'>\n",
      "<class 'str'>\n"
     ]
    }
   ],
   "source": [
    "num1 = 1\n",
    "num2 = 1.1\n",
    "String = \"theVelpr\"\n",
    "\n",
    "print (type(num1))\n",
    "print (type(num2))\n",
    "print (type(String))"
   ]
  },
  {
   "cell_type": "markdown",
   "id": "c59eb724",
   "metadata": {},
   "source": [
    "### Exercise 13. \\t & \\n"
   ]
  },
  {
   "cell_type": "code",
   "execution_count": 2,
   "id": "2d1bd0c6",
   "metadata": {},
   "outputs": [
    {
     "name": "stdout",
     "output_type": "stream",
     "text": [
      "11111\t2222222222222\n",
      "33333333\n"
     ]
    }
   ],
   "source": [
    "string = '11111\\t2222222222222\\n33333333'\n",
    "print (string)"
   ]
  },
  {
   "cell_type": "markdown",
   "id": "6b389e43",
   "metadata": {},
   "source": [
    "### Exercise 14. Conditional statement\n",
    "Which number is greater? "
   ]
  },
  {
   "cell_type": "code",
   "execution_count": 3,
   "id": "161bfda8",
   "metadata": {},
   "outputs": [
    {
     "name": "stdout",
     "output_type": "stream",
     "text": [
      "1\n",
      "2\n",
      "2\n"
     ]
    }
   ],
   "source": [
    "a = input()\n",
    "b = input()\n",
    "\n",
    "if a > b : \n",
    "    print (a)\n",
    "else : \n",
    "    print (b)"
   ]
  },
  {
   "cell_type": "markdown",
   "id": "4109e25f",
   "metadata": {},
   "source": [
    "### Exercise 15. Conditional Statement\n",
    "Is it odd number or even number?"
   ]
  },
  {
   "cell_type": "code",
   "execution_count": 8,
   "id": "521096cc",
   "metadata": {},
   "outputs": [
    {
     "name": "stdout",
     "output_type": "stream",
     "text": [
      "1\n",
      "Odd number\n"
     ]
    }
   ],
   "source": [
    "a = input()\n",
    "a = int(a)\n",
    "\n",
    "if a % 2 == 0 :\n",
    "    print (\"Even number.\")\n",
    "else :\n",
    "    print (\"Odd number\")"
   ]
  },
  {
   "cell_type": "markdown",
   "id": "1d2834c8",
   "metadata": {},
   "source": [
    " ### Exercise 16. Conditional Statement\n",
    " Find a lowest number."
   ]
  },
  {
   "cell_type": "code",
   "execution_count": 11,
   "id": "11136293",
   "metadata": {},
   "outputs": [
    {
     "name": "stdout",
     "output_type": "stream",
     "text": [
      "3\n",
      "2\n",
      "1\n",
      "1\n"
     ]
    }
   ],
   "source": [
    "a = int(input())\n",
    "b = int(input())\n",
    "c = int(input())\n",
    "\n",
    "if a > b :\n",
    "    min = b\n",
    "else :\n",
    "    min = a\n",
    "\n",
    "if min < c :\n",
    "    print (min)\n",
    "else :\n",
    "    print (c)\n"
   ]
  },
  {
   "cell_type": "markdown",
   "id": "8ce826ba",
   "metadata": {},
   "source": [
    "### Exercise 17. Conditional Statement\n",
    "What is your grade?"
   ]
  },
  {
   "cell_type": "code",
   "execution_count": 13,
   "id": "9e62edc2",
   "metadata": {},
   "outputs": [
    {
     "name": "stdout",
     "output_type": "stream",
     "text": [
      "60\n",
      "F\n"
     ]
    }
   ],
   "source": [
    "score = int(input())\n",
    "\n",
    "if score <= 100 & score >= 81 :\n",
    "    print('A')\n",
    "elif score <= 80 & score > 61 :\n",
    "    print('C')\n",
    "elif score <= 60 & score >= 0 :\n",
    "    print('F')"
   ]
  },
  {
   "cell_type": "markdown",
   "id": "551f0f3d",
   "metadata": {},
   "source": [
    "### Exercise 18. Data Structure (List)\n",
    "Extract the year of birth from Identification number."
   ]
  },
  {
   "cell_type": "code",
   "execution_count": 16,
   "id": "162e3912",
   "metadata": {},
   "outputs": [
    {
     "name": "stdout",
     "output_type": "stream",
     "text": [
      "79\n"
     ]
    }
   ],
   "source": [
    "pid = \"790101-1234567\"\n",
    "\n",
    "print (pid[0:2])"
   ]
  },
  {
   "cell_type": "markdown",
   "id": "9aaadfad",
   "metadata": {},
   "source": [
    "### Exercise 19. Data Structure (List)\n",
    "Extract the gender identification from identificagtgion number.\n",
    "Male : 1, 3 \n",
    "Female : 2, 4"
   ]
  },
  {
   "cell_type": "code",
   "execution_count": 21,
   "id": "09d940ce",
   "metadata": {},
   "outputs": [
    {
     "ename": "TypeError",
     "evalue": "unsupported operand type(s) for |: 'str' and 'str'",
     "output_type": "error",
     "traceback": [
      "\u001b[1;31m---------------------------------------------------------------------------\u001b[0m",
      "\u001b[1;31mTypeError\u001b[0m                                 Traceback (most recent call last)",
      "\u001b[1;32m<ipython-input-21-adcd18340faf>\u001b[0m in \u001b[0;36m<module>\u001b[1;34m\u001b[0m\n\u001b[0;32m      1\u001b[0m \u001b[0mpid\u001b[0m \u001b[1;33m=\u001b[0m \u001b[1;34m\"790101-1234567\"\u001b[0m\u001b[1;33m\u001b[0m\u001b[1;33m\u001b[0m\u001b[0m\n\u001b[0;32m      2\u001b[0m \u001b[1;33m\u001b[0m\u001b[0m\n\u001b[1;32m----> 3\u001b[1;33m \u001b[1;32mif\u001b[0m \u001b[0mpid\u001b[0m\u001b[1;33m[\u001b[0m\u001b[1;36m7\u001b[0m\u001b[1;33m]\u001b[0m \u001b[1;33m==\u001b[0m \u001b[1;34m'1'\u001b[0m \u001b[1;33m|\u001b[0m \u001b[0mpid\u001b[0m\u001b[1;33m[\u001b[0m\u001b[1;36m7\u001b[0m\u001b[1;33m]\u001b[0m \u001b[1;33m==\u001b[0m \u001b[1;34m'3'\u001b[0m \u001b[1;33m:\u001b[0m\u001b[1;33m\u001b[0m\u001b[1;33m\u001b[0m\u001b[0m\n\u001b[0m\u001b[0;32m      4\u001b[0m     \u001b[0mprint\u001b[0m \u001b[1;33m(\u001b[0m\u001b[1;34m\"Male\"\u001b[0m\u001b[1;33m)\u001b[0m\u001b[1;33m\u001b[0m\u001b[1;33m\u001b[0m\u001b[0m\n\u001b[0;32m      5\u001b[0m \u001b[1;32melif\u001b[0m \u001b[0mpd\u001b[0m\u001b[1;33m[\u001b[0m\u001b[1;36m7\u001b[0m\u001b[1;33m]\u001b[0m \u001b[1;33m==\u001b[0m \u001b[1;34m'2'\u001b[0m \u001b[1;33m|\u001b[0m \u001b[0mpid\u001b[0m\u001b[1;33m[\u001b[0m\u001b[1;36m7\u001b[0m\u001b[1;33m]\u001b[0m \u001b[1;33m==\u001b[0m \u001b[1;34m'4'\u001b[0m \u001b[1;33m:\u001b[0m\u001b[1;33m\u001b[0m\u001b[1;33m\u001b[0m\u001b[0m\n",
      "\u001b[1;31mTypeError\u001b[0m: unsupported operand type(s) for |: 'str' and 'str'"
     ]
    }
   ],
   "source": [
    "pid = \"790101-1234567\"\n",
    "\n",
    "if pid[7] == '1' | pid[7] == '3' :\n",
    "    print (\"Male\")\n",
    "elif pd[7] == '2' | pid[7] == '4' :\n",
    "    print (\"Female\")"
   ]
  },
  {
   "cell_type": "code",
   "execution_count": null,
   "id": "a997491e",
   "metadata": {},
   "outputs": [],
   "source": []
  }
 ],
 "metadata": {
  "kernelspec": {
   "display_name": "Python 3",
   "language": "python",
   "name": "python3"
  },
  "language_info": {
   "codemirror_mode": {
    "name": "ipython",
    "version": 3
   },
   "file_extension": ".py",
   "mimetype": "text/x-python",
   "name": "python",
   "nbconvert_exporter": "python",
   "pygments_lexer": "ipython3",
   "version": "3.8.8"
  }
 },
 "nbformat": 4,
 "nbformat_minor": 5
}
