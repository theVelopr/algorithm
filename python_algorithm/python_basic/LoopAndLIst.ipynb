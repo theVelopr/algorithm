{
 "cells": [
  {
   "cell_type": "code",
   "execution_count": 2,
   "id": "7b34d39d",
   "metadata": {},
   "outputs": [
    {
     "name": "stdout",
     "output_type": "stream",
     "text": [
      "1\n",
      "3\n",
      "6\n",
      "10\n",
      "15\n",
      "21\n",
      "28\n",
      "36\n",
      "45\n",
      "55\n"
     ]
    }
   ],
   "source": [
    "sum = 0\n",
    "for num in range (1, 11) :\n",
    "    sum += num\n",
    "    print (sum)"
   ]
  },
  {
   "cell_type": "code",
   "execution_count": 3,
   "id": "c3100e09",
   "metadata": {},
   "outputs": [
    {
     "name": "stdout",
     "output_type": "stream",
     "text": [
      "2\n",
      "2 x 1 = 2\n",
      "2 x 2 = 4\n",
      "2 x 3 = 6\n",
      "2 x 4 = 8\n",
      "2 x 5 = 10\n",
      "2 x 6 = 12\n",
      "2 x 7 = 14\n",
      "2 x 8 = 16\n",
      "2 x 9 = 18\n"
     ]
    }
   ],
   "source": [
    "digit = int(input())\n",
    "for num in range (1, 10) :\n",
    "    print (digit, \"x\", num, \"=\", digit * num)"
   ]
  },
  {
   "cell_type": "code",
   "execution_count": 5,
   "id": "81e90258",
   "metadata": {},
   "outputs": [
    {
     "name": "stdout",
     "output_type": "stream",
     "text": [
      "1,2,3,4,5\n",
      "1\n",
      "2\n",
      "3\n",
      "4\n",
      "5\n"
     ]
    }
   ],
   "source": [
    "String = input()\n",
    "for string in String.split(\",\") :\n",
    "    print (string)"
   ]
  },
  {
   "cell_type": "code",
   "execution_count": 6,
   "id": "f280cee5",
   "metadata": {},
   "outputs": [
    {
     "name": "stdout",
     "output_type": "stream",
     "text": [
      "1\n",
      "2\n",
      "3\n",
      "4\n"
     ]
    }
   ],
   "source": [
    "# Strip\n",
    "\n",
    "String = \"[1],[2],[3],[4]\"\n",
    "for string in String.split(\",\") :\n",
    "    print (string.strip(\"[]\"))"
   ]
  },
  {
   "cell_type": "code",
   "execution_count": 7,
   "id": "5d9ab33f",
   "metadata": {},
   "outputs": [
    {
     "name": "stdout",
     "output_type": "stream",
     "text": [
      "2\n",
      "4\n",
      "6\n",
      "8\n"
     ]
    }
   ],
   "source": [
    "for num in range (1, 10) :\n",
    "    if num % 2 == 0 :\n",
    "        print (num)"
   ]
  },
  {
   "cell_type": "code",
   "execution_count": 9,
   "id": "2d55e61a",
   "metadata": {},
   "outputs": [
    {
     "name": "stdout",
     "output_type": "stream",
     "text": [
      "5050\n",
      "101\n"
     ]
    }
   ],
   "source": [
    "total, num = 0, 1\n",
    "\n",
    "while num < 101 :\n",
    "    total += num\n",
    "    num += 1\n",
    "print (total)\n",
    "print (num)"
   ]
  },
  {
   "cell_type": "code",
   "execution_count": 12,
   "id": "645cb95b",
   "metadata": {},
   "outputs": [
    {
     "name": "stdout",
     "output_type": "stream",
     "text": [
      "[0, 3, 2, 3, 4]\n"
     ]
    }
   ],
   "source": [
    "# list\n",
    "\n",
    "numList = [0, -1, 3, 2, -1, 3, 4, -4, -5]\n",
    "numList2 = list()\n",
    "\n",
    "for index, num in enumerate(numList) :\n",
    "    if num >= 0:\n",
    "        numList2.append(num)\n",
    "print (numList2)"
   ]
  },
  {
   "cell_type": "code",
   "execution_count": null,
   "id": "a63313c5",
   "metadata": {},
   "outputs": [],
   "source": []
  }
 ],
 "metadata": {
  "kernelspec": {
   "display_name": "Python 3",
   "language": "python",
   "name": "python3"
  },
  "language_info": {
   "codemirror_mode": {
    "name": "ipython",
    "version": 3
   },
   "file_extension": ".py",
   "mimetype": "text/x-python",
   "name": "python",
   "nbconvert_exporter": "python",
   "pygments_lexer": "ipython3",
   "version": "3.8.8"
  }
 },
 "nbformat": 4,
 "nbformat_minor": 5
}
